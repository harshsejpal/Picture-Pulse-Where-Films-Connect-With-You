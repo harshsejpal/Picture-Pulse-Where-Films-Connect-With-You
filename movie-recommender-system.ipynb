{
 "cells": [
  {
   "cell_type": "code",
   "execution_count": 129,
   "id": "b1f0c3a1-00f5-4ba4-a02f-2431ac9271f8",
   "metadata": {},
   "outputs": [],
   "source": [
    "import numpy as np\n",
    "import pandas as pd"
   ]
  },
  {
   "cell_type": "code",
   "execution_count": 130,
   "id": "34658b56-68f8-4bb0-a582-79852b95fc3e",
   "metadata": {},
   "outputs": [],
   "source": [
    "movies =  pd.read_csv('tmdb_5000_movies.csv')\n",
    "credits = pd.read_csv('tmdb_5000_credits.csv')"
   ]
  },
  {
   "cell_type": "code",
   "execution_count": 131,
   "id": "e1b8ae4a-d03b-4596-8cb0-b600df401672",
   "metadata": {},
   "outputs": [
    {
     "data": {
      "text/plain": [
       "<bound method NDFrame.head of          budget                                             genres  \\\n",
       "0     237000000  [{\"id\": 28, \"name\": \"Action\"}, {\"id\": 12, \"nam...   \n",
       "1     300000000  [{\"id\": 12, \"name\": \"Adventure\"}, {\"id\": 14, \"...   \n",
       "2     245000000  [{\"id\": 28, \"name\": \"Action\"}, {\"id\": 12, \"nam...   \n",
       "3     250000000  [{\"id\": 28, \"name\": \"Action\"}, {\"id\": 80, \"nam...   \n",
       "4     260000000  [{\"id\": 28, \"name\": \"Action\"}, {\"id\": 12, \"nam...   \n",
       "...         ...                                                ...   \n",
       "4798     220000  [{\"id\": 28, \"name\": \"Action\"}, {\"id\": 80, \"nam...   \n",
       "4799       9000  [{\"id\": 35, \"name\": \"Comedy\"}, {\"id\": 10749, \"...   \n",
       "4800          0  [{\"id\": 35, \"name\": \"Comedy\"}, {\"id\": 18, \"nam...   \n",
       "4801          0                                                 []   \n",
       "4802          0                [{\"id\": 99, \"name\": \"Documentary\"}]   \n",
       "\n",
       "                                               homepage      id  \\\n",
       "0                           http://www.avatarmovie.com/   19995   \n",
       "1          http://disney.go.com/disneypictures/pirates/     285   \n",
       "2           http://www.sonypictures.com/movies/spectre/  206647   \n",
       "3                    http://www.thedarkknightrises.com/   49026   \n",
       "4                  http://movies.disney.com/john-carter   49529   \n",
       "...                                                 ...     ...   \n",
       "4798                                                NaN    9367   \n",
       "4799                                                NaN   72766   \n",
       "4800  http://www.hallmarkchannel.com/signedsealeddel...  231617   \n",
       "4801                        http://shanghaicalling.com/  126186   \n",
       "4802                                                NaN   25975   \n",
       "\n",
       "                                               keywords original_language  \\\n",
       "0     [{\"id\": 1463, \"name\": \"culture clash\"}, {\"id\":...                en   \n",
       "1     [{\"id\": 270, \"name\": \"ocean\"}, {\"id\": 726, \"na...                en   \n",
       "2     [{\"id\": 470, \"name\": \"spy\"}, {\"id\": 818, \"name...                en   \n",
       "3     [{\"id\": 849, \"name\": \"dc comics\"}, {\"id\": 853,...                en   \n",
       "4     [{\"id\": 818, \"name\": \"based on novel\"}, {\"id\":...                en   \n",
       "...                                                 ...               ...   \n",
       "4798  [{\"id\": 5616, \"name\": \"united states\\u2013mexi...                es   \n",
       "4799                                                 []                en   \n",
       "4800  [{\"id\": 248, \"name\": \"date\"}, {\"id\": 699, \"nam...                en   \n",
       "4801                                                 []                en   \n",
       "4802  [{\"id\": 1523, \"name\": \"obsession\"}, {\"id\": 224...                en   \n",
       "\n",
       "                                original_title  \\\n",
       "0                                       Avatar   \n",
       "1     Pirates of the Caribbean: At World's End   \n",
       "2                                      Spectre   \n",
       "3                        The Dark Knight Rises   \n",
       "4                                  John Carter   \n",
       "...                                        ...   \n",
       "4798                               El Mariachi   \n",
       "4799                                 Newlyweds   \n",
       "4800                 Signed, Sealed, Delivered   \n",
       "4801                          Shanghai Calling   \n",
       "4802                         My Date with Drew   \n",
       "\n",
       "                                               overview  popularity  \\\n",
       "0     In the 22nd century, a paraplegic Marine is di...  150.437577   \n",
       "1     Captain Barbossa, long believed to be dead, ha...  139.082615   \n",
       "2     A cryptic message from Bond’s past sends him o...  107.376788   \n",
       "3     Following the death of District Attorney Harve...  112.312950   \n",
       "4     John Carter is a war-weary, former military ca...   43.926995   \n",
       "...                                                 ...         ...   \n",
       "4798  El Mariachi just wants to play his guitar and ...   14.269792   \n",
       "4799  A newlywed couple's honeymoon is upended by th...    0.642552   \n",
       "4800  \"Signed, Sealed, Delivered\" introduces a dedic...    1.444476   \n",
       "4801  When ambitious New York attorney Sam is sent t...    0.857008   \n",
       "4802  Ever since the second grade when he first saw ...    1.929883   \n",
       "\n",
       "                                   production_companies  \\\n",
       "0     [{\"name\": \"Ingenious Film Partners\", \"id\": 289...   \n",
       "1     [{\"name\": \"Walt Disney Pictures\", \"id\": 2}, {\"...   \n",
       "2     [{\"name\": \"Columbia Pictures\", \"id\": 5}, {\"nam...   \n",
       "3     [{\"name\": \"Legendary Pictures\", \"id\": 923}, {\"...   \n",
       "4           [{\"name\": \"Walt Disney Pictures\", \"id\": 2}]   \n",
       "...                                                 ...   \n",
       "4798           [{\"name\": \"Columbia Pictures\", \"id\": 5}]   \n",
       "4799                                                 []   \n",
       "4800  [{\"name\": \"Front Street Pictures\", \"id\": 3958}...   \n",
       "4801                                                 []   \n",
       "4802  [{\"name\": \"rusty bear entertainment\", \"id\": 87...   \n",
       "\n",
       "                                   production_countries release_date  \\\n",
       "0     [{\"iso_3166_1\": \"US\", \"name\": \"United States o...   2009-12-10   \n",
       "1     [{\"iso_3166_1\": \"US\", \"name\": \"United States o...   2007-05-19   \n",
       "2     [{\"iso_3166_1\": \"GB\", \"name\": \"United Kingdom\"...   2015-10-26   \n",
       "3     [{\"iso_3166_1\": \"US\", \"name\": \"United States o...   2012-07-16   \n",
       "4     [{\"iso_3166_1\": \"US\", \"name\": \"United States o...   2012-03-07   \n",
       "...                                                 ...          ...   \n",
       "4798  [{\"iso_3166_1\": \"MX\", \"name\": \"Mexico\"}, {\"iso...   1992-09-04   \n",
       "4799                                                 []   2011-12-26   \n",
       "4800  [{\"iso_3166_1\": \"US\", \"name\": \"United States o...   2013-10-13   \n",
       "4801  [{\"iso_3166_1\": \"US\", \"name\": \"United States o...   2012-05-03   \n",
       "4802  [{\"iso_3166_1\": \"US\", \"name\": \"United States o...   2005-08-05   \n",
       "\n",
       "         revenue  runtime                                   spoken_languages  \\\n",
       "0     2787965087    162.0  [{\"iso_639_1\": \"en\", \"name\": \"English\"}, {\"iso...   \n",
       "1      961000000    169.0           [{\"iso_639_1\": \"en\", \"name\": \"English\"}]   \n",
       "2      880674609    148.0  [{\"iso_639_1\": \"fr\", \"name\": \"Fran\\u00e7ais\"},...   \n",
       "3     1084939099    165.0           [{\"iso_639_1\": \"en\", \"name\": \"English\"}]   \n",
       "4      284139100    132.0           [{\"iso_639_1\": \"en\", \"name\": \"English\"}]   \n",
       "...          ...      ...                                                ...   \n",
       "4798     2040920     81.0      [{\"iso_639_1\": \"es\", \"name\": \"Espa\\u00f1ol\"}]   \n",
       "4799           0     85.0                                                 []   \n",
       "4800           0    120.0           [{\"iso_639_1\": \"en\", \"name\": \"English\"}]   \n",
       "4801           0     98.0           [{\"iso_639_1\": \"en\", \"name\": \"English\"}]   \n",
       "4802           0     90.0           [{\"iso_639_1\": \"en\", \"name\": \"English\"}]   \n",
       "\n",
       "        status                                            tagline  \\\n",
       "0     Released                        Enter the World of Pandora.   \n",
       "1     Released     At the end of the world, the adventure begins.   \n",
       "2     Released                              A Plan No One Escapes   \n",
       "3     Released                                    The Legend Ends   \n",
       "4     Released               Lost in our world, found in another.   \n",
       "...        ...                                                ...   \n",
       "4798  Released  He didn't come looking for trouble, but troubl...   \n",
       "4799  Released  A newlywed couple's honeymoon is upended by th...   \n",
       "4800  Released                                                NaN   \n",
       "4801  Released                           A New Yorker in Shanghai   \n",
       "4802  Released                                                NaN   \n",
       "\n",
       "                                         title  vote_average  vote_count  \n",
       "0                                       Avatar           7.2       11800  \n",
       "1     Pirates of the Caribbean: At World's End           6.9        4500  \n",
       "2                                      Spectre           6.3        4466  \n",
       "3                        The Dark Knight Rises           7.6        9106  \n",
       "4                                  John Carter           6.1        2124  \n",
       "...                                        ...           ...         ...  \n",
       "4798                               El Mariachi           6.6         238  \n",
       "4799                                 Newlyweds           5.9           5  \n",
       "4800                 Signed, Sealed, Delivered           7.0           6  \n",
       "4801                          Shanghai Calling           5.7           7  \n",
       "4802                         My Date with Drew           6.3          16  \n",
       "\n",
       "[4803 rows x 20 columns]>"
      ]
     },
     "execution_count": 131,
     "metadata": {},
     "output_type": "execute_result"
    }
   ],
   "source": [
    "movies.head"
   ]
  },
  {
   "cell_type": "code",
   "execution_count": 132,
   "id": "79fac056-e0ca-452d-99da-2dff39983a29",
   "metadata": {},
   "outputs": [
    {
     "data": {
      "text/plain": [
       "array(['[{\"cast_id\": 242, \"character\": \"Jake Sully\", \"credit_id\": \"5602a8a7c3a3685532001c9a\", \"gender\": 2, \"id\": 65731, \"name\": \"Sam Worthington\", \"order\": 0}, {\"cast_id\": 3, \"character\": \"Neytiri\", \"credit_id\": \"52fe48009251416c750ac9cb\", \"gender\": 1, \"id\": 8691, \"name\": \"Zoe Saldana\", \"order\": 1}, {\"cast_id\": 25, \"character\": \"Dr. Grace Augustine\", \"credit_id\": \"52fe48009251416c750aca39\", \"gender\": 1, \"id\": 10205, \"name\": \"Sigourney Weaver\", \"order\": 2}, {\"cast_id\": 4, \"character\": \"Col. Quaritch\", \"credit_id\": \"52fe48009251416c750ac9cf\", \"gender\": 2, \"id\": 32747, \"name\": \"Stephen Lang\", \"order\": 3}, {\"cast_id\": 5, \"character\": \"Trudy Chacon\", \"credit_id\": \"52fe48009251416c750ac9d3\", \"gender\": 1, \"id\": 17647, \"name\": \"Michelle Rodriguez\", \"order\": 4}, {\"cast_id\": 8, \"character\": \"Selfridge\", \"credit_id\": \"52fe48009251416c750ac9e1\", \"gender\": 2, \"id\": 1771, \"name\": \"Giovanni Ribisi\", \"order\": 5}, {\"cast_id\": 7, \"character\": \"Norm Spellman\", \"credit_id\": \"52fe48009251416c750ac9dd\", \"gender\": 2, \"id\": 59231, \"name\": \"Joel David Moore\", \"order\": 6}, {\"cast_id\": 9, \"character\": \"Moat\", \"credit_id\": \"52fe48009251416c750ac9e5\", \"gender\": 1, \"id\": 30485, \"name\": \"CCH Pounder\", \"order\": 7}, {\"cast_id\": 11, \"character\": \"Eytukan\", \"credit_id\": \"52fe48009251416c750ac9ed\", \"gender\": 2, \"id\": 15853, \"name\": \"Wes Studi\", \"order\": 8}, {\"cast_id\": 10, \"character\": \"Tsu\\'Tey\", \"credit_id\": \"52fe48009251416c750ac9e9\", \"gender\": 2, \"id\": 10964, \"name\": \"Laz Alonso\", \"order\": 9}, {\"cast_id\": 12, \"character\": \"Dr. Max Patel\", \"credit_id\": \"52fe48009251416c750ac9f1\", \"gender\": 2, \"id\": 95697, \"name\": \"Dileep Rao\", \"order\": 10}, {\"cast_id\": 13, \"character\": \"Lyle Wainfleet\", \"credit_id\": \"52fe48009251416c750ac9f5\", \"gender\": 2, \"id\": 98215, \"name\": \"Matt Gerald\", \"order\": 11}, {\"cast_id\": 32, \"character\": \"Private Fike\", \"credit_id\": \"52fe48009251416c750aca5b\", \"gender\": 2, \"id\": 154153, \"name\": \"Sean Anthony Moran\", \"order\": 12}, {\"cast_id\": 33, \"character\": \"Cryo Vault Med Tech\", \"credit_id\": \"52fe48009251416c750aca5f\", \"gender\": 2, \"id\": 397312, \"name\": \"Jason Whyte\", \"order\": 13}, {\"cast_id\": 34, \"character\": \"Venture Star Crew Chief\", \"credit_id\": \"52fe48009251416c750aca63\", \"gender\": 2, \"id\": 42317, \"name\": \"Scott Lawrence\", \"order\": 14}, {\"cast_id\": 35, \"character\": \"Lock Up Trooper\", \"credit_id\": \"52fe48009251416c750aca67\", \"gender\": 2, \"id\": 986734, \"name\": \"Kelly Kilgour\", \"order\": 15}, {\"cast_id\": 36, \"character\": \"Shuttle Pilot\", \"credit_id\": \"52fe48009251416c750aca6b\", \"gender\": 0, \"id\": 1207227, \"name\": \"James Patrick Pitt\", \"order\": 16}, {\"cast_id\": 37, \"character\": \"Shuttle Co-Pilot\", \"credit_id\": \"52fe48009251416c750aca6f\", \"gender\": 0, \"id\": 1180936, \"name\": \"Sean Patrick Murphy\", \"order\": 17}, {\"cast_id\": 38, \"character\": \"Shuttle Crew Chief\", \"credit_id\": \"52fe48009251416c750aca73\", \"gender\": 2, \"id\": 1019578, \"name\": \"Peter Dillon\", \"order\": 18}, {\"cast_id\": 39, \"character\": \"Tractor Operator / Troupe\", \"credit_id\": \"52fe48009251416c750aca77\", \"gender\": 0, \"id\": 91443, \"name\": \"Kevin Dorman\", \"order\": 19}, {\"cast_id\": 40, \"character\": \"Dragon Gunship Pilot\", \"credit_id\": \"52fe48009251416c750aca7b\", \"gender\": 2, \"id\": 173391, \"name\": \"Kelson Henderson\", \"order\": 20}, {\"cast_id\": 41, \"character\": \"Dragon Gunship Gunner\", \"credit_id\": \"52fe48009251416c750aca7f\", \"gender\": 0, \"id\": 1207236, \"name\": \"David Van Horn\", \"order\": 21}, {\"cast_id\": 42, \"character\": \"Dragon Gunship Navigator\", \"credit_id\": \"52fe48009251416c750aca83\", \"gender\": 0, \"id\": 215913, \"name\": \"Jacob Tomuri\", \"order\": 22}, {\"cast_id\": 43, \"character\": \"Suit #1\", \"credit_id\": \"52fe48009251416c750aca87\", \"gender\": 0, \"id\": 143206, \"name\": \"Michael Blain-Rozgay\", \"order\": 23}, {\"cast_id\": 44, \"character\": \"Suit #2\", \"credit_id\": \"52fe48009251416c750aca8b\", \"gender\": 2, \"id\": 169676, \"name\": \"Jon Curry\", \"order\": 24}, {\"cast_id\": 46, \"character\": \"Ambient Room Tech\", \"credit_id\": \"52fe48009251416c750aca8f\", \"gender\": 0, \"id\": 1048610, \"name\": \"Luke Hawker\", \"order\": 25}, {\"cast_id\": 47, \"character\": \"Ambient Room Tech / Troupe\", \"credit_id\": \"52fe48009251416c750aca93\", \"gender\": 0, \"id\": 42288, \"name\": \"Woody Schultz\", \"order\": 26}, {\"cast_id\": 48, \"character\": \"Horse Clan Leader\", \"credit_id\": \"52fe48009251416c750aca97\", \"gender\": 2, \"id\": 68278, \"name\": \"Peter Mensah\", \"order\": 27}, {\"cast_id\": 49, \"character\": \"Link Room Tech\", \"credit_id\": \"52fe48009251416c750aca9b\", \"gender\": 0, \"id\": 1207247, \"name\": \"Sonia Yee\", \"order\": 28}, {\"cast_id\": 50, \"character\": \"Basketball Avatar / Troupe\", \"credit_id\": \"52fe48009251416c750aca9f\", \"gender\": 1, \"id\": 1207248, \"name\": \"Jahnel Curfman\", \"order\": 29}, {\"cast_id\": 51, \"character\": \"Basketball Avatar\", \"credit_id\": \"52fe48009251416c750acaa3\", \"gender\": 0, \"id\": 89714, \"name\": \"Ilram Choi\", \"order\": 30}, {\"cast_id\": 52, \"character\": \"Na\\'vi Child\", \"credit_id\": \"52fe48009251416c750acaa7\", \"gender\": 0, \"id\": 1207249, \"name\": \"Kyla Warren\", \"order\": 31}, {\"cast_id\": 53, \"character\": \"Troupe\", \"credit_id\": \"52fe48009251416c750acaab\", \"gender\": 0, \"id\": 1207250, \"name\": \"Lisa Roumain\", \"order\": 32}, {\"cast_id\": 54, \"character\": \"Troupe\", \"credit_id\": \"52fe48009251416c750acaaf\", \"gender\": 1, \"id\": 83105, \"name\": \"Debra Wilson\", \"order\": 33}, {\"cast_id\": 57, \"character\": \"Troupe\", \"credit_id\": \"52fe48009251416c750acabb\", \"gender\": 0, \"id\": 1207253, \"name\": \"Chris Mala\", \"order\": 34}, {\"cast_id\": 55, \"character\": \"Troupe\", \"credit_id\": \"52fe48009251416c750acab3\", \"gender\": 0, \"id\": 1207251, \"name\": \"Taylor Kibby\", \"order\": 35}, {\"cast_id\": 56, \"character\": \"Troupe\", \"credit_id\": \"52fe48009251416c750acab7\", \"gender\": 0, \"id\": 1207252, \"name\": \"Jodie Landau\", \"order\": 36}, {\"cast_id\": 58, \"character\": \"Troupe\", \"credit_id\": \"52fe48009251416c750acabf\", \"gender\": 0, \"id\": 1207254, \"name\": \"Julie Lamm\", \"order\": 37}, {\"cast_id\": 59, \"character\": \"Troupe\", \"credit_id\": \"52fe48009251416c750acac3\", \"gender\": 0, \"id\": 1207257, \"name\": \"Cullen B. Madden\", \"order\": 38}, {\"cast_id\": 60, \"character\": \"Troupe\", \"credit_id\": \"52fe48009251416c750acac7\", \"gender\": 0, \"id\": 1207259, \"name\": \"Joseph Brady Madden\", \"order\": 39}, {\"cast_id\": 61, \"character\": \"Troupe\", \"credit_id\": \"52fe48009251416c750acacb\", \"gender\": 0, \"id\": 1207262, \"name\": \"Frankie Torres\", \"order\": 40}, {\"cast_id\": 62, \"character\": \"Troupe\", \"credit_id\": \"52fe48009251416c750acacf\", \"gender\": 1, \"id\": 1158600, \"name\": \"Austin Wilson\", \"order\": 41}, {\"cast_id\": 63, \"character\": \"Troupe\", \"credit_id\": \"52fe48019251416c750acad3\", \"gender\": 1, \"id\": 983705, \"name\": \"Sara Wilson\", \"order\": 42}, {\"cast_id\": 64, \"character\": \"Troupe\", \"credit_id\": \"52fe48019251416c750acad7\", \"gender\": 0, \"id\": 1207263, \"name\": \"Tamica Washington-Miller\", \"order\": 43}, {\"cast_id\": 65, \"character\": \"Op Center Staff\", \"credit_id\": \"52fe48019251416c750acadb\", \"gender\": 1, \"id\": 1145098, \"name\": \"Lucy Briant\", \"order\": 44}, {\"cast_id\": 66, \"character\": \"Op Center Staff\", \"credit_id\": \"52fe48019251416c750acadf\", \"gender\": 2, \"id\": 33305, \"name\": \"Nathan Meister\", \"order\": 45}, {\"cast_id\": 67, \"character\": \"Op Center Staff\", \"credit_id\": \"52fe48019251416c750acae3\", \"gender\": 0, \"id\": 1207264, \"name\": \"Gerry Blair\", \"order\": 46}, {\"cast_id\": 68, \"character\": \"Op Center Staff\", \"credit_id\": \"52fe48019251416c750acae7\", \"gender\": 2, \"id\": 33311, \"name\": \"Matthew Chamberlain\", \"order\": 47}, {\"cast_id\": 69, \"character\": \"Op Center Staff\", \"credit_id\": \"52fe48019251416c750acaeb\", \"gender\": 0, \"id\": 1207265, \"name\": \"Paul Yates\", \"order\": 48}, {\"cast_id\": 70, \"character\": \"Op Center Duty Officer\", \"credit_id\": \"52fe48019251416c750acaef\", \"gender\": 0, \"id\": 1207266, \"name\": \"Wray Wilson\", \"order\": 49}, {\"cast_id\": 71, \"character\": \"Op Center Staff\", \"credit_id\": \"52fe48019251416c750acaf3\", \"gender\": 2, \"id\": 54492, \"name\": \"James Gaylyn\", \"order\": 50}, {\"cast_id\": 72, \"character\": \"Dancer\", \"credit_id\": \"52fe48019251416c750acaf7\", \"gender\": 0, \"id\": 1207267, \"name\": \"Melvin Leno Clark III\", \"order\": 51}, {\"cast_id\": 73, \"character\": \"Dancer\", \"credit_id\": \"52fe48019251416c750acafb\", \"gender\": 0, \"id\": 1207268, \"name\": \"Carvon Futrell\", \"order\": 52}, {\"cast_id\": 74, \"character\": \"Dancer\", \"credit_id\": \"52fe48019251416c750acaff\", \"gender\": 0, \"id\": 1207269, \"name\": \"Brandon Jelkes\", \"order\": 53}, {\"cast_id\": 75, \"character\": \"Dancer\", \"credit_id\": \"52fe48019251416c750acb03\", \"gender\": 0, \"id\": 1207270, \"name\": \"Micah Moch\", \"order\": 54}, {\"cast_id\": 76, \"character\": \"Dancer\", \"credit_id\": \"52fe48019251416c750acb07\", \"gender\": 0, \"id\": 1207271, \"name\": \"Hanniyah Muhammad\", \"order\": 55}, {\"cast_id\": 77, \"character\": \"Dancer\", \"credit_id\": \"52fe48019251416c750acb0b\", \"gender\": 0, \"id\": 1207272, \"name\": \"Christopher Nolen\", \"order\": 56}, {\"cast_id\": 78, \"character\": \"Dancer\", \"credit_id\": \"52fe48019251416c750acb0f\", \"gender\": 0, \"id\": 1207273, \"name\": \"Christa Oliver\", \"order\": 57}, {\"cast_id\": 79, \"character\": \"Dancer\", \"credit_id\": \"52fe48019251416c750acb13\", \"gender\": 0, \"id\": 1207274, \"name\": \"April Marie Thomas\", \"order\": 58}, {\"cast_id\": 80, \"character\": \"Dancer\", \"credit_id\": \"52fe48019251416c750acb17\", \"gender\": 0, \"id\": 1207275, \"name\": \"Bravita A. Threatt\", \"order\": 59}, {\"cast_id\": 81, \"character\": \"Mining Chief (uncredited)\", \"credit_id\": \"52fe48019251416c750acb1b\", \"gender\": 0, \"id\": 1207276, \"name\": \"Colin Bleasdale\", \"order\": 60}, {\"cast_id\": 82, \"character\": \"Veteran Miner (uncredited)\", \"credit_id\": \"52fe48019251416c750acb1f\", \"gender\": 0, \"id\": 107969, \"name\": \"Mike Bodnar\", \"order\": 61}, {\"cast_id\": 83, \"character\": \"Richard (uncredited)\", \"credit_id\": \"52fe48019251416c750acb23\", \"gender\": 0, \"id\": 1207278, \"name\": \"Matt Clayton\", \"order\": 62}, {\"cast_id\": 84, \"character\": \"Nav\\'i (uncredited)\", \"credit_id\": \"52fe48019251416c750acb27\", \"gender\": 1, \"id\": 147898, \"name\": \"Nicole Dionne\", \"order\": 63}, {\"cast_id\": 85, \"character\": \"Trooper (uncredited)\", \"credit_id\": \"52fe48019251416c750acb2b\", \"gender\": 0, \"id\": 1207280, \"name\": \"Jamie Harrison\", \"order\": 64}, {\"cast_id\": 86, \"character\": \"Trooper (uncredited)\", \"credit_id\": \"52fe48019251416c750acb2f\", \"gender\": 0, \"id\": 1207281, \"name\": \"Allan Henry\", \"order\": 65}, {\"cast_id\": 87, \"character\": \"Ground Technician (uncredited)\", \"credit_id\": \"52fe48019251416c750acb33\", \"gender\": 2, \"id\": 1207282, \"name\": \"Anthony Ingruber\", \"order\": 66}, {\"cast_id\": 88, \"character\": \"Flight Crew Mechanic (uncredited)\", \"credit_id\": \"52fe48019251416c750acb37\", \"gender\": 0, \"id\": 1207283, \"name\": \"Ashley Jeffery\", \"order\": 67}, {\"cast_id\": 14, \"character\": \"Samson Pilot\", \"credit_id\": \"52fe48009251416c750ac9f9\", \"gender\": 0, \"id\": 98216, \"name\": \"Dean Knowsley\", \"order\": 68}, {\"cast_id\": 89, \"character\": \"Trooper (uncredited)\", \"credit_id\": \"52fe48019251416c750acb3b\", \"gender\": 0, \"id\": 1201399, \"name\": \"Joseph Mika-Hunt\", \"order\": 69}, {\"cast_id\": 90, \"character\": \"Banshee (uncredited)\", \"credit_id\": \"52fe48019251416c750acb3f\", \"gender\": 0, \"id\": 236696, \"name\": \"Terry Notary\", \"order\": 70}, {\"cast_id\": 91, \"character\": \"Soldier (uncredited)\", \"credit_id\": \"52fe48019251416c750acb43\", \"gender\": 0, \"id\": 1207287, \"name\": \"Kai Pantano\", \"order\": 71}, {\"cast_id\": 92, \"character\": \"Blast Technician (uncredited)\", \"credit_id\": \"52fe48019251416c750acb47\", \"gender\": 0, \"id\": 1207288, \"name\": \"Logan Pithyou\", \"order\": 72}, {\"cast_id\": 93, \"character\": \"Vindum Raah (uncredited)\", \"credit_id\": \"52fe48019251416c750acb4b\", \"gender\": 0, \"id\": 1207289, \"name\": \"Stuart Pollock\", \"order\": 73}, {\"cast_id\": 94, \"character\": \"Hero (uncredited)\", \"credit_id\": \"52fe48019251416c750acb4f\", \"gender\": 0, \"id\": 584868, \"name\": \"Raja\", \"order\": 74}, {\"cast_id\": 95, \"character\": \"Ops Centreworker (uncredited)\", \"credit_id\": \"52fe48019251416c750acb53\", \"gender\": 0, \"id\": 1207290, \"name\": \"Gareth Ruck\", \"order\": 75}, {\"cast_id\": 96, \"character\": \"Engineer (uncredited)\", \"credit_id\": \"52fe48019251416c750acb57\", \"gender\": 0, \"id\": 1062463, \"name\": \"Rhian Sheehan\", \"order\": 76}, {\"cast_id\": 97, \"character\": \"Col. Quaritch\\'s Mech Suit (uncredited)\", \"credit_id\": \"52fe48019251416c750acb5b\", \"gender\": 0, \"id\": 60656, \"name\": \"T. J. Storm\", \"order\": 77}, {\"cast_id\": 98, \"character\": \"Female Marine (uncredited)\", \"credit_id\": \"52fe48019251416c750acb5f\", \"gender\": 0, \"id\": 1207291, \"name\": \"Jodie Taylor\", \"order\": 78}, {\"cast_id\": 99, \"character\": \"Ikran Clan Leader (uncredited)\", \"credit_id\": \"52fe48019251416c750acb63\", \"gender\": 1, \"id\": 1186027, \"name\": \"Alicia Vela-Bailey\", \"order\": 79}, {\"cast_id\": 100, \"character\": \"Geologist (uncredited)\", \"credit_id\": \"52fe48019251416c750acb67\", \"gender\": 0, \"id\": 1207292, \"name\": \"Richard Whiteside\", \"order\": 80}, {\"cast_id\": 101, \"character\": \"Na\\'vi (uncredited)\", \"credit_id\": \"52fe48019251416c750acb6b\", \"gender\": 0, \"id\": 103259, \"name\": \"Nikie Zambo\", \"order\": 81}, {\"cast_id\": 102, \"character\": \"Ambient Room Tech / Troupe\", \"credit_id\": \"52fe48019251416c750acb6f\", \"gender\": 1, \"id\": 42286, \"name\": \"Julene Renee\", \"order\": 82}]'],\n",
       "      dtype=object)"
      ]
     },
     "execution_count": 132,
     "metadata": {},
     "output_type": "execute_result"
    }
   ],
   "source": [
    "credits.head(1)['cast'].values"
   ]
  },
  {
   "cell_type": "code",
   "execution_count": 133,
   "id": "8b897868-8c33-4e0e-a260-6cf2e0d892a7",
   "metadata": {},
   "outputs": [],
   "source": [
    "movies = movies.merge(credits, on = 'title')"
   ]
  },
  {
   "cell_type": "code",
   "execution_count": 134,
   "id": "21bf49f0-8ead-4528-a4f4-8eefdb7447a8",
   "metadata": {},
   "outputs": [
    {
     "data": {
      "text/html": [
       "<div>\n",
       "<style scoped>\n",
       "    .dataframe tbody tr th:only-of-type {\n",
       "        vertical-align: middle;\n",
       "    }\n",
       "\n",
       "    .dataframe tbody tr th {\n",
       "        vertical-align: top;\n",
       "    }\n",
       "\n",
       "    .dataframe thead th {\n",
       "        text-align: right;\n",
       "    }\n",
       "</style>\n",
       "<table border=\"1\" class=\"dataframe\">\n",
       "  <thead>\n",
       "    <tr style=\"text-align: right;\">\n",
       "      <th></th>\n",
       "      <th>budget</th>\n",
       "      <th>genres</th>\n",
       "      <th>homepage</th>\n",
       "      <th>id</th>\n",
       "      <th>keywords</th>\n",
       "      <th>original_language</th>\n",
       "      <th>original_title</th>\n",
       "      <th>overview</th>\n",
       "      <th>popularity</th>\n",
       "      <th>production_companies</th>\n",
       "      <th>...</th>\n",
       "      <th>runtime</th>\n",
       "      <th>spoken_languages</th>\n",
       "      <th>status</th>\n",
       "      <th>tagline</th>\n",
       "      <th>title</th>\n",
       "      <th>vote_average</th>\n",
       "      <th>vote_count</th>\n",
       "      <th>movie_id</th>\n",
       "      <th>cast</th>\n",
       "      <th>crew</th>\n",
       "    </tr>\n",
       "  </thead>\n",
       "  <tbody>\n",
       "    <tr>\n",
       "      <th>0</th>\n",
       "      <td>237000000</td>\n",
       "      <td>[{\"id\": 28, \"name\": \"Action\"}, {\"id\": 12, \"nam...</td>\n",
       "      <td>http://www.avatarmovie.com/</td>\n",
       "      <td>19995</td>\n",
       "      <td>[{\"id\": 1463, \"name\": \"culture clash\"}, {\"id\":...</td>\n",
       "      <td>en</td>\n",
       "      <td>Avatar</td>\n",
       "      <td>In the 22nd century, a paraplegic Marine is di...</td>\n",
       "      <td>150.437577</td>\n",
       "      <td>[{\"name\": \"Ingenious Film Partners\", \"id\": 289...</td>\n",
       "      <td>...</td>\n",
       "      <td>162.0</td>\n",
       "      <td>[{\"iso_639_1\": \"en\", \"name\": \"English\"}, {\"iso...</td>\n",
       "      <td>Released</td>\n",
       "      <td>Enter the World of Pandora.</td>\n",
       "      <td>Avatar</td>\n",
       "      <td>7.2</td>\n",
       "      <td>11800</td>\n",
       "      <td>19995</td>\n",
       "      <td>[{\"cast_id\": 242, \"character\": \"Jake Sully\", \"...</td>\n",
       "      <td>[{\"credit_id\": \"52fe48009251416c750aca23\", \"de...</td>\n",
       "    </tr>\n",
       "  </tbody>\n",
       "</table>\n",
       "<p>1 rows × 23 columns</p>\n",
       "</div>"
      ],
      "text/plain": [
       "      budget                                             genres  \\\n",
       "0  237000000  [{\"id\": 28, \"name\": \"Action\"}, {\"id\": 12, \"nam...   \n",
       "\n",
       "                      homepage     id  \\\n",
       "0  http://www.avatarmovie.com/  19995   \n",
       "\n",
       "                                            keywords original_language  \\\n",
       "0  [{\"id\": 1463, \"name\": \"culture clash\"}, {\"id\":...                en   \n",
       "\n",
       "  original_title                                           overview  \\\n",
       "0         Avatar  In the 22nd century, a paraplegic Marine is di...   \n",
       "\n",
       "   popularity                               production_companies  ... runtime  \\\n",
       "0  150.437577  [{\"name\": \"Ingenious Film Partners\", \"id\": 289...  ...   162.0   \n",
       "\n",
       "                                    spoken_languages    status  \\\n",
       "0  [{\"iso_639_1\": \"en\", \"name\": \"English\"}, {\"iso...  Released   \n",
       "\n",
       "                       tagline   title vote_average vote_count movie_id  \\\n",
       "0  Enter the World of Pandora.  Avatar          7.2      11800    19995   \n",
       "\n",
       "                                                cast  \\\n",
       "0  [{\"cast_id\": 242, \"character\": \"Jake Sully\", \"...   \n",
       "\n",
       "                                                crew  \n",
       "0  [{\"credit_id\": \"52fe48009251416c750aca23\", \"de...  \n",
       "\n",
       "[1 rows x 23 columns]"
      ]
     },
     "execution_count": 134,
     "metadata": {},
     "output_type": "execute_result"
    }
   ],
   "source": [
    "movies.head(1)"
   ]
  },
  {
   "cell_type": "code",
   "execution_count": 73,
   "id": "95062110-2904-4999-8b19-9d25aabeec14",
   "metadata": {},
   "outputs": [
    {
     "data": {
      "text/plain": [
       "(4809, 23)"
      ]
     },
     "execution_count": 73,
     "metadata": {},
     "output_type": "execute_result"
    }
   ],
   "source": [
    "movies.shape"
   ]
  },
  {
   "cell_type": "code",
   "execution_count": 135,
   "id": "f5121e52-e9fd-4752-b805-739f8d8d3010",
   "metadata": {},
   "outputs": [],
   "source": [
    "#genre, id, keywords, title, overview, cast, crew\n",
    "\n",
    "movies = movies[['movie_id', 'title', 'overview', 'genres', 'keywords', 'cast', 'crew']]"
   ]
  },
  {
   "cell_type": "code",
   "execution_count": 136,
   "id": "1a357ab1-a691-4e43-a886-366a6461dbfa",
   "metadata": {},
   "outputs": [
    {
     "name": "stdout",
     "output_type": "stream",
     "text": [
      "<class 'pandas.core.frame.DataFrame'>\n",
      "RangeIndex: 4809 entries, 0 to 4808\n",
      "Data columns (total 7 columns):\n",
      " #   Column    Non-Null Count  Dtype \n",
      "---  ------    --------------  ----- \n",
      " 0   movie_id  4809 non-null   int64 \n",
      " 1   title     4809 non-null   object\n",
      " 2   overview  4806 non-null   object\n",
      " 3   genres    4809 non-null   object\n",
      " 4   keywords  4809 non-null   object\n",
      " 5   cast      4809 non-null   object\n",
      " 6   crew      4809 non-null   object\n",
      "dtypes: int64(1), object(6)\n",
      "memory usage: 263.1+ KB\n"
     ]
    }
   ],
   "source": [
    "movies.info()"
   ]
  },
  {
   "cell_type": "code",
   "execution_count": 137,
   "id": "3b1194a1-b24e-49bc-9a3e-66c44e013e0b",
   "metadata": {},
   "outputs": [
    {
     "data": {
      "text/plain": [
       "<bound method NDFrame.head of       movie_id                                     title  \\\n",
       "0        19995                                    Avatar   \n",
       "1          285  Pirates of the Caribbean: At World's End   \n",
       "2       206647                                   Spectre   \n",
       "3        49026                     The Dark Knight Rises   \n",
       "4        49529                               John Carter   \n",
       "...        ...                                       ...   \n",
       "4804      9367                               El Mariachi   \n",
       "4805     72766                                 Newlyweds   \n",
       "4806    231617                 Signed, Sealed, Delivered   \n",
       "4807    126186                          Shanghai Calling   \n",
       "4808     25975                         My Date with Drew   \n",
       "\n",
       "                                               overview  \\\n",
       "0     In the 22nd century, a paraplegic Marine is di...   \n",
       "1     Captain Barbossa, long believed to be dead, ha...   \n",
       "2     A cryptic message from Bond’s past sends him o...   \n",
       "3     Following the death of District Attorney Harve...   \n",
       "4     John Carter is a war-weary, former military ca...   \n",
       "...                                                 ...   \n",
       "4804  El Mariachi just wants to play his guitar and ...   \n",
       "4805  A newlywed couple's honeymoon is upended by th...   \n",
       "4806  \"Signed, Sealed, Delivered\" introduces a dedic...   \n",
       "4807  When ambitious New York attorney Sam is sent t...   \n",
       "4808  Ever since the second grade when he first saw ...   \n",
       "\n",
       "                                                 genres  \\\n",
       "0     [{\"id\": 28, \"name\": \"Action\"}, {\"id\": 12, \"nam...   \n",
       "1     [{\"id\": 12, \"name\": \"Adventure\"}, {\"id\": 14, \"...   \n",
       "2     [{\"id\": 28, \"name\": \"Action\"}, {\"id\": 12, \"nam...   \n",
       "3     [{\"id\": 28, \"name\": \"Action\"}, {\"id\": 80, \"nam...   \n",
       "4     [{\"id\": 28, \"name\": \"Action\"}, {\"id\": 12, \"nam...   \n",
       "...                                                 ...   \n",
       "4804  [{\"id\": 28, \"name\": \"Action\"}, {\"id\": 80, \"nam...   \n",
       "4805  [{\"id\": 35, \"name\": \"Comedy\"}, {\"id\": 10749, \"...   \n",
       "4806  [{\"id\": 35, \"name\": \"Comedy\"}, {\"id\": 18, \"nam...   \n",
       "4807                                                 []   \n",
       "4808                [{\"id\": 99, \"name\": \"Documentary\"}]   \n",
       "\n",
       "                                               keywords  \\\n",
       "0     [{\"id\": 1463, \"name\": \"culture clash\"}, {\"id\":...   \n",
       "1     [{\"id\": 270, \"name\": \"ocean\"}, {\"id\": 726, \"na...   \n",
       "2     [{\"id\": 470, \"name\": \"spy\"}, {\"id\": 818, \"name...   \n",
       "3     [{\"id\": 849, \"name\": \"dc comics\"}, {\"id\": 853,...   \n",
       "4     [{\"id\": 818, \"name\": \"based on novel\"}, {\"id\":...   \n",
       "...                                                 ...   \n",
       "4804  [{\"id\": 5616, \"name\": \"united states\\u2013mexi...   \n",
       "4805                                                 []   \n",
       "4806  [{\"id\": 248, \"name\": \"date\"}, {\"id\": 699, \"nam...   \n",
       "4807                                                 []   \n",
       "4808  [{\"id\": 1523, \"name\": \"obsession\"}, {\"id\": 224...   \n",
       "\n",
       "                                                   cast  \\\n",
       "0     [{\"cast_id\": 242, \"character\": \"Jake Sully\", \"...   \n",
       "1     [{\"cast_id\": 4, \"character\": \"Captain Jack Spa...   \n",
       "2     [{\"cast_id\": 1, \"character\": \"James Bond\", \"cr...   \n",
       "3     [{\"cast_id\": 2, \"character\": \"Bruce Wayne / Ba...   \n",
       "4     [{\"cast_id\": 5, \"character\": \"John Carter\", \"c...   \n",
       "...                                                 ...   \n",
       "4804  [{\"cast_id\": 1, \"character\": \"El Mariachi\", \"c...   \n",
       "4805  [{\"cast_id\": 1, \"character\": \"Buzzy\", \"credit_...   \n",
       "4806  [{\"cast_id\": 8, \"character\": \"Oliver O\\u2019To...   \n",
       "4807  [{\"cast_id\": 3, \"character\": \"Sam\", \"credit_id...   \n",
       "4808  [{\"cast_id\": 3, \"character\": \"Herself\", \"credi...   \n",
       "\n",
       "                                                   crew  \n",
       "0     [{\"credit_id\": \"52fe48009251416c750aca23\", \"de...  \n",
       "1     [{\"credit_id\": \"52fe4232c3a36847f800b579\", \"de...  \n",
       "2     [{\"credit_id\": \"54805967c3a36829b5002c41\", \"de...  \n",
       "3     [{\"credit_id\": \"52fe4781c3a36847f81398c3\", \"de...  \n",
       "4     [{\"credit_id\": \"52fe479ac3a36847f813eaa3\", \"de...  \n",
       "...                                                 ...  \n",
       "4804  [{\"credit_id\": \"52fe44eec3a36847f80b280b\", \"de...  \n",
       "4805  [{\"credit_id\": \"52fe487dc3a368484e0fb013\", \"de...  \n",
       "4806  [{\"credit_id\": \"52fe4df3c3a36847f8275ecf\", \"de...  \n",
       "4807  [{\"credit_id\": \"52fe4ad9c3a368484e16a36b\", \"de...  \n",
       "4808  [{\"credit_id\": \"58ce021b9251415a390165d9\", \"de...  \n",
       "\n",
       "[4809 rows x 7 columns]>"
      ]
     },
     "execution_count": 137,
     "metadata": {},
     "output_type": "execute_result"
    }
   ],
   "source": [
    "movies.head"
   ]
  },
  {
   "cell_type": "code",
   "execution_count": 141,
   "id": "eb5692d1-a740-4c44-8921-18de34f356ba",
   "metadata": {},
   "outputs": [
    {
     "data": {
      "text/plain": [
       "movie_id    0\n",
       "title       0\n",
       "overview    0\n",
       "genres      0\n",
       "keywords    0\n",
       "cast        0\n",
       "crew        0\n",
       "dtype: int64"
      ]
     },
     "execution_count": 141,
     "metadata": {},
     "output_type": "execute_result"
    }
   ],
   "source": [
    "movies.isnull().sum()"
   ]
  },
  {
   "cell_type": "code",
   "execution_count": 139,
   "id": "1785c696-dbfa-48f5-bfa3-371865707ea4",
   "metadata": {},
   "outputs": [],
   "source": [
    "movies.dropna(inplace = True)"
   ]
  },
  {
   "cell_type": "code",
   "execution_count": 140,
   "id": "2cda1c0c-8aac-497d-a4c0-51b13a970636",
   "metadata": {},
   "outputs": [
    {
     "data": {
      "text/plain": [
       "0"
      ]
     },
     "execution_count": 140,
     "metadata": {},
     "output_type": "execute_result"
    }
   ],
   "source": [
    "movies.duplicated().sum()"
   ]
  },
  {
   "cell_type": "code",
   "execution_count": 142,
   "id": "804c882c-30d3-489e-953a-1d0486cbdee7",
   "metadata": {},
   "outputs": [
    {
     "data": {
      "text/plain": [
       "'[{\"id\": 28, \"name\": \"Action\"}, {\"id\": 12, \"name\": \"Adventure\"}, {\"id\": 14, \"name\": \"Fantasy\"}, {\"id\": 878, \"name\": \"Science Fiction\"}]'"
      ]
     },
     "execution_count": 142,
     "metadata": {},
     "output_type": "execute_result"
    }
   ],
   "source": [
    "movies.iloc[0].genres"
   ]
  },
  {
   "cell_type": "code",
   "execution_count": 143,
   "id": "07f53836-246f-471e-b639-986d032cff3c",
   "metadata": {},
   "outputs": [],
   "source": [
    "#we need to change genre format, we just need the name\n",
    "#the format is a string of list of objects, so first we'll remove the string part, then it will just be a list of objs\n",
    "\n",
    "import ast   #ast.literal_eval converts string to list\n",
    "def convert(obj):\n",
    "    L = []\n",
    "    for i in ast.literal_eval(obj):\n",
    "        L.append(i['name'])\n",
    "    return L"
   ]
  },
  {
   "cell_type": "code",
   "execution_count": 145,
   "id": "a01a74fc-a398-417d-9a5f-eda113377e41",
   "metadata": {},
   "outputs": [],
   "source": [
    "movies['genres'] = movies['genres'].apply(convert)"
   ]
  },
  {
   "cell_type": "code",
   "execution_count": 146,
   "id": "83fbd8fc-e61d-4fb5-af83-a05d0e21c101",
   "metadata": {},
   "outputs": [
    {
     "data": {
      "text/html": [
       "<div>\n",
       "<style scoped>\n",
       "    .dataframe tbody tr th:only-of-type {\n",
       "        vertical-align: middle;\n",
       "    }\n",
       "\n",
       "    .dataframe tbody tr th {\n",
       "        vertical-align: top;\n",
       "    }\n",
       "\n",
       "    .dataframe thead th {\n",
       "        text-align: right;\n",
       "    }\n",
       "</style>\n",
       "<table border=\"1\" class=\"dataframe\">\n",
       "  <thead>\n",
       "    <tr style=\"text-align: right;\">\n",
       "      <th></th>\n",
       "      <th>movie_id</th>\n",
       "      <th>title</th>\n",
       "      <th>overview</th>\n",
       "      <th>genres</th>\n",
       "      <th>keywords</th>\n",
       "      <th>cast</th>\n",
       "      <th>crew</th>\n",
       "    </tr>\n",
       "  </thead>\n",
       "  <tbody>\n",
       "    <tr>\n",
       "      <th>0</th>\n",
       "      <td>19995</td>\n",
       "      <td>Avatar</td>\n",
       "      <td>In the 22nd century, a paraplegic Marine is di...</td>\n",
       "      <td>[Action, Adventure, Fantasy, Science Fiction]</td>\n",
       "      <td>[{\"id\": 1463, \"name\": \"culture clash\"}, {\"id\":...</td>\n",
       "      <td>[{\"cast_id\": 242, \"character\": \"Jake Sully\", \"...</td>\n",
       "      <td>[{\"credit_id\": \"52fe48009251416c750aca23\", \"de...</td>\n",
       "    </tr>\n",
       "    <tr>\n",
       "      <th>1</th>\n",
       "      <td>285</td>\n",
       "      <td>Pirates of the Caribbean: At World's End</td>\n",
       "      <td>Captain Barbossa, long believed to be dead, ha...</td>\n",
       "      <td>[Adventure, Fantasy, Action]</td>\n",
       "      <td>[{\"id\": 270, \"name\": \"ocean\"}, {\"id\": 726, \"na...</td>\n",
       "      <td>[{\"cast_id\": 4, \"character\": \"Captain Jack Spa...</td>\n",
       "      <td>[{\"credit_id\": \"52fe4232c3a36847f800b579\", \"de...</td>\n",
       "    </tr>\n",
       "    <tr>\n",
       "      <th>2</th>\n",
       "      <td>206647</td>\n",
       "      <td>Spectre</td>\n",
       "      <td>A cryptic message from Bond’s past sends him o...</td>\n",
       "      <td>[Action, Adventure, Crime]</td>\n",
       "      <td>[{\"id\": 470, \"name\": \"spy\"}, {\"id\": 818, \"name...</td>\n",
       "      <td>[{\"cast_id\": 1, \"character\": \"James Bond\", \"cr...</td>\n",
       "      <td>[{\"credit_id\": \"54805967c3a36829b5002c41\", \"de...</td>\n",
       "    </tr>\n",
       "    <tr>\n",
       "      <th>3</th>\n",
       "      <td>49026</td>\n",
       "      <td>The Dark Knight Rises</td>\n",
       "      <td>Following the death of District Attorney Harve...</td>\n",
       "      <td>[Action, Crime, Drama, Thriller]</td>\n",
       "      <td>[{\"id\": 849, \"name\": \"dc comics\"}, {\"id\": 853,...</td>\n",
       "      <td>[{\"cast_id\": 2, \"character\": \"Bruce Wayne / Ba...</td>\n",
       "      <td>[{\"credit_id\": \"52fe4781c3a36847f81398c3\", \"de...</td>\n",
       "    </tr>\n",
       "    <tr>\n",
       "      <th>4</th>\n",
       "      <td>49529</td>\n",
       "      <td>John Carter</td>\n",
       "      <td>John Carter is a war-weary, former military ca...</td>\n",
       "      <td>[Action, Adventure, Science Fiction]</td>\n",
       "      <td>[{\"id\": 818, \"name\": \"based on novel\"}, {\"id\":...</td>\n",
       "      <td>[{\"cast_id\": 5, \"character\": \"John Carter\", \"c...</td>\n",
       "      <td>[{\"credit_id\": \"52fe479ac3a36847f813eaa3\", \"de...</td>\n",
       "    </tr>\n",
       "  </tbody>\n",
       "</table>\n",
       "</div>"
      ],
      "text/plain": [
       "   movie_id                                     title  \\\n",
       "0     19995                                    Avatar   \n",
       "1       285  Pirates of the Caribbean: At World's End   \n",
       "2    206647                                   Spectre   \n",
       "3     49026                     The Dark Knight Rises   \n",
       "4     49529                               John Carter   \n",
       "\n",
       "                                            overview  \\\n",
       "0  In the 22nd century, a paraplegic Marine is di...   \n",
       "1  Captain Barbossa, long believed to be dead, ha...   \n",
       "2  A cryptic message from Bond’s past sends him o...   \n",
       "3  Following the death of District Attorney Harve...   \n",
       "4  John Carter is a war-weary, former military ca...   \n",
       "\n",
       "                                          genres  \\\n",
       "0  [Action, Adventure, Fantasy, Science Fiction]   \n",
       "1                   [Adventure, Fantasy, Action]   \n",
       "2                     [Action, Adventure, Crime]   \n",
       "3               [Action, Crime, Drama, Thriller]   \n",
       "4           [Action, Adventure, Science Fiction]   \n",
       "\n",
       "                                            keywords  \\\n",
       "0  [{\"id\": 1463, \"name\": \"culture clash\"}, {\"id\":...   \n",
       "1  [{\"id\": 270, \"name\": \"ocean\"}, {\"id\": 726, \"na...   \n",
       "2  [{\"id\": 470, \"name\": \"spy\"}, {\"id\": 818, \"name...   \n",
       "3  [{\"id\": 849, \"name\": \"dc comics\"}, {\"id\": 853,...   \n",
       "4  [{\"id\": 818, \"name\": \"based on novel\"}, {\"id\":...   \n",
       "\n",
       "                                                cast  \\\n",
       "0  [{\"cast_id\": 242, \"character\": \"Jake Sully\", \"...   \n",
       "1  [{\"cast_id\": 4, \"character\": \"Captain Jack Spa...   \n",
       "2  [{\"cast_id\": 1, \"character\": \"James Bond\", \"cr...   \n",
       "3  [{\"cast_id\": 2, \"character\": \"Bruce Wayne / Ba...   \n",
       "4  [{\"cast_id\": 5, \"character\": \"John Carter\", \"c...   \n",
       "\n",
       "                                                crew  \n",
       "0  [{\"credit_id\": \"52fe48009251416c750aca23\", \"de...  \n",
       "1  [{\"credit_id\": \"52fe4232c3a36847f800b579\", \"de...  \n",
       "2  [{\"credit_id\": \"54805967c3a36829b5002c41\", \"de...  \n",
       "3  [{\"credit_id\": \"52fe4781c3a36847f81398c3\", \"de...  \n",
       "4  [{\"credit_id\": \"52fe479ac3a36847f813eaa3\", \"de...  "
      ]
     },
     "execution_count": 146,
     "metadata": {},
     "output_type": "execute_result"
    }
   ],
   "source": [
    "movies.head()"
   ]
  },
  {
   "cell_type": "code",
   "execution_count": 101,
   "id": "9568e275-4ec5-4f8f-919a-f253503e5e46",
   "metadata": {},
   "outputs": [
    {
     "data": {
      "text/plain": [
       "['culture clash',\n",
       " 'future',\n",
       " 'space war',\n",
       " 'space colony',\n",
       " 'society',\n",
       " 'space travel',\n",
       " 'futuristic',\n",
       " 'romance',\n",
       " 'space',\n",
       " 'alien',\n",
       " 'tribe',\n",
       " 'alien planet',\n",
       " 'cgi',\n",
       " 'marine',\n",
       " 'soldier',\n",
       " 'battle',\n",
       " 'love affair',\n",
       " 'anti war',\n",
       " 'power relations',\n",
       " 'mind and soul',\n",
       " '3d']"
      ]
     },
     "execution_count": 101,
     "metadata": {},
     "output_type": "execute_result"
    }
   ],
   "source": [
    "movies.iloc[0].keywords"
   ]
  },
  {
   "cell_type": "code",
   "execution_count": 147,
   "id": "1f6f09a6-8e87-4dad-b0f3-d3316c48d594",
   "metadata": {},
   "outputs": [],
   "source": [
    "movies['keywords'] = movies['keywords'].apply(convert)"
   ]
  },
  {
   "cell_type": "code",
   "execution_count": 148,
   "id": "4db4861e-9953-4caa-8f4a-a51324cf0b87",
   "metadata": {},
   "outputs": [
    {
     "data": {
      "text/html": [
       "<div>\n",
       "<style scoped>\n",
       "    .dataframe tbody tr th:only-of-type {\n",
       "        vertical-align: middle;\n",
       "    }\n",
       "\n",
       "    .dataframe tbody tr th {\n",
       "        vertical-align: top;\n",
       "    }\n",
       "\n",
       "    .dataframe thead th {\n",
       "        text-align: right;\n",
       "    }\n",
       "</style>\n",
       "<table border=\"1\" class=\"dataframe\">\n",
       "  <thead>\n",
       "    <tr style=\"text-align: right;\">\n",
       "      <th></th>\n",
       "      <th>movie_id</th>\n",
       "      <th>title</th>\n",
       "      <th>overview</th>\n",
       "      <th>genres</th>\n",
       "      <th>keywords</th>\n",
       "      <th>cast</th>\n",
       "      <th>crew</th>\n",
       "    </tr>\n",
       "  </thead>\n",
       "  <tbody>\n",
       "    <tr>\n",
       "      <th>0</th>\n",
       "      <td>19995</td>\n",
       "      <td>Avatar</td>\n",
       "      <td>In the 22nd century, a paraplegic Marine is di...</td>\n",
       "      <td>[Action, Adventure, Fantasy, Science Fiction]</td>\n",
       "      <td>[culture clash, future, space war, space colon...</td>\n",
       "      <td>[{\"cast_id\": 242, \"character\": \"Jake Sully\", \"...</td>\n",
       "      <td>[{\"credit_id\": \"52fe48009251416c750aca23\", \"de...</td>\n",
       "    </tr>\n",
       "    <tr>\n",
       "      <th>1</th>\n",
       "      <td>285</td>\n",
       "      <td>Pirates of the Caribbean: At World's End</td>\n",
       "      <td>Captain Barbossa, long believed to be dead, ha...</td>\n",
       "      <td>[Adventure, Fantasy, Action]</td>\n",
       "      <td>[ocean, drug abuse, exotic island, east india ...</td>\n",
       "      <td>[{\"cast_id\": 4, \"character\": \"Captain Jack Spa...</td>\n",
       "      <td>[{\"credit_id\": \"52fe4232c3a36847f800b579\", \"de...</td>\n",
       "    </tr>\n",
       "    <tr>\n",
       "      <th>2</th>\n",
       "      <td>206647</td>\n",
       "      <td>Spectre</td>\n",
       "      <td>A cryptic message from Bond’s past sends him o...</td>\n",
       "      <td>[Action, Adventure, Crime]</td>\n",
       "      <td>[spy, based on novel, secret agent, sequel, mi...</td>\n",
       "      <td>[{\"cast_id\": 1, \"character\": \"James Bond\", \"cr...</td>\n",
       "      <td>[{\"credit_id\": \"54805967c3a36829b5002c41\", \"de...</td>\n",
       "    </tr>\n",
       "    <tr>\n",
       "      <th>3</th>\n",
       "      <td>49026</td>\n",
       "      <td>The Dark Knight Rises</td>\n",
       "      <td>Following the death of District Attorney Harve...</td>\n",
       "      <td>[Action, Crime, Drama, Thriller]</td>\n",
       "      <td>[dc comics, crime fighter, terrorist, secret i...</td>\n",
       "      <td>[{\"cast_id\": 2, \"character\": \"Bruce Wayne / Ba...</td>\n",
       "      <td>[{\"credit_id\": \"52fe4781c3a36847f81398c3\", \"de...</td>\n",
       "    </tr>\n",
       "    <tr>\n",
       "      <th>4</th>\n",
       "      <td>49529</td>\n",
       "      <td>John Carter</td>\n",
       "      <td>John Carter is a war-weary, former military ca...</td>\n",
       "      <td>[Action, Adventure, Science Fiction]</td>\n",
       "      <td>[based on novel, mars, medallion, space travel...</td>\n",
       "      <td>[{\"cast_id\": 5, \"character\": \"John Carter\", \"c...</td>\n",
       "      <td>[{\"credit_id\": \"52fe479ac3a36847f813eaa3\", \"de...</td>\n",
       "    </tr>\n",
       "  </tbody>\n",
       "</table>\n",
       "</div>"
      ],
      "text/plain": [
       "   movie_id                                     title  \\\n",
       "0     19995                                    Avatar   \n",
       "1       285  Pirates of the Caribbean: At World's End   \n",
       "2    206647                                   Spectre   \n",
       "3     49026                     The Dark Knight Rises   \n",
       "4     49529                               John Carter   \n",
       "\n",
       "                                            overview  \\\n",
       "0  In the 22nd century, a paraplegic Marine is di...   \n",
       "1  Captain Barbossa, long believed to be dead, ha...   \n",
       "2  A cryptic message from Bond’s past sends him o...   \n",
       "3  Following the death of District Attorney Harve...   \n",
       "4  John Carter is a war-weary, former military ca...   \n",
       "\n",
       "                                          genres  \\\n",
       "0  [Action, Adventure, Fantasy, Science Fiction]   \n",
       "1                   [Adventure, Fantasy, Action]   \n",
       "2                     [Action, Adventure, Crime]   \n",
       "3               [Action, Crime, Drama, Thriller]   \n",
       "4           [Action, Adventure, Science Fiction]   \n",
       "\n",
       "                                            keywords  \\\n",
       "0  [culture clash, future, space war, space colon...   \n",
       "1  [ocean, drug abuse, exotic island, east india ...   \n",
       "2  [spy, based on novel, secret agent, sequel, mi...   \n",
       "3  [dc comics, crime fighter, terrorist, secret i...   \n",
       "4  [based on novel, mars, medallion, space travel...   \n",
       "\n",
       "                                                cast  \\\n",
       "0  [{\"cast_id\": 242, \"character\": \"Jake Sully\", \"...   \n",
       "1  [{\"cast_id\": 4, \"character\": \"Captain Jack Spa...   \n",
       "2  [{\"cast_id\": 1, \"character\": \"James Bond\", \"cr...   \n",
       "3  [{\"cast_id\": 2, \"character\": \"Bruce Wayne / Ba...   \n",
       "4  [{\"cast_id\": 5, \"character\": \"John Carter\", \"c...   \n",
       "\n",
       "                                                crew  \n",
       "0  [{\"credit_id\": \"52fe48009251416c750aca23\", \"de...  \n",
       "1  [{\"credit_id\": \"52fe4232c3a36847f800b579\", \"de...  \n",
       "2  [{\"credit_id\": \"54805967c3a36829b5002c41\", \"de...  \n",
       "3  [{\"credit_id\": \"52fe4781c3a36847f81398c3\", \"de...  \n",
       "4  [{\"credit_id\": \"52fe479ac3a36847f813eaa3\", \"de...  "
      ]
     },
     "execution_count": 148,
     "metadata": {},
     "output_type": "execute_result"
    }
   ],
   "source": [
    "movies.head()"
   ]
  },
  {
   "cell_type": "code",
   "execution_count": 149,
   "id": "ade0025f-3447-4d10-8758-b497df23e68c",
   "metadata": {},
   "outputs": [],
   "source": [
    "def convert3(obj):\n",
    "    L = []\n",
    "    counter = 0\n",
    "    for i in ast.literal_eval(obj):\n",
    "        if counter != 6:\n",
    "            L.append(i['name'])\n",
    "            counter+=1\n",
    "        else:\n",
    "            break\n",
    "    return L"
   ]
  },
  {
   "cell_type": "code",
   "execution_count": 150,
   "id": "63b0e148-1413-4f37-81df-d88f06e87730",
   "metadata": {},
   "outputs": [
    {
     "data": {
      "text/plain": [
       "0       [Sam Worthington, Zoe Saldana, Sigourney Weave...\n",
       "1       [Johnny Depp, Orlando Bloom, Keira Knightley, ...\n",
       "2       [Daniel Craig, Christoph Waltz, Léa Seydoux, R...\n",
       "3       [Christian Bale, Michael Caine, Gary Oldman, A...\n",
       "4       [Taylor Kitsch, Lynn Collins, Samantha Morton,...\n",
       "                              ...                        \n",
       "4804    [Carlos Gallardo, Jaime de Hoyos, Peter Marqua...\n",
       "4805    [Edward Burns, Kerry Bishé, Marsha Dietlein, C...\n",
       "4806    [Eric Mabius, Kristin Booth, Crystal Lowe, Geo...\n",
       "4807    [Daniel Henney, Eliza Coupe, Bill Paxton, Alan...\n",
       "4808    [Drew Barrymore, Brian Herzlinger, Corey Feldm...\n",
       "Name: cast, Length: 4806, dtype: object"
      ]
     },
     "execution_count": 150,
     "metadata": {},
     "output_type": "execute_result"
    }
   ],
   "source": [
    "movies['cast'].apply(convert3)"
   ]
  },
  {
   "cell_type": "code",
   "execution_count": 154,
   "id": "1b6f4a76-1f05-47ff-ba79-63c612db6260",
   "metadata": {},
   "outputs": [],
   "source": [
    "movies['cast'] = movies['cast'].apply(convert3)"
   ]
  },
  {
   "cell_type": "code",
   "execution_count": 151,
   "id": "67e7cedc-be56-40ec-97f6-3cf2bff18ff3",
   "metadata": {},
   "outputs": [
    {
     "data": {
      "text/plain": [
       "'[{\"cast_id\": 2, \"character\": \"Bruce Wayne / Batman\", \"credit_id\": \"52fe4781c3a36847f8139869\", \"gender\": 2, \"id\": 3894, \"name\": \"Christian Bale\", \"order\": 0}, {\"cast_id\": 8, \"character\": \"Alfred Pennyworth\", \"credit_id\": \"52fe4781c3a36847f8139881\", \"gender\": 2, \"id\": 3895, \"name\": \"Michael Caine\", \"order\": 1}, {\"cast_id\": 5, \"character\": \"James Gordon\", \"credit_id\": \"52fe4781c3a36847f8139875\", \"gender\": 2, \"id\": 64, \"name\": \"Gary Oldman\", \"order\": 2}, {\"cast_id\": 3, \"character\": \"Selina Kyle / Catwoman\", \"credit_id\": \"52fe4781c3a36847f813986d\", \"gender\": 1, \"id\": 1813, \"name\": \"Anne Hathaway\", \"order\": 3}, {\"cast_id\": 4, \"character\": \"Bane\", \"credit_id\": \"52fe4781c3a36847f8139871\", \"gender\": 2, \"id\": 2524, \"name\": \"Tom Hardy\", \"order\": 4}, {\"cast_id\": 15, \"character\": \"Miranda Tate\", \"credit_id\": \"52fe4781c3a36847f813988d\", \"gender\": 1, \"id\": 8293, \"name\": \"Marion Cotillard\", \"order\": 5}, {\"cast_id\": 6, \"character\": \"Blake\", \"credit_id\": \"52fe4781c3a36847f8139879\", \"gender\": 2, \"id\": 24045, \"name\": \"Joseph Gordon-Levitt\", \"order\": 6}, {\"cast_id\": 7, \"character\": \"Lucius Fox\", \"credit_id\": \"52fe4781c3a36847f813987d\", \"gender\": 2, \"id\": 192, \"name\": \"Morgan Freeman\", \"order\": 7}, {\"cast_id\": 46, \"character\": \"Dr. Jonathan Crane / Scarecrow\", \"credit_id\": \"52fe4781c3a36847f8139939\", \"gender\": 2, \"id\": 2037, \"name\": \"Cillian Murphy\", \"order\": 8}, {\"cast_id\": 9, \"character\": \"Jen\", \"credit_id\": \"52fe4781c3a36847f8139885\", \"gender\": 1, \"id\": 36594, \"name\": \"Juno Temple\", \"order\": 9}, {\"cast_id\": 47, \"character\": \"Ra\\'s Al Ghul\", \"credit_id\": \"52fe4781c3a36847f813993d\", \"gender\": 2, \"id\": 3896, \"name\": \"Liam Neeson\", \"order\": 10}, {\"cast_id\": 43, \"character\": \"Deputy Commissioner Foley\", \"credit_id\": \"52fe4781c3a36847f813992d\", \"gender\": 2, \"id\": 8654, \"name\": \"Matthew Modine\", \"order\": 11}, {\"cast_id\": 45, \"character\": \"Dr. Pavel\", \"credit_id\": \"52fe4781c3a36847f8139935\", \"gender\": 2, \"id\": 16607, \"name\": \"Alon Aboutboul\", \"order\": 12}, {\"cast_id\": 49, \"character\": \"Daggett\", \"credit_id\": \"52fe4782c3a36847f8139945\", \"gender\": 2, \"id\": 77335, \"name\": \"Ben Mendelsohn\", \"order\": 13}, {\"cast_id\": 10, \"character\": \"The Mayor\", \"credit_id\": \"52fe4781c3a36847f8139889\", \"gender\": 2, \"id\": 21316, \"name\": \"Nestor Carbonell\", \"order\": 14}, {\"cast_id\": 36, \"character\": \"Young Ra\\'s Al Ghul\", \"credit_id\": \"52fe4781c3a36847f8139909\", \"gender\": 0, \"id\": 928532, \"name\": \"Josh Pence\", \"order\": 15}, {\"cast_id\": 42, \"character\": \"Prisoner\", \"credit_id\": \"52fe4781c3a36847f8139929\", \"gender\": 0, \"id\": 71010, \"name\": \"Tom Conti\", \"order\": 16}, {\"cast_id\": 44, \"character\": \"Young Talia Al Ghul\", \"credit_id\": \"52fe4781c3a36847f8139931\", \"gender\": 1, \"id\": 125025, \"name\": \"Joey King\", \"order\": 17}, {\"cast_id\": 48, \"character\": \"Mercenary Security #1\", \"credit_id\": \"52fe4781c3a36847f8139941\", \"gender\": 2, \"id\": 211521, \"name\": \"Warren Brown\", \"order\": 18}, {\"cast_id\": 50, \"character\": \"Captain Jones\", \"credit_id\": \"52fe4782c3a36847f8139949\", \"gender\": 2, \"id\": 10582, \"name\": \"Daniel Sunjata\", \"order\": 19}, {\"cast_id\": 52, \"character\": \"Special Ops Sergeant\", \"credit_id\": \"52fe4782c3a36847f8139951\", \"gender\": 0, \"id\": 224365, \"name\": \"Sam Kennard\", \"order\": 20}, {\"cast_id\": 53, \"character\": \"Hooded Man #2\", \"credit_id\": \"53ab5495c3a3684bb900059a\", \"gender\": 0, \"id\": 1334307, \"name\": \"Aliash Tepina\", \"order\": 21}, {\"cast_id\": 54, \"character\": \"Caterer\", \"credit_id\": \"53ab59d40e0a267622000761\", \"gender\": 0, \"id\": 1334308, \"name\": \"Nick Julian\", \"order\": 22}, {\"cast_id\": 55, \"character\": \"Maid\", \"credit_id\": \"53ab5ba70e0a26761f000715\", \"gender\": 1, \"id\": 1334309, \"name\": \"Miranda Nolan\", \"order\": 23}, {\"cast_id\": 174, \"character\": \"Maid\", \"credit_id\": \"562196c8c3a3680e190096a0\", \"gender\": 0, \"id\": 1172491, \"name\": \"Claire Julien\", \"order\": 24}, {\"cast_id\": 56, \"character\": \"CIA Op\", \"credit_id\": \"53e761100e0a266f9d00176c\", \"gender\": 2, \"id\": 49735, \"name\": \"Aidan Gillen\", \"order\": 25}, {\"cast_id\": 172, \"character\": \"Stryver\", \"credit_id\": \"5621963e92514171d4009562\", \"gender\": 0, \"id\": 39659, \"name\": \"Burn Gorman\", \"order\": 26}, {\"cast_id\": 173, \"character\": \"Congressman\", \"credit_id\": \"5621969dc3a3680e0e009e97\", \"gender\": 2, \"id\": 16841, \"name\": \"Brett Cullen\", \"order\": 27}, {\"cast_id\": 175, \"character\": \"Ross\", \"credit_id\": \"56219708c3a3680e190096a9\", \"gender\": 2, \"id\": 22075, \"name\": \"Reggie Lee\", \"order\": 28}, {\"cast_id\": 176, \"character\": \"DWP Man\", \"credit_id\": \"56219739c3a3680e1d009ba6\", \"gender\": 2, \"id\": 159879, \"name\": \"Joseph Lyle Taylor\", \"order\": 29}, {\"cast_id\": 177, \"character\": \"Fr. Reilly\", \"credit_id\": \"56219752c3a3680e10009290\", \"gender\": 2, \"id\": 8191, \"name\": \"Chris Ellis\", \"order\": 30}, {\"cast_id\": 179, \"character\": \"SWAT in Dive Bar\", \"credit_id\": \"562197d3c3a3680e1d009bc0\", \"gender\": 2, \"id\": 1240417, \"name\": \"Duane Henry\", \"order\": 31}, {\"cast_id\": 180, \"character\": \"SWAT in Alley\", \"credit_id\": \"562197eb92514171c50096df\", \"gender\": 0, \"id\": 1218818, \"name\": \"James Harvey Ward\", \"order\": 32}, {\"cast_id\": 181, \"character\": \"Cop in Manhole\", \"credit_id\": \"562198019251411e1f004568\", \"gender\": 2, \"id\": 84754, \"name\": \"Gonzalo Menendez\", \"order\": 33}, {\"cast_id\": 365, \"character\": \"Sewer Thug #1\", \"credit_id\": \"5744667fc3a3681233001525\", \"gender\": 2, \"id\": 1473276, \"name\": \"Cameron Jack\", \"order\": 34}, {\"cast_id\": 182, \"character\": \"Sewer Thug #2\", \"credit_id\": \"5621987ec3a3686868003d9a\", \"gender\": 2, \"id\": 1364324, \"name\": \"Lex Daniel\", \"order\": 35}, {\"cast_id\": 183, \"character\": \"Mark\", \"credit_id\": \"562198cd92514171cd009658\", \"gender\": 2, \"id\": 1473749, \"name\": \"Tyler Dean Flores\", \"order\": 36}, {\"cast_id\": 184, \"character\": \"Doctor\", \"credit_id\": \"5621991192514171d000960d\", \"gender\": 2, \"id\": 539, \"name\": \"Thomas Lennon\", \"order\": 37}, {\"cast_id\": 185, \"character\": \"Yuppie\", \"credit_id\": \"5621997192514171d0009625\", \"gender\": 0, \"id\": 158484, \"name\": \"Trevor White\", \"order\": 38}, {\"cast_id\": 186, \"character\": \"Allen\", \"credit_id\": \"56219994c3a368240d0028d5\", \"gender\": 2, \"id\": 10689, \"name\": \"Rob Brown\", \"order\": 39}, {\"cast_id\": 187, \"character\": \"Exchange Security Chief\", \"credit_id\": \"562199b492514171d0009634\", \"gender\": 2, \"id\": 9632, \"name\": \"Fredric Lehne\", \"order\": 40}, {\"cast_id\": 188, \"character\": \"Female Security Guard\", \"credit_id\": \"562199dc92514171d000963c\", \"gender\": 0, \"id\": 1205900, \"name\": \"Courtney Munch\", \"order\": 41}, {\"cast_id\": 189, \"character\": \"Paparazzi #1\", \"credit_id\": \"56219a2ac3a368240d0028ee\", \"gender\": 2, \"id\": 1403768, \"name\": \"Chris Hill\", \"order\": 42}, {\"cast_id\": 190, \"character\": \"Paparazzi #2\", \"credit_id\": \"56219a3fc3a3680e16008b49\", \"gender\": 2, \"id\": 1465242, \"name\": \"Travis Guba\", \"order\": 43}, {\"cast_id\": 191, \"character\": \"Rich Twit\", \"credit_id\": \"56219a6cc3a3680e1900973e\", \"gender\": 2, \"id\": 141014, \"name\": \"Jay Benedict\", \"order\": 44}, {\"cast_id\": 192, \"character\": \"Officer Simon Jansen\", \"credit_id\": \"56219aadc3a3686868003e03\", \"gender\": 2, \"id\": 32363, \"name\": \"Will Estes\", \"order\": 45}, {\"cast_id\": 193, \"character\": \"Shoe Shine Man at GSE\", \"credit_id\": \"56219acc92514171c500975b\", \"gender\": 2, \"id\": 21182, \"name\": \"David Dayan Fisher\", \"order\": 46}, {\"cast_id\": 194, \"character\": \"Trader #1\", \"credit_id\": \"56219b32c3a368240d002927\", \"gender\": 2, \"id\": 83271, \"name\": \"Glen Powell\", \"order\": 47}, {\"cast_id\": 195, \"character\": \"Trader #3\", \"credit_id\": \"56219b86c3a3680e10009379\", \"gender\": 2, \"id\": 535, \"name\": \"Russ Fega\", \"order\": 48}, {\"cast_id\": 196, \"character\": \"Valet at Museum\", \"credit_id\": \"56219ba8c3a3680e10009383\", \"gender\": 2, \"id\": 1226016, \"name\": \"Andres Perez-Molina\", \"order\": 49}, {\"cast_id\": 197, \"character\": \"Veteran Cop\", \"credit_id\": \"56219bc6c3a368240d002952\", \"gender\": 2, \"id\": 15011, \"name\": \"Brent Briscoe\", \"order\": 50}, {\"cast_id\": 198, \"character\": \"Fredericks\", \"credit_id\": \"56219bec92514171d400967b\", \"gender\": 2, \"id\": 70225, \"name\": \"John Nolan\", \"order\": 51}, {\"cast_id\": 199, \"character\": \"2 Star Air Force General\", \"credit_id\": \"56219c1c9251413a740041a2\", \"gender\": 2, \"id\": 24627, \"name\": \"Oliver Cotton\", \"order\": 52}, {\"cast_id\": 200, \"character\": \"Airport Cop\", \"credit_id\": \"56219c3d92514171d400968e\", \"gender\": 0, \"id\": 142290, \"name\": \"Mark Killeen\", \"order\": 53}, {\"cast_id\": 201, \"character\": \"Analyst #1\", \"credit_id\": \"56219c6ac3a3680e1d009cb3\", \"gender\": 0, \"id\": 1377686, \"name\": \"Sarah Goldberg\", \"order\": 54}, {\"cast_id\": 202, \"character\": \"Analyst #2\", \"credit_id\": \"56219c86c3a3680e1d009cbb\", \"gender\": 2, \"id\": 550549, \"name\": \"John MacMillan\", \"order\": 55}, {\"cast_id\": 203, \"character\": \"Army Captain at Bridge\", \"credit_id\": \"56219cf9c3a3680e100093c7\", \"gender\": 2, \"id\": 21505, \"name\": \"Robert Wisdom\", \"order\": 56}, {\"cast_id\": 204, \"character\": \"Cement Truck Driver\", \"credit_id\": \"56219d18c3a3680e16008bd4\", \"gender\": 2, \"id\": 98804, \"name\": \"Ronnie Gene Blevins\", \"order\": 57}, {\"cast_id\": 205, \"character\": \"CIA Analyst\", \"credit_id\": \"56219d3d92514171d40096d2\", \"gender\": 0, \"id\": 1386824, \"name\": \"John Hollingworth\", \"order\": 58}, {\"cast_id\": 206, \"character\": \"Cop with Gordon\", \"credit_id\": \"56219d5dc3a3686868003e71\", \"gender\": 2, \"id\": 31362, \"name\": \"Ian Bohen\", \"order\": 59}, {\"cast_id\": 207, \"character\": \"Blind Prisoner\", \"credit_id\": \"56219d7ec3a3680e1d009ce9\", \"gender\": 2, \"id\": 145313, \"name\": \"Uri Gavriel\", \"order\": 60}, {\"cast_id\": 208, \"character\": \"Ex-Prisoner at River\", \"credit_id\": \"56219d9f9251417f470073a3\", \"gender\": 2, \"id\": 53252, \"name\": \"Noel Gugliemi\", \"order\": 61}, {\"cast_id\": 209, \"character\": \"Gangbanger\", \"credit_id\": \"56219dce9251417f470073b0\", \"gender\": 2, \"id\": 24202, \"name\": \"Hector Atreyu Ruiz\", \"order\": 62}, {\"cast_id\": 210, \"character\": \"Huge Inmate\", \"credit_id\": \"56219dfdc3a3680e2000a3c3\", \"gender\": 0, \"id\": 1301187, \"name\": \"Patrick Cox\", \"order\": 63}, {\"cast_id\": 211, \"character\": \"Kid with Apple\", \"credit_id\": \"56219e22c3a3680e2000a3cc\", \"gender\": 2, \"id\": 204191, \"name\": \"Aramis Knight\", \"order\": 64}, {\"cast_id\": 212, \"character\": \"Barsad\", \"credit_id\": \"56219e589251413a7400421c\", \"gender\": 2, \"id\": 40039, \"name\": \"Josh Stewart\", \"order\": 65}, {\"cast_id\": 213, \"character\": \"President\", \"credit_id\": \"56219e78c3a3680e0e00a022\", \"gender\": 2, \"id\": 21416, \"name\": \"William Devane\", \"order\": 66}, {\"cast_id\": 214, \"character\": \"Skinny Prisoner\", \"credit_id\": \"5621a54cc3a3686868003fcc\", \"gender\": 2, \"id\": 55411, \"name\": \"David Gyasi\", \"order\": 67}, {\"cast_id\": 215, \"character\": \"Special Forces #2\", \"credit_id\": \"5621a5ae9251413a74004f01\", \"gender\": 2, \"id\": 1244314, \"name\": \"Patrick Jordan\", \"order\": 68}, {\"cast_id\": 216, \"character\": \"Mercenary at City Hall\", \"credit_id\": \"5621a5f3c3a3680e1d009ef0\", \"gender\": 0, \"id\": 1286878, \"name\": \"Joshua Elijah Reese\", \"order\": 69}, {\"cast_id\": 217, \"character\": \"Uniform\", \"credit_id\": \"5621a611c3a3680e16008d93\", \"gender\": 2, \"id\": 6365, \"name\": \"Desmond Harrington\", \"order\": 70}, {\"cast_id\": 218, \"character\": \"Bomb Truck Driver\", \"credit_id\": \"5621a64ac3a3680e100095a7\", \"gender\": 2, \"id\": 1417415, \"name\": \"Mychael Bates\", \"order\": 71}, {\"cast_id\": 219, \"character\": \"Wayne\\'s Lawyer\", \"credit_id\": \"5622804dc3a3680e1d00c2ec\", \"gender\": 2, \"id\": 941, \"name\": \"Tomas Arana\", \"order\": 72}, {\"cast_id\": 220, \"character\": \"Applied Sciences Tech #1\", \"credit_id\": \"56228076c3a3680e1600ae35\", \"gender\": 0, \"id\": 1225911, \"name\": \"Peter Holden\", \"order\": 73}, {\"cast_id\": 221, \"character\": \"Applied Sciences Tech #2\", \"credit_id\": \"5622809bc3a3680e0e00c5a4\", \"gender\": 2, \"id\": 100891, \"name\": \"David Monahan\", \"order\": 74}, {\"cast_id\": 222, \"character\": \"Lawyer\\'s Clerk\", \"credit_id\": \"562280bbc3a3680e2000ca5f\", \"gender\": 1, \"id\": 20469, \"name\": \"Jillian Armenante\", \"order\": 75}, {\"cast_id\": 223, \"character\": \"Greeter at Museum\", \"credit_id\": \"562280fcc3a3680e2000ca68\", \"gender\": 1, \"id\": 105832, \"name\": \"Aja Evans\", \"order\": 76}, {\"cast_id\": 224, \"character\": \"Valet at Wayne Enterprises\", \"credit_id\": \"56228153c3a3680e1600ae64\", \"gender\": 0, \"id\": 1355615, \"name\": \"Aldous Davidson\", \"order\": 77}, {\"cast_id\": 225, \"character\": \"Warden at Blackgate\", \"credit_id\": \"562281a49251413a74006fda\", \"gender\": 2, \"id\": 51930, \"name\": \"Wade Williams\", \"order\": 78}, {\"cast_id\": 226, \"character\": \"Waiter in Florence Caf\\\\u00e9\", \"credit_id\": \"5623d3a8c3a3680e1600d8e2\", \"gender\": 0, \"id\": 95577, \"name\": \"Jake Canuso\", \"order\": 79}, {\"cast_id\": 228, \"character\": \"Janitor at GSE\", \"credit_id\": \"5623d47c92514127d4003522\", \"gender\": 0, \"id\": 1010873, \"name\": \"Massi Furlan\", \"order\": 81}, {\"cast_id\": 229, \"character\": \"Mercenary Security #4\", \"credit_id\": \"5623d4f2c3a3680e1d00f29d\", \"gender\": 2, \"id\": 26088, \"name\": \"Christopher Judge\", \"order\": 82}, {\"cast_id\": 230, \"character\": \"Board Member #2\", \"credit_id\": \"5623d5329251416b3000153a\", \"gender\": 2, \"id\": 853194, \"name\": \"Patrick Leahy\", \"order\": 83}, {\"cast_id\": 231, \"character\": \"Uniform #2\", \"credit_id\": \"5623d57192514135b00028d6\", \"gender\": 0, \"id\": 171606, \"name\": \"Todd Gearhart\", \"order\": 84}, {\"cast_id\": 232, \"character\": \"Gotham City Police Officer (uncredited)\", \"credit_id\": \"5623d5d69251417f4700becf\", \"gender\": 2, \"id\": 1406682, \"name\": \"Marc Abbink\", \"order\": 85}, {\"cast_id\": 233, \"character\": \"Young Stock Broker (uncredited)\", \"credit_id\": \"56252c5a9251413980001f01\", \"gender\": 0, \"id\": 1167718, \"name\": \"Isiah Adams\", \"order\": 86}, {\"cast_id\": 234, \"character\": \"Gotham City Police Officer (uncredited)\", \"credit_id\": \"56252cb2c3a3680e1d013497\", \"gender\": 1, \"id\": 572221, \"name\": \"Charlie Alejandro\", \"order\": 87}, {\"cast_id\": 235, \"character\": \"Former Upscaler (uncredited)\", \"credit_id\": \"56252cf9c3a3680e1d01349c\", \"gender\": 2, \"id\": 1116933, \"name\": \"Robert Arensen\", \"order\": 88}, {\"cast_id\": 236, \"character\": \"Angry Mobster / Prisoner (uncredited)\", \"credit_id\": \"56252d43c3a3680e2001483e\", \"gender\": 0, \"id\": 1524158, \"name\": \"Grant Babbitt\", \"order\": 89}, {\"cast_id\": 237, \"character\": \"Gotham Rogues Fan (uncredited)\", \"credit_id\": \"56252d6e9251413980001f2a\", \"gender\": 0, \"id\": 139188, \"name\": \"Fileena Bahris\", \"order\": 90}, {\"cast_id\": 238, \"character\": \"Mercenary (uncredited)\", \"credit_id\": \"56258b759251413980002af5\", \"gender\": 0, \"id\": 1075845, \"name\": \"Rick Bolander\", \"order\": 91}, {\"cast_id\": 239, \"character\": \"Police Officer (uncredited)\", \"credit_id\": \"56258bb192514135b000724c\", \"gender\": 0, \"id\": 1283949, \"name\": \"Kyle Patrick Brennan\", \"order\": 92}, {\"cast_id\": 240, \"character\": \"Gotham City Police Officer (uncredited)\", \"credit_id\": \"56267a109251412f15000873\", \"gender\": 0, \"id\": 1344943, \"name\": \"Scott Churchson\", \"order\": 93}, {\"cast_id\": 241, \"character\": \"Gotham Rogues Coach (uncredited)\", \"credit_id\": \"56267aeec3a3680e200186f9\", \"gender\": 0, \"id\": 1240191, \"name\": \"Bill Cowher\", \"order\": 94}, {\"cast_id\": 242, \"character\": \"Pentagon Navy Petty (uncredited)\", \"credit_id\": \"56267bbc9251412f150008ac\", \"gender\": 0, \"id\": 1359461, \"name\": \"Graham Curry\", \"order\": 95}, {\"cast_id\": 243, \"character\": \"Reporter (uncredited)\", \"credit_id\": \"5626dd3f92514137bb0006c8\", \"gender\": 1, \"id\": 1163300, \"name\": \"Stephanie Domini Ehlert\", \"order\": 96}, {\"cast_id\": 244, \"character\": \"Older Upscale Person (uncredited)\", \"credit_id\": \"5627ca69c3a3687c52000500\", \"gender\": 0, \"id\": 93752, \"name\": \"John Farrer\", \"order\": 97}, {\"cast_id\": 245, \"character\": \"Prisoner / Thug (uncredited)\", \"credit_id\": \"5627caafc3a3687c600004b3\", \"gender\": 0, \"id\": 1343309, \"name\": \"Frank Fata\", \"order\": 98}, {\"cast_id\": 246, \"character\": \"Stock Broker (uncredited)\", \"credit_id\": \"562830b7c3a3684880000421\", \"gender\": 0, \"id\": 1372419, \"name\": \"Christopher Bryan Gomez\", \"order\": 99}, {\"cast_id\": 247, \"character\": \"Thug (uncredited)\", \"credit_id\": \"562831229251414cdd000442\", \"gender\": 0, \"id\": 1502323, \"name\": \"Vito Grassi\", \"order\": 100}, {\"cast_id\": 248, \"character\": \"Stockbroker in Snipers Scoop - Stock Exchange (uncredited)\", \"credit_id\": \"5628314ec3a368487d00043e\", \"gender\": 2, \"id\": 1509064, \"name\": \"Michael Wren Gucciardo\", \"order\": 101}, {\"cast_id\": 249, \"character\": \"Prisoner (uncredited)\", \"credit_id\": \"56291c98c3a368487a0023d6\", \"gender\": 2, \"id\": 1525392, \"name\": \"Sam Harris\", \"order\": 102}, {\"cast_id\": 250, \"character\": \"Police Officer (uncredited)\", \"credit_id\": \"56291cdc9251414ccf002762\", \"gender\": 0, \"id\": 1365976, \"name\": \"Ed Heavey\", \"order\": 103}, {\"cast_id\": 251, \"character\": \"Gotham Police Officer / Fan (uncredited)\", \"credit_id\": \"56291d5cc3a368488c002830\", \"gender\": 2, \"id\": 1098036, \"name\": \"John W. Iwanonkiw\", \"order\": 104}, {\"cast_id\": 252, \"character\": \"Gordon\\'s Cop #4 (uncredited)\", \"credit_id\": \"56291dec9251414cd20026d0\", \"gender\": 0, \"id\": 1354413, \"name\": \"Cindy Jackson\", \"order\": 105}, {\"cast_id\": 253, \"character\": \"Boom Operator News Crew (uncredited)\", \"credit_id\": \"56291ecc9251414cd800251f\", \"gender\": 0, \"id\": 123875, \"name\": \"Daniel Jordano\", \"order\": 106}, {\"cast_id\": 254, \"character\": \"Gothamite (uncredited)\", \"credit_id\": \"562974c7c3a3681b5e000691\", \"gender\": 0, \"id\": 127060, \"name\": \"William Kania\", \"order\": 107}, {\"cast_id\": 255, \"character\": \"Gotham Rogues Fan (uncredited)\", \"credit_id\": \"562974f39251412853000708\", \"gender\": 0, \"id\": 1388256, \"name\": \"Tiffany Kemp\", \"order\": 108}, {\"cast_id\": 256, \"character\": \"Stock Broker (uncredited)\", \"credit_id\": \"562975e8c3a3681b4b00067b\", \"gender\": 0, \"id\": 1241239, \"name\": \"Sun Jae Kim\", \"order\": 109}, {\"cast_id\": 257, \"character\": \"Thug (uncredited)\", \"credit_id\": \"56297620c3a3681b5e0006c6\", \"gender\": 0, \"id\": 1378466, \"name\": \"Hrvoje Klecz\", \"order\": 110}, {\"cast_id\": 258, \"character\": \"Wall Street Broker (uncredited)\", \"credit_id\": \"5629768a9251412845000609\", \"gender\": 0, \"id\": 1264686, \"name\": \"Alex Kruz\", \"order\": 111}, {\"cast_id\": 259, \"character\": \"Gotham City Police Officer (uncredited)\", \"credit_id\": \"562a6fcf9251414ab7000d11\", \"gender\": 0, \"id\": 1169299, \"name\": \"Tyler La Marr\", \"order\": 112}, {\"cast_id\": 260, \"character\": \"Thug (uncredited)\", \"credit_id\": \"562a7046c3a3681b5c002691\", \"gender\": 2, \"id\": 1269611, \"name\": \"LeJon\", \"order\": 113}, {\"cast_id\": 261, \"character\": \"Gotham City Police Officer (uncredited)\", \"credit_id\": \"562a706fc3a3681b610028d9\", \"gender\": 0, \"id\": 1446471, \"name\": \"Paul Jude Letersky\", \"order\": 114}, {\"cast_id\": 262, \"character\": \"Prisoner (uncredited)\", \"credit_id\": \"562a70e5c3a3681b520027e1\", \"gender\": 0, \"id\": 1188950, \"name\": \"Joe Lipari\", \"order\": 115}, {\"cast_id\": 263, \"character\": \"Tourist (uncredited)\", \"credit_id\": \"562a7123c3a3681b5900267c\", \"gender\": 0, \"id\": 1383091, \"name\": \"Silvia Lombardo\", \"order\": 116}, {\"cast_id\": 264, \"character\": \"Gotham Rogues Fan (uncredited)\", \"credit_id\": \"562ad1bd9251414006001a31\", \"gender\": 0, \"id\": 1480128, \"name\": \"Jorge Mardel\", \"order\": 117}, {\"cast_id\": 265, \"character\": \"Gotham Rogues Fan (uncredited)\", \"credit_id\": \"562ad293925141284a0032ba\", \"gender\": 0, \"id\": 1174970, \"name\": \"Cale McConnell\", \"order\": 118}, {\"cast_id\": 266, \"character\": \"Gotham City Police Officer (uncredited)\", \"credit_id\": \"562ad2c6c3a3681b4d003b12\", \"gender\": 0, \"id\": 127063, \"name\": \"David Dale McCue\", \"order\": 119}, {\"cast_id\": 267, \"character\": \"Gotham Rogues Fan (uncredited)\", \"credit_id\": \"562ad2f49251412857003295\", \"gender\": 1, \"id\": 1480130, \"name\": \"Tiffany Sander McKenzie\", \"order\": 120}, {\"cast_id\": 268, \"character\": \"Angry Mobster (uncredited)\", \"credit_id\": \"562ad32f92514128530033a7\", \"gender\": 0, \"id\": 1505308, \"name\": \"Allen Merritt\", \"order\": 121}, {\"cast_id\": 269, \"character\": \"Wayne Enterprises Security (uncredited)\", \"credit_id\": \"562ad36ac3a3681b4d003b44\", \"gender\": 0, \"id\": 1509148, \"name\": \"Olan Montgomery\", \"order\": 122}, {\"cast_id\": 270, \"character\": \"Mercenary (uncredited)\", \"credit_id\": \"562ad3cdc3a3681b4d003b5b\", \"gender\": 0, \"id\": 122339, \"name\": \"Alex Moore\", \"order\": 123}, {\"cast_id\": 271, \"character\": \"Gotham City Police Officer (uncredited)\", \"credit_id\": \"562bb8699251412853005938\", \"gender\": 0, \"id\": 93778, \"name\": \"Shane Nolan\", \"order\": 124}, {\"cast_id\": 272, \"character\": \"Prisoner / Thug (uncredited)\", \"credit_id\": \"562bb8a1c3a3681b54005616\", \"gender\": 0, \"id\": 1205749, \"name\": \"Jackson Nunn\", \"order\": 125}, {\"cast_id\": 273, \"character\": \"Gotham City News Cameraman (uncredited)\", \"credit_id\": \"562bb8e1c3a3681b520051ef\", \"gender\": 0, \"id\": 1480150, \"name\": \"Joseph O\\'Brien\", \"order\": 126}, {\"cast_id\": 274, \"character\": \"Prison Guard (uncredited)\", \"credit_id\": \"562d1d8d9251414ad80066d8\", \"gender\": 2, \"id\": 20582, \"name\": \"Michael Papajohn\", \"order\": 127}, {\"cast_id\": 275, \"character\": \"Prisoner / Mob (uncredited)\", \"credit_id\": \"562d1dafc3a3681b4b007bf8\", \"gender\": 0, \"id\": 1298014, \"name\": \"Salomon Passariello\", \"order\": 128}, {\"cast_id\": 276, \"character\": \"Gotham Stock Trader (uncredited)\", \"credit_id\": \"562d1f0592514128530088c1\", \"gender\": 0, \"id\": 1429650, \"name\": \"Kyle David Pierce\", \"order\": 129}, {\"cast_id\": 277, \"character\": \"Gotham Rogues Player (uncredited)\", \"credit_id\": \"562d1f3c9251412845007b7b\", \"gender\": 0, \"id\": 1349600, \"name\": \"Troy Polamalu\", \"order\": 130}, {\"cast_id\": 278, \"character\": \"Gotham Police Officer (uncredited)\", \"credit_id\": \"562d1fc89251412857007fd5\", \"gender\": 0, \"id\": 1066138, \"name\": \"Michael Power\", \"order\": 131}, {\"cast_id\": 279, \"character\": \"Thug (uncredited)\", \"credit_id\": \"562e68b892514140060097f1\", \"gender\": 0, \"id\": 565508, \"name\": \"James Rawlings\", \"order\": 132}, {\"cast_id\": 280, \"character\": \"Doris in Black (uncredited)\", \"credit_id\": \"562e696e9251410a22006da5\", \"gender\": 0, \"id\": 1513716, \"name\": \"Kirsten Roeters\", \"order\": 133}, {\"cast_id\": 281, \"character\": \"Gotham Rogues Player (uncredited)\", \"credit_id\": \"562e69a79251414006009814\", \"gender\": 0, \"id\": 1215314, \"name\": \"Ben Roethlisberger\", \"order\": 134}, {\"cast_id\": 282, \"character\": \"Gotham Police Officer (uncredited)\", \"credit_id\": \"562e6a059251410a22006dba\", \"gender\": 2, \"id\": 1452954, \"name\": \"Mark Roman\", \"order\": 135}, {\"cast_id\": 283, \"character\": \"Thug (uncredited)\", \"credit_id\": \"562ed4919251410a22007aab\", \"gender\": 2, \"id\": 1451618, \"name\": \"Anthony J. Sacco\", \"order\": 136}, {\"cast_id\": 284, \"character\": \"Angry Thug (uncredited)\", \"credit_id\": \"562ed4c7c3a3681b6100c5aa\", \"gender\": 0, \"id\": 1085730, \"name\": \"Eric Salazar\", \"order\": 137}, {\"cast_id\": 285, \"character\": \"Hot Football Fan (uncredited)\", \"credit_id\": \"562ed503c3a3681b5c00bed4\", \"gender\": 0, \"id\": 557202, \"name\": \"Emily Schooley\", \"order\": 138}, {\"cast_id\": 286, \"character\": \"Gotham Rogues Owner (uncredited)\", \"credit_id\": \"562fbf75c3a3681b5c00dc2a\", \"gender\": 0, \"id\": 54211, \"name\": \"Thomas Tull\", \"order\": 139}, {\"cast_id\": 287, \"character\": \"Thug (uncredited)\", \"credit_id\": \"562fbfd3c3a3681b6100e4f0\", \"gender\": 2, \"id\": 1480223, \"name\": \"Chris Vaina\", \"order\": 140}, {\"cast_id\": 288, \"character\": \"Prisoner (voice) (uncredited)\", \"credit_id\": \"562fbff69251414ab700beee\", \"gender\": 0, \"id\": 102516, \"name\": \"Vincent van Ommen\", \"order\": 141}, {\"cast_id\": 289, \"character\": \"Gotham City Press (uncredited)\", \"credit_id\": \"562fc0609251414ab700bf02\", \"gender\": 0, \"id\": 1205751, \"name\": \"Michelle Vezzani\", \"order\": 142}, {\"cast_id\": 290, \"character\": \"Gotham Rogues Fan (uncredited)\", \"credit_id\": \"562fc0af925141285700d780\", \"gender\": 0, \"id\": 1205623, \"name\": \"Barbara Vincent\", \"order\": 143}, {\"cast_id\": 291, \"character\": \"Gotham City Police Officer (uncredited)\", \"credit_id\": \"5630244bc3a3681b5200e663\", \"gender\": 0, \"id\": 1521872, \"name\": \"Justin Michael Woods\", \"order\": 144}, {\"cast_id\": 292, \"character\": \"Mercenary Soldier (uncredited)\", \"credit_id\": \"5630248e925141284c00e8af\", \"gender\": 0, \"id\": 306870, \"name\": \"Jason Yee\", \"order\": 145}, {\"cast_id\": 293, \"character\": \"Gotham Citizen (uncredited)\", \"credit_id\": \"563024f6c3a3681b5c00e746\", \"gender\": 1, \"id\": 1205141, \"name\": \"Maria Zambrana\", \"order\": 146}, {\"cast_id\": 294, \"character\": \"Gotham City Police Officer (uncredited)\", \"credit_id\": \"56302558925141284c00e8c9\", \"gender\": 0, \"id\": 1343746, \"name\": \"John Zion\", \"order\": 147}, {\"cast_id\": 295, \"character\": \"Thug (uncredited)\", \"credit_id\": \"56302586c3a3681b4d0101a4\", \"gender\": 2, \"id\": 1454322, \"name\": \"Alex Ziwak\", \"order\": 148}, {\"cast_id\": 312, \"character\": \"Gotham City Police Officer (uncredited)\", \"credit_id\": \"567b4b6ac3a3684bcc001325\", \"gender\": 2, \"id\": 1553053, \"name\": \"Tommy Bayiokos\", \"order\": 149}, {\"cast_id\": 313, \"character\": \"Football Fan (uncredited)\", \"credit_id\": \"567c3783c3a36860e90013c3\", \"gender\": 0, \"id\": 1553307, \"name\": \"Matthew Gooley\", \"order\": 150}, {\"cast_id\": 314, \"character\": \"Cop (uncredited)\", \"credit_id\": \"567c9d3d9251417ddd0050fc\", \"gender\": 0, \"id\": 1553377, \"name\": \"Jeff Moffitt\", \"order\": 151}, {\"cast_id\": 350, \"character\": \"Football Fan (uncredited)\", \"credit_id\": \"56ba2843c3a3687c9e00008d\", \"gender\": 0, \"id\": 1574936, \"name\": \"Mark Falvo\", \"order\": 152}, {\"cast_id\": 352, \"character\": \"Thug (uncredited)\", \"credit_id\": \"56be271e9251417344004195\", \"gender\": 0, \"id\": 1576421, \"name\": \"Diogo Hausen\", \"order\": 153}, {\"cast_id\": 355, \"character\": \"Prisoner (uncredited)\", \"credit_id\": \"56c8aca1925141172f00382b\", \"gender\": 2, \"id\": 1580574, \"name\": \"Gary Sievers\", \"order\": 154}, {\"cast_id\": 356, \"character\": \"Mercenary (uncredited)\", \"credit_id\": \"56d0fb3d925141799e004ac6\", \"gender\": 0, \"id\": 1583389, \"name\": \"Orion McCabe\", \"order\": 155}, {\"cast_id\": 368, \"character\": \"Court Room Thug (uncredited)\", \"credit_id\": \"575af48cc3a368540300009a\", \"gender\": 2, \"id\": 1633514, \"name\": \"London May\", \"order\": 156}, {\"cast_id\": 383, \"character\": \"Gothamite (uncredited)\", \"credit_id\": \"57c84ca89251415a13000102\", \"gender\": 2, \"id\": 1673036, \"name\": \"James Quinn\", \"order\": 157}, {\"cast_id\": 385, \"character\": \"Thug #2 in Basement\", \"credit_id\": \"59309c45c3a3686a70000458\", \"gender\": 2, \"id\": 1536670, \"name\": \"Daniel Newman\", \"order\": 158}]'"
      ]
     },
     "execution_count": 151,
     "metadata": {},
     "output_type": "execute_result"
    }
   ],
   "source": [
    "movies['cast'][3]"
   ]
  },
  {
   "cell_type": "code",
   "execution_count": 155,
   "id": "4435d549-f4e3-4344-be03-a92b534b9da4",
   "metadata": {},
   "outputs": [
    {
     "data": {
      "text/html": [
       "<div>\n",
       "<style scoped>\n",
       "    .dataframe tbody tr th:only-of-type {\n",
       "        vertical-align: middle;\n",
       "    }\n",
       "\n",
       "    .dataframe tbody tr th {\n",
       "        vertical-align: top;\n",
       "    }\n",
       "\n",
       "    .dataframe thead th {\n",
       "        text-align: right;\n",
       "    }\n",
       "</style>\n",
       "<table border=\"1\" class=\"dataframe\">\n",
       "  <thead>\n",
       "    <tr style=\"text-align: right;\">\n",
       "      <th></th>\n",
       "      <th>movie_id</th>\n",
       "      <th>title</th>\n",
       "      <th>overview</th>\n",
       "      <th>genres</th>\n",
       "      <th>keywords</th>\n",
       "      <th>cast</th>\n",
       "      <th>crew</th>\n",
       "    </tr>\n",
       "  </thead>\n",
       "  <tbody>\n",
       "    <tr>\n",
       "      <th>0</th>\n",
       "      <td>19995</td>\n",
       "      <td>Avatar</td>\n",
       "      <td>In the 22nd century, a paraplegic Marine is di...</td>\n",
       "      <td>[Action, Adventure, Fantasy, Science Fiction]</td>\n",
       "      <td>[culture clash, future, space war, space colon...</td>\n",
       "      <td>[Sam Worthington, Zoe Saldana, Sigourney Weave...</td>\n",
       "      <td>[{\"credit_id\": \"52fe48009251416c750aca23\", \"de...</td>\n",
       "    </tr>\n",
       "    <tr>\n",
       "      <th>1</th>\n",
       "      <td>285</td>\n",
       "      <td>Pirates of the Caribbean: At World's End</td>\n",
       "      <td>Captain Barbossa, long believed to be dead, ha...</td>\n",
       "      <td>[Adventure, Fantasy, Action]</td>\n",
       "      <td>[ocean, drug abuse, exotic island, east india ...</td>\n",
       "      <td>[Johnny Depp, Orlando Bloom, Keira Knightley, ...</td>\n",
       "      <td>[{\"credit_id\": \"52fe4232c3a36847f800b579\", \"de...</td>\n",
       "    </tr>\n",
       "    <tr>\n",
       "      <th>2</th>\n",
       "      <td>206647</td>\n",
       "      <td>Spectre</td>\n",
       "      <td>A cryptic message from Bond’s past sends him o...</td>\n",
       "      <td>[Action, Adventure, Crime]</td>\n",
       "      <td>[spy, based on novel, secret agent, sequel, mi...</td>\n",
       "      <td>[Daniel Craig, Christoph Waltz, Léa Seydoux, R...</td>\n",
       "      <td>[{\"credit_id\": \"54805967c3a36829b5002c41\", \"de...</td>\n",
       "    </tr>\n",
       "    <tr>\n",
       "      <th>3</th>\n",
       "      <td>49026</td>\n",
       "      <td>The Dark Knight Rises</td>\n",
       "      <td>Following the death of District Attorney Harve...</td>\n",
       "      <td>[Action, Crime, Drama, Thriller]</td>\n",
       "      <td>[dc comics, crime fighter, terrorist, secret i...</td>\n",
       "      <td>[Christian Bale, Michael Caine, Gary Oldman, A...</td>\n",
       "      <td>[{\"credit_id\": \"52fe4781c3a36847f81398c3\", \"de...</td>\n",
       "    </tr>\n",
       "    <tr>\n",
       "      <th>4</th>\n",
       "      <td>49529</td>\n",
       "      <td>John Carter</td>\n",
       "      <td>John Carter is a war-weary, former military ca...</td>\n",
       "      <td>[Action, Adventure, Science Fiction]</td>\n",
       "      <td>[based on novel, mars, medallion, space travel...</td>\n",
       "      <td>[Taylor Kitsch, Lynn Collins, Samantha Morton,...</td>\n",
       "      <td>[{\"credit_id\": \"52fe479ac3a36847f813eaa3\", \"de...</td>\n",
       "    </tr>\n",
       "  </tbody>\n",
       "</table>\n",
       "</div>"
      ],
      "text/plain": [
       "   movie_id                                     title  \\\n",
       "0     19995                                    Avatar   \n",
       "1       285  Pirates of the Caribbean: At World's End   \n",
       "2    206647                                   Spectre   \n",
       "3     49026                     The Dark Knight Rises   \n",
       "4     49529                               John Carter   \n",
       "\n",
       "                                            overview  \\\n",
       "0  In the 22nd century, a paraplegic Marine is di...   \n",
       "1  Captain Barbossa, long believed to be dead, ha...   \n",
       "2  A cryptic message from Bond’s past sends him o...   \n",
       "3  Following the death of District Attorney Harve...   \n",
       "4  John Carter is a war-weary, former military ca...   \n",
       "\n",
       "                                          genres  \\\n",
       "0  [Action, Adventure, Fantasy, Science Fiction]   \n",
       "1                   [Adventure, Fantasy, Action]   \n",
       "2                     [Action, Adventure, Crime]   \n",
       "3               [Action, Crime, Drama, Thriller]   \n",
       "4           [Action, Adventure, Science Fiction]   \n",
       "\n",
       "                                            keywords  \\\n",
       "0  [culture clash, future, space war, space colon...   \n",
       "1  [ocean, drug abuse, exotic island, east india ...   \n",
       "2  [spy, based on novel, secret agent, sequel, mi...   \n",
       "3  [dc comics, crime fighter, terrorist, secret i...   \n",
       "4  [based on novel, mars, medallion, space travel...   \n",
       "\n",
       "                                                cast  \\\n",
       "0  [Sam Worthington, Zoe Saldana, Sigourney Weave...   \n",
       "1  [Johnny Depp, Orlando Bloom, Keira Knightley, ...   \n",
       "2  [Daniel Craig, Christoph Waltz, Léa Seydoux, R...   \n",
       "3  [Christian Bale, Michael Caine, Gary Oldman, A...   \n",
       "4  [Taylor Kitsch, Lynn Collins, Samantha Morton,...   \n",
       "\n",
       "                                                crew  \n",
       "0  [{\"credit_id\": \"52fe48009251416c750aca23\", \"de...  \n",
       "1  [{\"credit_id\": \"52fe4232c3a36847f800b579\", \"de...  \n",
       "2  [{\"credit_id\": \"54805967c3a36829b5002c41\", \"de...  \n",
       "3  [{\"credit_id\": \"52fe4781c3a36847f81398c3\", \"de...  \n",
       "4  [{\"credit_id\": \"52fe479ac3a36847f813eaa3\", \"de...  "
      ]
     },
     "execution_count": 155,
     "metadata": {},
     "output_type": "execute_result"
    }
   ],
   "source": [
    "movies.head()"
   ]
  },
  {
   "cell_type": "code",
   "execution_count": 120,
   "id": "0639d8b4-d7ba-46c0-955c-43b5804642ee",
   "metadata": {},
   "outputs": [
    {
     "data": {
      "text/plain": [
       "'[{\"credit_id\": \"52fe4781c3a36847f81398c3\", \"department\": \"Sound\", \"gender\": 2, \"id\": 947, \"job\": \"Original Music Composer\", \"name\": \"Hans Zimmer\"}, {\"credit_id\": \"52fe4781c3a36847f8139899\", \"department\": \"Production\", \"gender\": 0, \"id\": 282, \"job\": \"Producer\", \"name\": \"Charles Roven\"}, {\"credit_id\": \"52fe4781c3a36847f813991b\", \"department\": \"Writing\", \"gender\": 2, \"id\": 525, \"job\": \"Screenplay\", \"name\": \"Christopher Nolan\"}, {\"credit_id\": \"52fe4781c3a36847f8139865\", \"department\": \"Directing\", \"gender\": 2, \"id\": 525, \"job\": \"Director\", \"name\": \"Christopher Nolan\"}, {\"credit_id\": \"52fe4781c3a36847f8139893\", \"department\": \"Production\", \"gender\": 2, \"id\": 525, \"job\": \"Producer\", \"name\": \"Christopher Nolan\"}, {\"credit_id\": \"52fe4781c3a36847f8139915\", \"department\": \"Writing\", \"gender\": 2, \"id\": 525, \"job\": \"Story\", \"name\": \"Christopher Nolan\"}, {\"credit_id\": \"52fe4781c3a36847f813990f\", \"department\": \"Writing\", \"gender\": 2, \"id\": 527, \"job\": \"Screenplay\", \"name\": \"Jonathan Nolan\"}, {\"credit_id\": \"52fe4781c3a36847f813989f\", \"department\": \"Production\", \"gender\": 1, \"id\": 556, \"job\": \"Producer\", \"name\": \"Emma Thomas\"}, {\"credit_id\": \"52fe4781c3a36847f81398c9\", \"department\": \"Camera\", \"gender\": 2, \"id\": 559, \"job\": \"Director of Photography\", \"name\": \"Wally Pfister\"}, {\"credit_id\": \"54c37788c3a3681421011a07\", \"department\": \"Camera\", \"gender\": 2, \"id\": 559, \"job\": \"Camera Operator\", \"name\": \"Wally Pfister\"}, {\"credit_id\": \"52fe4781c3a36847f81398d5\", \"department\": \"Production\", \"gender\": 0, \"id\": 561, \"job\": \"Casting\", \"name\": \"John Papsidera\"}, {\"credit_id\": \"52fe4781c3a36847f8139921\", \"department\": \"Writing\", \"gender\": 2, \"id\": 3893, \"job\": \"Story\", \"name\": \"David S. Goyer\"}, {\"credit_id\": \"52fe4781c3a36847f81398a5\", \"department\": \"Writing\", \"gender\": 2, \"id\": 3794, \"job\": \"Characters\", \"name\": \"Bob Kane\"}, {\"credit_id\": \"52fe4781c3a36847f81398cf\", \"department\": \"Editing\", \"gender\": 0, \"id\": 3904, \"job\": \"Editor\", \"name\": \"Lee Smith\"}, {\"credit_id\": \"52fe4781c3a36847f81398bd\", \"department\": \"Production\", \"gender\": 2, \"id\": 10949, \"job\": \"Executive Producer\", \"name\": \"Michael Uslan\"}, {\"credit_id\": \"52fe4781c3a36847f81398b1\", \"department\": \"Production\", \"gender\": 2, \"id\": 10951, \"job\": \"Executive Producer\", \"name\": \"Benjamin Melniker\"}, {\"credit_id\": \"564e1be99251414af7000269\", \"department\": \"Crew\", \"gender\": 2, \"id\": 9568, \"job\": \"Stunts\", \"name\": \"Jim Palmer\"}, {\"credit_id\": \"54c224cec3a368792c00322f\", \"department\": \"Costume & Make-Up\", \"gender\": 0, \"id\": 9991, \"job\": \"Makeup Artist\", \"name\": \"Karen Blynder\"}, {\"credit_id\": \"52fe4781c3a36847f81398f9\", \"department\": \"Costume & Make-Up\", \"gender\": 1, \"id\": 10714, \"job\": \"Costume Design\", \"name\": \"Lindy Hemming\"}, {\"credit_id\": \"52fe4781c3a36847f81398f3\", \"department\": \"Art\", \"gender\": 0, \"id\": 12039, \"job\": \"Set Decoration\", \"name\": \"Paki Smith\"}, {\"credit_id\": \"52fe4781c3a36847f8139905\", \"department\": \"Art\", \"gender\": 2, \"id\": 14762, \"job\": \"Art Direction\", \"name\": \"Robert Woodruff\"}, {\"credit_id\": \"52fe4781c3a36847f81398e1\", \"department\": \"Art\", \"gender\": 2, \"id\": 15327, \"job\": \"Production Design\", \"name\": \"Nathan Crowley\"}, {\"credit_id\": \"52fe4781c3a36847f81398e7\", \"department\": \"Art\", \"gender\": 0, \"id\": 15328, \"job\": \"Production Design\", \"name\": \"Kevin Kavanaugh\"}, {\"credit_id\": \"570b91d29251415248001736\", \"department\": \"Art\", \"gender\": 0, \"id\": 17677, \"job\": \"Supervising Art Director\", \"name\": \"Naaman Marshall\"}, {\"credit_id\": \"57c4678f92514105db0046d4\", \"department\": \"Lighting\", \"gender\": 0, \"id\": 35630, \"job\": \"Electrician\", \"name\": \"Timothy Healy\"}, {\"credit_id\": \"5745d36e92514129a0002e7c\", \"department\": \"Lighting\", \"gender\": 0, \"id\": 40120, \"job\": \"Rigging Grip\", \"name\": \"Brian \\'Buzz\\' Buzzelli\"}, {\"credit_id\": \"54c2732b9251416eae00cab6\", \"department\": \"Sound\", \"gender\": 2, \"id\": 52193, \"job\": \"ADR & Dubbing\", \"name\": \"R.J. Kizer\"}, {\"credit_id\": \"52fe4781c3a36847f81398b7\", \"department\": \"Production\", \"gender\": 0, \"id\": 54211, \"job\": \"Executive Producer\", \"name\": \"Thomas Tull\"}, {\"credit_id\": \"56aa55a092514159a5001cf3\", \"department\": \"Crew\", \"gender\": 2, \"id\": 57569, \"job\": \"Stunts\", \"name\": \"Lee Sheward\"}, {\"credit_id\": \"56817f919251417def0118c9\", \"department\": \"Crew\", \"gender\": 0, \"id\": 61329, \"job\": \"Stunts\", \"name\": \"Declan Mulvey\"}, {\"credit_id\": \"52fe4781c3a36847f81398ff\", \"department\": \"Art\", \"gender\": 0, \"id\": 62560, \"job\": \"Art Direction\", \"name\": \"Gerald Sullivan\"}, {\"credit_id\": \"54c2234d925141315a005b6b\", \"department\": \"Art\", \"gender\": 0, \"id\": 31172, \"job\": \"Art Direction\", \"name\": \"Zack Grobler\"}, {\"credit_id\": \"579d0191c3a36828b100130b\", \"department\": \"Sound\", \"gender\": 0, \"id\": 68016, \"job\": \"Orchestrator\", \"name\": \"Kevin Kaska\"}, {\"credit_id\": \"56d9d2c9925141340201f6ed\", \"department\": \"Crew\", \"gender\": 2, \"id\": 81687, \"job\": \"Stunts\", \"name\": \"Rick Avery\"}, {\"credit_id\": \"52fe4781c3a36847f81398ab\", \"department\": \"Production\", \"gender\": 2, \"id\": 75804, \"job\": \"Executive Producer\", \"name\": \"Kevin De La Noy\"}, {\"credit_id\": \"5766cb129251411323000031\", \"department\": \"Production\", \"gender\": 0, \"id\": 113913, \"job\": \"Co-Producer\", \"name\": \"Jordan Goldberg\"}, {\"credit_id\": \"54c227c2c3a3686c61012820\", \"department\": \"Production\", \"gender\": 0, \"id\": 114017, \"job\": \"Production Manager\", \"name\": \"Karl McMillan\"}, {\"credit_id\": \"54c375f6c3a36833380010e1\", \"department\": \"Visual Effects\", \"gender\": 0, \"id\": 92231, \"job\": \"VFX Supervisor\", \"name\": \"May Leung\"}, {\"credit_id\": \"56c605c9c3a3680d4e003645\", \"department\": \"Crew\", \"gender\": 2, \"id\": 122549, \"job\": \"Stunts\", \"name\": \"Philippe Vonlanthen\"}, {\"credit_id\": \"54c274859251416e6000d4ee\", \"department\": \"Sound\", \"gender\": 0, \"id\": 138618, \"job\": \"Sound Re-Recording Mixer\", \"name\": \"Gary Rizzo\"}, {\"credit_id\": \"56e76ae3c3a368408c000be7\", \"department\": \"Crew\", \"gender\": 0, \"id\": 142157, \"job\": \"Stunts\", \"name\": \"Doug Coleman\"}, {\"credit_id\": \"579794d19251411a9000004d\", \"department\": \"Crew\", \"gender\": 2, \"id\": 202930, \"job\": \"Stunts\", \"name\": \"Anthony Molinari\"}, {\"credit_id\": \"568181699251411334008948\", \"department\": \"Crew\", \"gender\": 0, \"id\": 204339, \"job\": \"Stunts\", \"name\": \"Christopher Place\"}, {\"credit_id\": \"56a7b806c3a36828b800190b\", \"department\": \"Sound\", \"gender\": 0, \"id\": 230436, \"job\": \"ADR & Dubbing\", \"name\": \"Barbara Harris\"}, {\"credit_id\": \"564e1b75c3a368070f000288\", \"department\": \"Crew\", \"gender\": 0, \"id\": 550900, \"job\": \"Stunts\", \"name\": \"Carrick O\\'Quinn\"}, {\"credit_id\": \"57531069c3a3684c100007ef\", \"department\": \"Sound\", \"gender\": 2, \"id\": 932186, \"job\": \"Orchestrator\", \"name\": \"Bruce Fowler\"}, {\"credit_id\": \"568035f3c3a3684bcc00e7b2\", \"department\": \"Crew\", \"gender\": 2, \"id\": 932748, \"job\": \"Stunts\", \"name\": \"Roy T. Anderson\"}, {\"credit_id\": \"54c2239fc3a36879290038ba\", \"department\": \"Art\", \"gender\": 2, \"id\": 969743, \"job\": \"Art Direction\", \"name\": \"Dean Wolcott\"}, {\"credit_id\": \"52fe4781c3a36847f81398db\", \"department\": \"Production\", \"gender\": 0, \"id\": 1018958, \"job\": \"Casting\", \"name\": \"Toby Whale\"}, {\"credit_id\": \"56a189729251415e5e00fd3b\", \"department\": \"Crew\", \"gender\": 2, \"id\": 1025090, \"job\": \"Stunts\", \"name\": \"Jim Wilkey\"}, {\"credit_id\": \"570b91c3c3a3684f41003b4c\", \"department\": \"Art\", \"gender\": 0, \"id\": 1034754, \"job\": \"Supervising Art Director\", \"name\": \"James Hambidge\"}, {\"credit_id\": \"568183ab9251414f6300a6f8\", \"department\": \"Crew\", \"gender\": 0, \"id\": 1045964, \"job\": \"Stunts\", \"name\": \"Aaron Vexler\"}, {\"credit_id\": \"54c37a699251412446005572\", \"department\": \"Costume & Make-Up\", \"gender\": 0, \"id\": 1046614, \"job\": \"Set Costumer\", \"name\": \"Carmia Marshall\"}, {\"credit_id\": \"54c2737bc3a368792c003905\", \"department\": \"Editing\", \"gender\": 0, \"id\": 1050930, \"job\": \"Dialogue Editor\", \"name\": \"Hugo Weng\"}, {\"credit_id\": \"57a29134c3a36832b8001afb\", \"department\": \"Crew\", \"gender\": 0, \"id\": 1061061, \"job\": \"Stunts\", \"name\": \"Adam Horton\"}, {\"credit_id\": \"56aba40e9251410e8f002cf7\", \"department\": \"Crew\", \"gender\": 0, \"id\": 1106629, \"job\": \"Stunts\", \"name\": \"Raymond Mamrak\"}, {\"credit_id\": \"54c27360925141315a0062e4\", \"department\": \"Sound\", \"gender\": 2, \"id\": 1116937, \"job\": \"Foley\", \"name\": \"John Roesch\"}, {\"credit_id\": \"54c3717792514124c8005220\", \"department\": \"Visual Effects\", \"gender\": 0, \"id\": 1155668, \"job\": \"Visual Effects Producer\", \"name\": \"Mike Chambers\"}, {\"credit_id\": \"54c226f2c3a368792c003267\", \"department\": \"Production\", \"gender\": 0, \"id\": 1270053, \"job\": \"Production Manager\", \"name\": \"Emmanuel Pappas\"}, {\"credit_id\": \"568186c0c3a36828f5006e04\", \"department\": \"Crew\", \"gender\": 0, \"id\": 1301652, \"job\": \"Stunts\", \"name\": \"Stephen W. Schriver\"}, {\"credit_id\": \"54c379b4c3a3687c4000fcd6\", \"department\": \"Costume & Make-Up\", \"gender\": 0, \"id\": 1319744, \"job\": \"Costume Supervisor\", \"name\": \"Linda Matthews\"}, {\"credit_id\": \"54c2248cc3a36878fb003164\", \"department\": \"Costume & Make-Up\", \"gender\": 0, \"id\": 1322015, \"job\": \"Makeup Department Head\", \"name\": \"Luisa Abel\"}, {\"credit_id\": \"54c2238192514124890035aa\", \"department\": \"Art\", \"gender\": 0, \"id\": 1327144, \"job\": \"Art Direction\", \"name\": \"Sue Whitaker\"}, {\"credit_id\": \"56817e2192514113340088e0\", \"department\": \"Crew\", \"gender\": 1, \"id\": 1329415, \"job\": \"Stunts\", \"name\": \"Samantha MacIvor\"}, {\"credit_id\": \"56817898c3a3684bcc011ff7\", \"department\": \"Crew\", \"gender\": 0, \"id\": 1329527, \"job\": \"Stunts\", \"name\": \"Jared Burke\"}, {\"credit_id\": \"54c3796cc3a36878d00059fb\", \"department\": \"Costume & Make-Up\", \"gender\": 0, \"id\": 1336192, \"job\": \"Costume Supervisor\", \"name\": \"Laura Downing\"}, {\"credit_id\": \"54c37a9292514124c800531e\", \"department\": \"Costume & Make-Up\", \"gender\": 0, \"id\": 1336193, \"job\": \"Set Costumer\", \"name\": \"Rebecca Levin\"}, {\"credit_id\": \"5796b492c3a3680cfa002ae3\", \"department\": \"Crew\", \"gender\": 0, \"id\": 1340941, \"job\": \"Stunts\", \"name\": \"Ray Siegle\"}, {\"credit_id\": \"54c273cf92514124ed003c05\", \"department\": \"Sound\", \"gender\": 2, \"id\": 1341403, \"job\": \"Sound Designer\", \"name\": \"Richard King\"}, {\"credit_id\": \"54c2739dc3a368792c003908\", \"department\": \"Sound\", \"gender\": 2, \"id\": 1341403, \"job\": \"Supervising Sound Editor\", \"name\": \"Richard King\"}, {\"credit_id\": \"54c27458c3a36878fb003835\", \"department\": \"Sound\", \"gender\": 0, \"id\": 1341786, \"job\": \"Sound Effects Editor\", \"name\": \"Bryan O. Watkins\"}, {\"credit_id\": \"54e4a102c3a368087b005200\", \"department\": \"Crew\", \"gender\": 0, \"id\": 1348686, \"job\": \"Production Office Assistant\", \"name\": \"Bradley Porter\"}, {\"credit_id\": \"54c22e3d92514124c8003387\", \"department\": \"Art\", \"gender\": 0, \"id\": 1355530, \"job\": \"Sculptor\", \"name\": \"Cuitlahuac Morales Velazquez\"}, {\"credit_id\": \"54c27591c3a36879290040e9\", \"department\": \"Crew\", \"gender\": 0, \"id\": 1357062, \"job\": \"Special Effects Coordinator\", \"name\": \"Scott R. Fisher\"}, {\"credit_id\": \"54c376f492514124460054fe\", \"department\": \"Camera\", \"gender\": 0, \"id\": 1357064, \"job\": \"Camera Operator\", \"name\": \"Greg Baldi\"}, {\"credit_id\": \"54c37756c3a3683338001106\", \"department\": \"Camera\", \"gender\": 0, \"id\": 1357066, \"job\": \"Camera Operator\", \"name\": \"P. Scott Sakamoto\"}, {\"credit_id\": \"54c37c5692514124c8005349\", \"department\": \"Crew\", \"gender\": 0, \"id\": 1357070, \"job\": \"Transportation Coordinator\", \"name\": \"Denny Caira\"}, {\"credit_id\": \"5681830ec3a3684be9010b3b\", \"department\": \"Crew\", \"gender\": 2, \"id\": 1358564, \"job\": \"Stunts\", \"name\": \"Trampas Thompson\"}, {\"credit_id\": \"54c37cdc92514124460055a5\", \"department\": \"Directing\", \"gender\": 2, \"id\": 1367508, \"job\": \"Script Supervisor\", \"name\": \"Steve Gehrke\"}, {\"credit_id\": \"54c37345c3a36833380010a6\", \"department\": \"Crew\", \"gender\": 0, \"id\": 1372882, \"job\": \"Visual Effects Editor\", \"name\": \"Derrick Mitchell\"}, {\"credit_id\": \"54c27414c3a368792c003910\", \"department\": \"Sound\", \"gender\": 0, \"id\": 1377222, \"job\": \"Sound Effects Editor\", \"name\": \"Michael W. Mitchell\"}, {\"credit_id\": \"54c22a06c3a368792c0032a2\", \"department\": \"Art\", \"gender\": 0, \"id\": 1378222, \"job\": \"Construction Coordinator\", \"name\": \"Joe Ondrejko\"}, {\"credit_id\": \"567607a192514179e3003fd2\", \"department\": \"Sound\", \"gender\": 0, \"id\": 1378231, \"job\": \"Sound Effects Editor\", \"name\": \"Ken J. Johnson\"}, {\"credit_id\": \"54c37b21c3a368789b0059cb\", \"department\": \"Costume & Make-Up\", \"gender\": 0, \"id\": 1378246, \"job\": \"Set Costumer\", \"name\": \"Lori Harris\"}, {\"credit_id\": \"54c37e8cc3a3681421011a9c\", \"department\": \"Crew\", \"gender\": 0, \"id\": 1378726, \"job\": \"Dialect Coach\", \"name\": \"Francie Brown\"}, {\"credit_id\": \"568185c592514132db00f267\", \"department\": \"Crew\", \"gender\": 0, \"id\": 1384390, \"job\": \"Stunts\", \"name\": \"Trevor Habberstad\"}, {\"credit_id\": \"54c22976925141315a005be2\", \"department\": \"Art\", \"gender\": 0, \"id\": 1389526, \"job\": \"Construction Coordinator\", \"name\": \"Amanda Pettett\"}, {\"credit_id\": \"54c37a01c3a36878fb00500a\", \"department\": \"Costume & Make-Up\", \"gender\": 0, \"id\": 1391648, \"job\": \"Set Costumer\", \"name\": \"Hana Rausalova\"}, {\"credit_id\": \"54c2236fc3a36878fb003141\", \"department\": \"Art\", \"gender\": 0, \"id\": 1392587, \"job\": \"Art Direction\", \"name\": \"Tom Still\"}, {\"credit_id\": \"54c2757792514124c80039d9\", \"department\": \"Crew\", \"gender\": 0, \"id\": 1393387, \"job\": \"Special Effects Coordinator\", \"name\": \"Jeff Brink\"}, {\"credit_id\": \"54c37d0492514124460055a7\", \"department\": \"Crew\", \"gender\": 0, \"id\": 1394050, \"job\": \"Dialect Coach\", \"name\": \"Paula Jack\"}, {\"credit_id\": \"54c37b3cc3a368792c0050eb\", \"department\": \"Costume & Make-Up\", \"gender\": 0, \"id\": 1395030, \"job\": \"Set Costumer\", \"name\": \"Alison Evans\"}, {\"credit_id\": \"54c37ae1c3a3687929005bf1\", \"department\": \"Costume & Make-Up\", \"gender\": 0, \"id\": 1395032, \"job\": \"Set Costumer\", \"name\": \"Amanda Jenkins\"}, {\"credit_id\": \"54c22849c3a368789b0037cf\", \"department\": \"Art\", \"gender\": 0, \"id\": 1395430, \"job\": \"Art Department Coordinator\", \"name\": \"Jenne Lee\"}, {\"credit_id\": \"54c22e1cc3a36878fb003228\", \"department\": \"Art\", \"gender\": 0, \"id\": 1395435, \"job\": \"Set Designer\", \"name\": \"Theodore Sharps\"}, {\"credit_id\": \"54c2734bc3a368789b003f6a\", \"department\": \"Sound\", \"gender\": 0, \"id\": 1397823, \"job\": \"Foley\", \"name\": \"Alyson Dee Moore\"}, {\"credit_id\": \"54c22b05c3a36878d000384e\", \"department\": \"Art\", \"gender\": 0, \"id\": 1398089, \"job\": \"Greensman\", \"name\": \"Ian Whiteford\"}, {\"credit_id\": \"54c3785cc3a36878fb004fd2\", \"department\": \"Camera\", \"gender\": 0, \"id\": 1399071, \"job\": \"Helicopter Camera\", \"name\": \"Hans Bjerno\"}, {\"credit_id\": \"54c37a339251416e6000ee25\", \"department\": \"Costume & Make-Up\", \"gender\": 0, \"id\": 1399323, \"job\": \"Set Costumer\", \"name\": \"Mustapha Mimis\"}, {\"credit_id\": \"54c22b5a9251416e6000cdc1\", \"department\": \"Art\", \"gender\": 0, \"id\": 1399463, \"job\": \"Leadman\", \"name\": \"Bruce Lee Gross\"}, {\"credit_id\": \"54c378cfc3a3687929005bb1\", \"department\": \"Camera\", \"gender\": 0, \"id\": 1399876, \"job\": \"Still Photographer\", \"name\": \"Ron Phillips\"}, {\"credit_id\": \"54c37afbc3a368792c0050e2\", \"department\": \"Costume & Make-Up\", \"gender\": 0, \"id\": 1401814, \"job\": \"Set Costumer\", \"name\": \"Alejandro M. Hernandez\"}, {\"credit_id\": \"54c37e5a925141243200588d\", \"department\": \"Crew\", \"gender\": 1, \"id\": 1402008, \"job\": \"Dialect Coach\", \"name\": \"Kathleen S. Dunn\"}, {\"credit_id\": \"57785421c3a36826c9000a83\", \"department\": \"Directing\", \"gender\": 0, \"id\": 1402079, \"job\": \"Assistant Director\", \"name\": \"Matthew Reedy\"}, {\"credit_id\": \"54c223c2c3a3686c610127d0\", \"department\": \"Costume & Make-Up\", \"gender\": 0, \"id\": 1403424, \"job\": \"Costume Design\", \"name\": \"Roberto Craciunica\"}, {\"credit_id\": \"54c227f6c3a36878fb0031a8\", \"department\": \"Production\", \"gender\": 0, \"id\": 1403427, \"job\": \"Production Supervisor\", \"name\": \"Candice D. Campos\"}, {\"credit_id\": \"54c3780d925141248900573b\", \"department\": \"Camera\", \"gender\": 0, \"id\": 1404739, \"job\": \"Helicopter Camera\", \"name\": \"Steve Koster\"}, {\"credit_id\": \"54c37482c3a36878fb004f73\", \"department\": \"Visual Effects\", \"gender\": 0, \"id\": 1408347, \"job\": \"Visual Effects Supervisor\", \"name\": \"Pete Bebb\"}, {\"credit_id\": \"54c2254892514124ed003561\", \"department\": \"Costume & Make-Up\", \"gender\": 0, \"id\": 1409824, \"job\": \"Wigmaker\", \"name\": \"Natasha Ladek\"}, {\"credit_id\": \"567d811dc3a36860e9006747\", \"department\": \"Art\", \"gender\": 0, \"id\": 1411808, \"job\": \"Painter\", \"name\": \"Chris Bertholf\"}, {\"credit_id\": \"54c224b7c3a36879290038de\", \"department\": \"Costume & Make-Up\", \"gender\": 0, \"id\": 1412185, \"job\": \"Makeup Artist\", \"name\": \"Jay Wejebe\"}, {\"credit_id\": \"54c22a7e92514124ed0035cf\", \"department\": \"Art\", \"gender\": 0, \"id\": 1413089, \"job\": \"Construction Foreman\", \"name\": \"William Gideon\"}, {\"credit_id\": \"54c3761dc3a368789b005920\", \"department\": \"Crew\", \"gender\": 0, \"id\": 1415157, \"job\": \"Sequence Supervisor\", \"name\": \"Joel Green\"}, {\"credit_id\": \"56fd6190c3a3685cda0005de\", \"department\": \"Crew\", \"gender\": 0, \"id\": 1415606, \"job\": \"Makeup Effects\", \"name\": \"Diana Choi\"}, {\"credit_id\": \"54c37e11c3a3681421011a8f\", \"department\": \"Crew\", \"gender\": 0, \"id\": 1416005, \"job\": \"Unit Publicist\", \"name\": \"Claudia Kalindjian\"}, {\"credit_id\": \"54c2233c92514124c8003261\", \"department\": \"Art\", \"gender\": 0, \"id\": 1417396, \"job\": \"Art Direction\", \"name\": \"Toby Britton\"}, {\"credit_id\": \"54c2235ec3a368142100fa9a\", \"department\": \"Art\", \"gender\": 0, \"id\": 1417397, \"job\": \"Art Direction\", \"name\": \"Jonathan Kevin Ong\"}, {\"credit_id\": \"54c223ea9251416e6000cd21\", \"department\": \"Costume & Make-Up\", \"gender\": 0, \"id\": 1417398, \"job\": \"Hairstylist\", \"name\": \"Janice Alexander\"}, {\"credit_id\": \"54c2240292514124460034ac\", \"department\": \"Costume & Make-Up\", \"gender\": 0, \"id\": 1417399, \"job\": \"Hairstylist\", \"name\": \"Patricia DeHaney\"}, {\"credit_id\": \"54c224619251416eae00c3aa\", \"department\": \"Costume & Make-Up\", \"gender\": 0, \"id\": 1417400, \"job\": \"Hairstylist\", \"name\": \"Deena Adair\"}, {\"credit_id\": \"54c225c2c3a36878d00037bb\", \"department\": \"Crew\", \"gender\": 0, \"id\": 1417403, \"job\": \"Makeup Effects\", \"name\": \"Andre Gilbert\"}, {\"credit_id\": \"54c227a49251416e6000cd7b\", \"department\": \"Production\", \"gender\": 0, \"id\": 1417406, \"job\": \"Production Manager\", \"name\": \"Michael Murray\"}, {\"credit_id\": \"54c227dc925141248900361a\", \"department\": \"Production\", \"gender\": 0, \"id\": 1417407, \"job\": \"Production Manager\", \"name\": \"Thomas Hayslip\"}, {\"credit_id\": \"54c2280ec3a3687929003931\", \"department\": \"Production\", \"gender\": 0, \"id\": 1417408, \"job\": \"Production Supervisor\", \"name\": \"Mika Saito\"}, {\"credit_id\": \"54c22867c3a3686c6101282f\", \"department\": \"Art\", \"gender\": 0, \"id\": 1417409, \"job\": \"Art Department Coordinator\", \"name\": \"Pippa Needs\"}, {\"credit_id\": \"54c22883925141244600351e\", \"department\": \"Art\", \"gender\": 0, \"id\": 1417410, \"job\": \"Art Department Coordinator\", \"name\": \"Laura Pliskin\"}, {\"credit_id\": \"54c228d49251416e6000cd90\", \"department\": \"Art\", \"gender\": 0, \"id\": 1417411, \"job\": \"Assistant Art Director\", \"name\": \"Anna Bregman\"}, {\"credit_id\": \"54c2290cc3a36878fb0031c1\", \"department\": \"Art\", \"gender\": 0, \"id\": 1417412, \"job\": \"Assistant Art Director\", \"name\": \"Robert W. Joseph\"}, {\"credit_id\": \"54c22949c3a36878d000381a\", \"department\": \"Crew\", \"gender\": 0, \"id\": 1417413, \"job\": \"Property Master\", \"name\": \"Barry Wilkinson\"}, {\"credit_id\": \"54c229eec3a36878d0003836\", \"department\": \"Art\", \"gender\": 0, \"id\": 1417414, \"job\": \"Construction Coordinator\", \"name\": \"Glen Pangione\"}, {\"credit_id\": \"594851dac3a36816f6048d7d\", \"department\": \"Art\", \"gender\": 2, \"id\": 1417415, \"job\": \"Property Master\", \"name\": \"Mychael Bates\"}, {\"credit_id\": \"54c22ac69251416eae00c42c\", \"department\": \"Art\", \"gender\": 0, \"id\": 1417416, \"job\": \"Greensman\", \"name\": \"Brandon A. Plonka\"}, {\"credit_id\": \"54c22ae3c3a368792900396e\", \"department\": \"Crew\", \"gender\": 0, \"id\": 1417417, \"job\": \"Scenic Artist\", \"name\": \"Elizabeth Tomasetti\"}, {\"credit_id\": \"54c22d4592514124c8003368\", \"department\": \"Art\", \"gender\": 0, \"id\": 1417418, \"job\": \"Leadman\", \"name\": \"Sean Ginevan\"}, {\"credit_id\": \"54c22df6c3a36878d000388e\", \"department\": \"Art\", \"gender\": 0, \"id\": 1417419, \"job\": \"Set Designer\", \"name\": \"Jason Kolowski\"}, {\"credit_id\": \"54c273ec92514124ed003c0a\", \"department\": \"Sound\", \"gender\": 0, \"id\": 1417514, \"job\": \"Sound Effects Editor\", \"name\": \"Michael Babcock\"}, {\"credit_id\": \"54c2752392514124c80039d3\", \"department\": \"Sound\", \"gender\": 0, \"id\": 1417514, \"job\": \"Sound Re-Recording Mixer\", \"name\": \"Michael Babcock\"}, {\"credit_id\": \"54c273fec3a368789b003f7a\", \"department\": \"Sound\", \"gender\": 0, \"id\": 1417515, \"job\": \"Sound Effects Editor\", \"name\": \"Randle Akerson\"}, {\"credit_id\": \"54c27428925141315a0062f5\", \"department\": \"Sound\", \"gender\": 0, \"id\": 1417516, \"job\": \"Sound Effects Editor\", \"name\": \"Jeff Sawyer\"}, {\"credit_id\": \"54c274f1c3a36879290040da\", \"department\": \"Sound\", \"gender\": 0, \"id\": 1417517, \"job\": \"Sound Re-Recording Mixer\", \"name\": \"Carlos Solis\"}, {\"credit_id\": \"54c37193c3a368792c004fed\", \"department\": \"Crew\", \"gender\": 0, \"id\": 1417820, \"job\": \"Visual Effects Editor\", \"name\": \"Nick Dacey\"}, {\"credit_id\": \"54c372959251416eae00e22d\", \"department\": \"Visual Effects\", \"gender\": 0, \"id\": 1417821, \"job\": \"Visual Effects Producer\", \"name\": \"Claudia Dehmel\"}, {\"credit_id\": \"54c372e39251416e6000ed54\", \"department\": \"Crew\", \"gender\": 0, \"id\": 1417822, \"job\": \"Visual Effects Editor\", \"name\": \"Reuben Lloyd-Pack\"}, {\"credit_id\": \"54c3731892514124c8005254\", \"department\": \"Crew\", \"gender\": 0, \"id\": 1417823, \"job\": \"Visual Effects Editor\", \"name\": \"Steve Miller\"}, {\"credit_id\": \"54c3738f9251416e6000ed5f\", \"department\": \"Crew\", \"gender\": 0, \"id\": 1417824, \"job\": \"Visual Effects Editor\", \"name\": \"Christopher Payne\"}, {\"credit_id\": \"54c374b392514124890056d9\", \"department\": \"Crew\", \"gender\": 0, \"id\": 1417825, \"job\": \"CG Supervisor\", \"name\": \"Julian Foddy\"}, {\"credit_id\": \"54c374cc9251416e6000ed85\", \"department\": \"Visual Effects\", \"gender\": 0, \"id\": 1417826, \"job\": \"Visual Effects Supervisor\", \"name\": \"Paul J. Franklin\"}, {\"credit_id\": \"54c374eec3a368789b005901\", \"department\": \"Crew\", \"gender\": 0, \"id\": 1417827, \"job\": \"CG Supervisor\", \"name\": \"Nicola Hoyle\"}, {\"credit_id\": \"54c37524c3a3687929005b32\", \"department\": \"Visual Effects\", \"gender\": 0, \"id\": 1417828, \"job\": \"Visual Effects Supervisor\", \"name\": \"Andrew Lockley\"}, {\"credit_id\": \"54c3757ac3a36833380010d3\", \"department\": \"Crew\", \"gender\": 0, \"id\": 1417829, \"job\": \"Sequence Supervisor\", \"name\": \"Alison Wortman\"}, {\"credit_id\": \"54c375b49251416e6000ed9d\", \"department\": \"Crew\", \"gender\": 0, \"id\": 1417830, \"job\": \"Sequence Supervisor\", \"name\": \"Maxx Wai In Leong\"}, {\"credit_id\": \"54c3766ac3a36814210119e7\", \"department\": \"Crew\", \"gender\": 0, \"id\": 1417831, \"job\": \"Stunt Coordinator\", \"name\": \"Sy Hollands\"}, {\"credit_id\": \"54c377e49251416e6000edfc\", \"department\": \"Lighting\", \"gender\": 0, \"id\": 1417832, \"job\": \"Gaffer\", \"name\": \"Ryan Rodriguez\"}, {\"credit_id\": \"54c3783c92514124c80052d6\", \"department\": \"Lighting\", \"gender\": 0, \"id\": 1417833, \"job\": \"Gaffer\", \"name\": \"Reuben Garrett\"}, {\"credit_id\": \"54c378719251416eae00e2db\", \"department\": \"Camera\", \"gender\": 0, \"id\": 1417834, \"job\": \"Camera Technician\", \"name\": \"Dane Bjerno\"}, {\"credit_id\": \"54c378a49251412432005815\", \"department\": \"Lighting\", \"gender\": 0, \"id\": 1417835, \"job\": \"Rigging Gaffer\", \"name\": \"Ian Franklin\"}, {\"credit_id\": \"54c379219251412446005555\", \"department\": \"Visual Effects\", \"gender\": 0, \"id\": 1417836, \"job\": \"Animation\", \"name\": \"Andrew McEvoy\"}, {\"credit_id\": \"54c3798b92514124ed005678\", \"department\": \"Costume & Make-Up\", \"gender\": 0, \"id\": 1417837, \"job\": \"Costume Supervisor\", \"name\": \"Brendan Handscombe\"}, {\"credit_id\": \"54c37ac9c3a36878fb00501a\", \"department\": \"Costume & Make-Up\", \"gender\": 0, \"id\": 1417838, \"job\": \"Set Costumer\", \"name\": \"Lindsay Kouri\"}, {\"credit_id\": \"54c37ba5c3a3683338001180\", \"department\": \"Costume & Make-Up\", \"gender\": 0, \"id\": 1417839, \"job\": \"Set Costumer\", \"name\": \"David Butler\"}, {\"credit_id\": \"54c37c01c3a3687929005c04\", \"department\": \"Editing\", \"gender\": 0, \"id\": 1417840, \"job\": \"First Assistant Editor\", \"name\": \"Eric A. Lewy\"}, {\"credit_id\": \"54c37c29925141243200586d\", \"department\": \"Sound\", \"gender\": 0, \"id\": 1417841, \"job\": \"Music Editor\", \"name\": \"Ryan Rubin\"}, {\"credit_id\": \"54c37c42c3a36878d0005a31\", \"department\": \"Crew\", \"gender\": 0, \"id\": 1417842, \"job\": \"Transportation Coordinator\", \"name\": \"Gary Birmingham\"}, {\"credit_id\": \"54c37c7592514124ed0056af\", \"department\": \"Crew\", \"gender\": 0, \"id\": 1417843, \"job\": \"Picture Car Coordinator\", \"name\": \"Tyler W. Gaisford\"}, {\"credit_id\": \"54c37d6dc3a3687c4000fd1b\", \"department\": \"Production\", \"gender\": 0, \"id\": 1417844, \"job\": \"Location Manager\", \"name\": \"Mark Somner\"}, {\"credit_id\": \"54c37d9fc3a3687c4000fd20\", \"department\": \"Production\", \"gender\": 0, \"id\": 1417845, \"job\": \"Location Manager\", \"name\": \"Joaquin Diego Prange\"}, {\"credit_id\": \"54c37dbb9251416e6000ee57\", \"department\": \"Production\", \"gender\": 0, \"id\": 1417846, \"job\": \"Location Manager\", \"name\": \"Vans Pradeep Singh Rathore\"}, {\"credit_id\": \"54c37de6c3a36878d0005a54\", \"department\": \"Production\", \"gender\": 0, \"id\": 1417847, \"job\": \"Location Manager\", \"name\": \"James A. Mahathey\"}, {\"credit_id\": \"54c37e2cc3a36833380011b6\", \"department\": \"Production\", \"gender\": 0, \"id\": 1417848, \"job\": \"Location Manager\", \"name\": \"Jonathan Hook\"}, {\"credit_id\": \"56c266579251414a89000a2a\", \"department\": \"Costume & Make-Up\", \"gender\": 0, \"id\": 1427499, \"job\": \"Hairstylist\", \"name\": \"Stephanie Hovette\"}, {\"credit_id\": \"569fd0f6c3a36858c300a313\", \"department\": \"Crew\", \"gender\": 0, \"id\": 1434599, \"job\": \"Stunts\", \"name\": \"Brian Smyj\"}, {\"credit_id\": \"56d4e8b3c3a3681e44017a1d\", \"department\": \"Editing\", \"gender\": 0, \"id\": 1440853, \"job\": \"Assistant Editor\", \"name\": \"Donald Likovich\"}, {\"credit_id\": \"56817ef292514132db00f181\", \"department\": \"Crew\", \"gender\": 0, \"id\": 1455503, \"job\": \"Stunts\", \"name\": \"Ian Mclaughlin\"}, {\"credit_id\": \"56d872209251414291007577\", \"department\": \"Production\", \"gender\": 0, \"id\": 1463954, \"job\": \"Casting\", \"name\": \"Dixie Webster\"}, {\"credit_id\": \"568180369251414f6300a677\", \"department\": \"Crew\", \"gender\": 0, \"id\": 1468581, \"job\": \"Stunts\", \"name\": \"Victor Paguia\"}, {\"credit_id\": \"5682ca7392514169d0000aae\", \"department\": \"Costume & Make-Up\", \"gender\": 0, \"id\": 1468589, \"job\": \"Assistant Costume Designer\", \"name\": \"Wade Sullivan\"}, {\"credit_id\": \"56744cfb92514179dd00006d\", \"department\": \"Crew\", \"gender\": 0, \"id\": 1483827, \"job\": \"Stunts\", \"name\": \"Sid Karne\"}, {\"credit_id\": \"5621354392514171d000883b\", \"department\": \"Directing\", \"gender\": 0, \"id\": 1483827, \"job\": \"Assistant Director\", \"name\": \"Sid Karne\"}, {\"credit_id\": \"5681e419c3a36828f5007e50\", \"department\": \"Camera\", \"gender\": 0, \"id\": 1509394, \"job\": \"Grip\", \"name\": \"Michael J. Prate\"}, {\"credit_id\": \"5681e47a92514113340099ff\", \"department\": \"Camera\", \"gender\": 0, \"id\": 1509396, \"job\": \"Grip\", \"name\": \"Tom Prate\"}, {\"credit_id\": \"567d7b08c3a3684bd00070c2\", \"department\": \"Costume & Make-Up\", \"gender\": 0, \"id\": 1516458, \"job\": \"Hairstylist\", \"name\": \"R. Cory McCutcheon\"}, {\"credit_id\": \"56ba969e92514169b3000721\", \"department\": \"Editing\", \"gender\": 0, \"id\": 1525908, \"job\": \"Assistant Editor\", \"name\": \"Anne O\\'Brien\"}, {\"credit_id\": \"578fbfa19251411d5700117b\", \"department\": \"Crew\", \"gender\": 0, \"id\": 1531529, \"job\": \"Stunts\", \"name\": \"Rex Reddick\"}, {\"credit_id\": \"57d6ea2fc3a368023a00044e\", \"department\": \"Camera\", \"gender\": 0, \"id\": 1532610, \"job\": \"First Assistant Camera\", \"name\": \"Bob Hall\"}, {\"credit_id\": \"57bf2c29c3a3685c5d003e00\", \"department\": \"Lighting\", \"gender\": 0, \"id\": 1532612, \"job\": \"Rigging Grip\", \"name\": \"Blake Pike\"}, {\"credit_id\": \"566f8003c3a3680e7300cb03\", \"department\": \"Camera\", \"gender\": 0, \"id\": 1532613, \"job\": \"First Assistant Camera\", \"name\": \"Philip Shanahan\"}, {\"credit_id\": \"56452aa6c3a36870ec006931\", \"department\": \"Crew\", \"gender\": 2, \"id\": 1535095, \"job\": \"Stunts\", \"name\": \"Dan Brown\"}, {\"credit_id\": \"56452cb89251410a4c006cdf\", \"department\": \"Camera\", \"gender\": 0, \"id\": 1535096, \"job\": \"Grip\", \"name\": \"Adam Camacho\"}, {\"credit_id\": \"56452e7ac3a36870ef006f32\", \"department\": \"Camera\", \"gender\": 0, \"id\": 1535102, \"job\": \"Grip\", \"name\": \"Shaun Sangkarat\"}, {\"credit_id\": \"56817c9ec3a3682abc00a14b\", \"department\": \"Crew\", \"gender\": 1, \"id\": 1544394, \"job\": \"Stunts\", \"name\": \"Aja Frary\"}, {\"credit_id\": \"56817c4b9251417def011851\", \"department\": \"Crew\", \"gender\": 2, \"id\": 1544395, \"job\": \"Stunts\", \"name\": \"Mark Fichera\"}, {\"credit_id\": \"566875bec3a36836970036e9\", \"department\": \"Crew\", \"gender\": 0, \"id\": 1546907, \"job\": \"Driver\", \"name\": \"Patrick Hogan\"}, {\"credit_id\": \"566dbc4a92514169e200c3cd\", \"department\": \"Costume & Make-Up\", \"gender\": 0, \"id\": 1548530, \"job\": \"Hairstylist\", \"name\": \"Robert Wilson\"}, {\"credit_id\": \"566f03c1925141500100a095\", \"department\": \"Crew\", \"gender\": 0, \"id\": 1549015, \"job\": \"Propmaker\", \"name\": \"Ray Maxwell\"}, {\"credit_id\": \"566f0f16c3a368535a011220\", \"department\": \"Crew\", \"gender\": 0, \"id\": 1549026, \"job\": \"Stunts Coordinator\", \"name\": \"Scotty Richards\"}, {\"credit_id\": \"5671a5adc3a368535a01870d\", \"department\": \"Crew\", \"gender\": 2, \"id\": 1549741, \"job\": \"Stunts\", \"name\": \"Marc Scizak\"}, {\"credit_id\": \"5672f427c3a3680712003145\", \"department\": \"Lighting\", \"gender\": 0, \"id\": 1550248, \"job\": \"Rigging Grip\", \"name\": \"Joe Guzman\"}, {\"credit_id\": \"5673487792514163b9003756\", \"department\": \"Crew\", \"gender\": 0, \"id\": 1550400, \"job\": \"Set Production Assistant\", \"name\": \"Damiano Fusca\"}, {\"credit_id\": \"56817a49c3a3682abc00a0a5\", \"department\": \"Crew\", \"gender\": 2, \"id\": 1550725, \"job\": \"Stunts\", \"name\": \"Chris Cenatiempo\"}, {\"credit_id\": \"567607cd92514179e7003fcb\", \"department\": \"Camera\", \"gender\": 0, \"id\": 1551373, \"job\": \"Camera Intern\", \"name\": \"Joey J. Cook III\"}, {\"credit_id\": \"568f076fc3a368324c0000ac\", \"department\": \"Editing\", \"gender\": 0, \"id\": 1552549, \"job\": \"Color Timer\", \"name\": \"David Orr\"}, {\"credit_id\": \"5680378d9251412e5200bc04\", \"department\": \"Crew\", \"gender\": 0, \"id\": 1554393, \"job\": \"Stunts\", \"name\": \"Scott Burik\"}, {\"credit_id\": \"5681798292514131df00eabe\", \"department\": \"Crew\", \"gender\": 0, \"id\": 1554915, \"job\": \"Stunts\", \"name\": \"Mike Burke\"}, {\"credit_id\": \"56817cecc3a3682abc00a155\", \"department\": \"Crew\", \"gender\": 0, \"id\": 1554921, \"job\": \"Stunts\", \"name\": \"Shane Geraghty\"}, {\"credit_id\": \"568180ea9251417def0118f7\", \"department\": \"Lighting\", \"gender\": 0, \"id\": 1554924, \"job\": \"Rigging Grip\", \"name\": \"Balint Pinczehelyi\"}, {\"credit_id\": \"56818203c3a36860e9010d12\", \"department\": \"Crew\", \"gender\": 0, \"id\": 1554925, \"job\": \"Stunts\", \"name\": \"Kevin Rogers\"}, {\"credit_id\": \"568182e7c3a3684be3011a16\", \"department\": \"Crew\", \"gender\": 0, \"id\": 1554926, \"job\": \"Stunts\", \"name\": \"Shawnna Thibodeau\"}, {\"credit_id\": \"568183fac3a36860e9010d53\", \"department\": \"Crew\", \"gender\": 0, \"id\": 1554931, \"job\": \"Stunts\", \"name\": \"Caroline Vexler\"}, {\"credit_id\": \"5681e190c3a3684bcc013316\", \"department\": \"Lighting\", \"gender\": 2, \"id\": 1555027, \"job\": \"Rigging Grip\", \"name\": \"Kevin Flynn\"}, {\"credit_id\": \"56b78254c3a36806ec00e6f5\", \"department\": \"Production\", \"gender\": 0, \"id\": 1564997, \"job\": \"Executive In Charge Of Production\", \"name\": \"Mark Scoon\"}, {\"credit_id\": \"56b781afc3a36806ec00e6e0\", \"department\": \"Directing\", \"gender\": 0, \"id\": 1566280, \"job\": \"Assistant Director\", \"name\": \"Nilo Otero\"}, {\"credit_id\": \"5766ccd8c3a3687f5300121a\", \"department\": \"Crew\", \"gender\": 0, \"id\": 1571601, \"job\": \"Post Production Supervisor\", \"name\": \"David E. Hall\"}, {\"credit_id\": \"573e668892514108d9000856\", \"department\": \"Crew\", \"gender\": 2, \"id\": 1622657, \"job\": \"Stunts\", \"name\": \"Mark Aaron Wagner\"}, {\"credit_id\": \"579bf757c3a3681678003103\", \"department\": \"Crew\", \"gender\": 0, \"id\": 1634437, \"job\": \"Stunts\", \"name\": \"Ed McDermott II\"}, {\"credit_id\": \"5766cc219251416995000666\", \"department\": \"Costume & Make-Up\", \"gender\": 0, \"id\": 1638257, \"job\": \"Prosthetic Supervisor\", \"name\": \"Conor O\\'Sullivan\"}, {\"credit_id\": \"5777f94a9251415f060011a6\", \"department\": \"Sound\", \"gender\": 0, \"id\": 1644412, \"job\": \"Sound Mixer\", \"name\": \"Nakul Kamte\"}, {\"credit_id\": \"577852f992514136e100208d\", \"department\": \"Production\", \"gender\": 0, \"id\": 1644543, \"job\": \"Line Producer\", \"name\": \"Dileep Singh Rathore\"}]'"
      ]
     },
     "execution_count": 120,
     "metadata": {},
     "output_type": "execute_result"
    }
   ],
   "source": [
    "movies['crew'][3]"
   ]
  },
  {
   "cell_type": "code",
   "execution_count": 156,
   "id": "d764732f-19fd-43f4-81ff-de4e38852a08",
   "metadata": {},
   "outputs": [],
   "source": [
    "def fetch_credits(obj):\n",
    "    L = []\n",
    "    \n",
    "    for i in ast.literal_eval(obj):\n",
    "        if i['job'] == 'Director':\n",
    "            L.append(i['name'])\n",
    "        elif i['job'] == 'Writer':\n",
    "            L.append(i['name'])\n",
    "        elif i['job'] == 'Original Music Composer':\n",
    "            L.append(i['name'])\n",
    "        elif i['job'] == 'Director of Photography':\n",
    "            L.append(i['name'])\n",
    "\n",
    "    return L"
   ]
  },
  {
   "cell_type": "code",
   "execution_count": 157,
   "id": "497563c9-b15c-4a4d-8e50-28eafe869c92",
   "metadata": {},
   "outputs": [],
   "source": [
    "movies['crew'] = movies['crew'].apply(fetch_credits)"
   ]
  },
  {
   "cell_type": "code",
   "execution_count": 158,
   "id": "c84f8445-971b-495d-ab00-5dff3cc03f17",
   "metadata": {},
   "outputs": [
    {
     "data": {
      "text/html": [
       "<div>\n",
       "<style scoped>\n",
       "    .dataframe tbody tr th:only-of-type {\n",
       "        vertical-align: middle;\n",
       "    }\n",
       "\n",
       "    .dataframe tbody tr th {\n",
       "        vertical-align: top;\n",
       "    }\n",
       "\n",
       "    .dataframe thead th {\n",
       "        text-align: right;\n",
       "    }\n",
       "</style>\n",
       "<table border=\"1\" class=\"dataframe\">\n",
       "  <thead>\n",
       "    <tr style=\"text-align: right;\">\n",
       "      <th></th>\n",
       "      <th>movie_id</th>\n",
       "      <th>title</th>\n",
       "      <th>overview</th>\n",
       "      <th>genres</th>\n",
       "      <th>keywords</th>\n",
       "      <th>cast</th>\n",
       "      <th>crew</th>\n",
       "    </tr>\n",
       "  </thead>\n",
       "  <tbody>\n",
       "    <tr>\n",
       "      <th>0</th>\n",
       "      <td>19995</td>\n",
       "      <td>Avatar</td>\n",
       "      <td>In the 22nd century, a paraplegic Marine is di...</td>\n",
       "      <td>[Action, Adventure, Fantasy, Science Fiction]</td>\n",
       "      <td>[culture clash, future, space war, space colon...</td>\n",
       "      <td>[Sam Worthington, Zoe Saldana, Sigourney Weave...</td>\n",
       "      <td>[James Horner, James Cameron, James Cameron, M...</td>\n",
       "    </tr>\n",
       "    <tr>\n",
       "      <th>1</th>\n",
       "      <td>285</td>\n",
       "      <td>Pirates of the Caribbean: At World's End</td>\n",
       "      <td>Captain Barbossa, long believed to be dead, ha...</td>\n",
       "      <td>[Adventure, Fantasy, Action]</td>\n",
       "      <td>[ocean, drug abuse, exotic island, east india ...</td>\n",
       "      <td>[Johnny Depp, Orlando Bloom, Keira Knightley, ...</td>\n",
       "      <td>[Dariusz Wolski, Gore Verbinski, Hans Zimmer]</td>\n",
       "    </tr>\n",
       "    <tr>\n",
       "      <th>2</th>\n",
       "      <td>206647</td>\n",
       "      <td>Spectre</td>\n",
       "      <td>A cryptic message from Bond’s past sends him o...</td>\n",
       "      <td>[Action, Adventure, Crime]</td>\n",
       "      <td>[spy, based on novel, secret agent, sequel, mi...</td>\n",
       "      <td>[Daniel Craig, Christoph Waltz, Léa Seydoux, R...</td>\n",
       "      <td>[Thomas Newman, Sam Mendes, Hoyte van Hoytema]</td>\n",
       "    </tr>\n",
       "    <tr>\n",
       "      <th>3</th>\n",
       "      <td>49026</td>\n",
       "      <td>The Dark Knight Rises</td>\n",
       "      <td>Following the death of District Attorney Harve...</td>\n",
       "      <td>[Action, Crime, Drama, Thriller]</td>\n",
       "      <td>[dc comics, crime fighter, terrorist, secret i...</td>\n",
       "      <td>[Christian Bale, Michael Caine, Gary Oldman, A...</td>\n",
       "      <td>[Hans Zimmer, Christopher Nolan, Wally Pfister]</td>\n",
       "    </tr>\n",
       "    <tr>\n",
       "      <th>4</th>\n",
       "      <td>49529</td>\n",
       "      <td>John Carter</td>\n",
       "      <td>John Carter is a war-weary, former military ca...</td>\n",
       "      <td>[Action, Adventure, Science Fiction]</td>\n",
       "      <td>[based on novel, mars, medallion, space travel...</td>\n",
       "      <td>[Taylor Kitsch, Lynn Collins, Samantha Morton,...</td>\n",
       "      <td>[Andrew Stanton, Daniel Mindel]</td>\n",
       "    </tr>\n",
       "  </tbody>\n",
       "</table>\n",
       "</div>"
      ],
      "text/plain": [
       "   movie_id                                     title  \\\n",
       "0     19995                                    Avatar   \n",
       "1       285  Pirates of the Caribbean: At World's End   \n",
       "2    206647                                   Spectre   \n",
       "3     49026                     The Dark Knight Rises   \n",
       "4     49529                               John Carter   \n",
       "\n",
       "                                            overview  \\\n",
       "0  In the 22nd century, a paraplegic Marine is di...   \n",
       "1  Captain Barbossa, long believed to be dead, ha...   \n",
       "2  A cryptic message from Bond’s past sends him o...   \n",
       "3  Following the death of District Attorney Harve...   \n",
       "4  John Carter is a war-weary, former military ca...   \n",
       "\n",
       "                                          genres  \\\n",
       "0  [Action, Adventure, Fantasy, Science Fiction]   \n",
       "1                   [Adventure, Fantasy, Action]   \n",
       "2                     [Action, Adventure, Crime]   \n",
       "3               [Action, Crime, Drama, Thriller]   \n",
       "4           [Action, Adventure, Science Fiction]   \n",
       "\n",
       "                                            keywords  \\\n",
       "0  [culture clash, future, space war, space colon...   \n",
       "1  [ocean, drug abuse, exotic island, east india ...   \n",
       "2  [spy, based on novel, secret agent, sequel, mi...   \n",
       "3  [dc comics, crime fighter, terrorist, secret i...   \n",
       "4  [based on novel, mars, medallion, space travel...   \n",
       "\n",
       "                                                cast  \\\n",
       "0  [Sam Worthington, Zoe Saldana, Sigourney Weave...   \n",
       "1  [Johnny Depp, Orlando Bloom, Keira Knightley, ...   \n",
       "2  [Daniel Craig, Christoph Waltz, Léa Seydoux, R...   \n",
       "3  [Christian Bale, Michael Caine, Gary Oldman, A...   \n",
       "4  [Taylor Kitsch, Lynn Collins, Samantha Morton,...   \n",
       "\n",
       "                                                crew  \n",
       "0  [James Horner, James Cameron, James Cameron, M...  \n",
       "1      [Dariusz Wolski, Gore Verbinski, Hans Zimmer]  \n",
       "2     [Thomas Newman, Sam Mendes, Hoyte van Hoytema]  \n",
       "3    [Hans Zimmer, Christopher Nolan, Wally Pfister]  \n",
       "4                    [Andrew Stanton, Daniel Mindel]  "
      ]
     },
     "execution_count": 158,
     "metadata": {},
     "output_type": "execute_result"
    }
   ],
   "source": [
    "movies.head()"
   ]
  },
  {
   "cell_type": "code",
   "execution_count": 161,
   "id": "41bf8a2d-c58c-49af-bc0b-e981ce102ca7",
   "metadata": {},
   "outputs": [
    {
     "data": {
      "text/plain": [
       "['Thomas Newman', 'Sam Mendes', 'Hoyte van Hoytema']"
      ]
     },
     "execution_count": 161,
     "metadata": {},
     "output_type": "execute_result"
    }
   ],
   "source": [
    "movies['crew'][2]"
   ]
  },
  {
   "cell_type": "code",
   "execution_count": 164,
   "id": "92c7eac4-637c-4fec-a01e-7fcd46227bb8",
   "metadata": {},
   "outputs": [
    {
     "data": {
      "text/plain": [
       "\"Following the death of District Attorney Harvey Dent, Batman assumes responsibility for Dent's crimes to protect the late attorney's reputation and is subsequently hunted by the Gotham City Police Department. Eight years later, Batman encounters the mysterious Selina Kyle and the villainous Bane, a new terrorist leader who overwhelms Gotham's finest. The Dark Knight resurfaces to protect a city that has branded him an enemy.\""
      ]
     },
     "execution_count": 164,
     "metadata": {},
     "output_type": "execute_result"
    }
   ],
   "source": [
    "movies['overview'][3]"
   ]
  },
  {
   "cell_type": "code",
   "execution_count": 163,
   "id": "a683202d-cd32-4177-9143-c30f093856fa",
   "metadata": {},
   "outputs": [
    {
     "data": {
      "text/plain": [
       "0       [In, the, 22nd, century,, a, paraplegic, Marin...\n",
       "1       [Captain, Barbossa,, long, believed, to, be, d...\n",
       "2       [A, cryptic, message, from, Bond’s, past, send...\n",
       "3       [Following, the, death, of, District, Attorney...\n",
       "4       [John, Carter, is, a, war-weary,, former, mili...\n",
       "                              ...                        \n",
       "4804    [El, Mariachi, just, wants, to, play, his, gui...\n",
       "4805    [A, newlywed, couple's, honeymoon, is, upended...\n",
       "4806    [\"Signed,, Sealed,, Delivered\", introduces, a,...\n",
       "4807    [When, ambitious, New, York, attorney, Sam, is...\n",
       "4808    [Ever, since, the, second, grade, when, he, fi...\n",
       "Name: overview, Length: 4806, dtype: object"
      ]
     },
     "execution_count": 163,
     "metadata": {},
     "output_type": "execute_result"
    }
   ],
   "source": [
    "movies['overview'].apply(lambda x: x.split())"
   ]
  },
  {
   "cell_type": "code",
   "execution_count": 165,
   "id": "da336f35-f244-4c57-a03d-2389e9a6608a",
   "metadata": {},
   "outputs": [],
   "source": [
    "movies['overview'] = movies['overview'].apply(lambda x: x.split())"
   ]
  },
  {
   "cell_type": "code",
   "execution_count": 166,
   "id": "a705a4a1-6d15-4be7-b342-7b9bec79d2b1",
   "metadata": {},
   "outputs": [
    {
     "data": {
      "text/html": [
       "<div>\n",
       "<style scoped>\n",
       "    .dataframe tbody tr th:only-of-type {\n",
       "        vertical-align: middle;\n",
       "    }\n",
       "\n",
       "    .dataframe tbody tr th {\n",
       "        vertical-align: top;\n",
       "    }\n",
       "\n",
       "    .dataframe thead th {\n",
       "        text-align: right;\n",
       "    }\n",
       "</style>\n",
       "<table border=\"1\" class=\"dataframe\">\n",
       "  <thead>\n",
       "    <tr style=\"text-align: right;\">\n",
       "      <th></th>\n",
       "      <th>movie_id</th>\n",
       "      <th>title</th>\n",
       "      <th>overview</th>\n",
       "      <th>genres</th>\n",
       "      <th>keywords</th>\n",
       "      <th>cast</th>\n",
       "      <th>crew</th>\n",
       "    </tr>\n",
       "  </thead>\n",
       "  <tbody>\n",
       "    <tr>\n",
       "      <th>0</th>\n",
       "      <td>19995</td>\n",
       "      <td>Avatar</td>\n",
       "      <td>[In, the, 22nd, century,, a, paraplegic, Marin...</td>\n",
       "      <td>[Action, Adventure, Fantasy, Science Fiction]</td>\n",
       "      <td>[culture clash, future, space war, space colon...</td>\n",
       "      <td>[Sam Worthington, Zoe Saldana, Sigourney Weave...</td>\n",
       "      <td>[James Horner, James Cameron, James Cameron, M...</td>\n",
       "    </tr>\n",
       "    <tr>\n",
       "      <th>1</th>\n",
       "      <td>285</td>\n",
       "      <td>Pirates of the Caribbean: At World's End</td>\n",
       "      <td>[Captain, Barbossa,, long, believed, to, be, d...</td>\n",
       "      <td>[Adventure, Fantasy, Action]</td>\n",
       "      <td>[ocean, drug abuse, exotic island, east india ...</td>\n",
       "      <td>[Johnny Depp, Orlando Bloom, Keira Knightley, ...</td>\n",
       "      <td>[Dariusz Wolski, Gore Verbinski, Hans Zimmer]</td>\n",
       "    </tr>\n",
       "    <tr>\n",
       "      <th>2</th>\n",
       "      <td>206647</td>\n",
       "      <td>Spectre</td>\n",
       "      <td>[A, cryptic, message, from, Bond’s, past, send...</td>\n",
       "      <td>[Action, Adventure, Crime]</td>\n",
       "      <td>[spy, based on novel, secret agent, sequel, mi...</td>\n",
       "      <td>[Daniel Craig, Christoph Waltz, Léa Seydoux, R...</td>\n",
       "      <td>[Thomas Newman, Sam Mendes, Hoyte van Hoytema]</td>\n",
       "    </tr>\n",
       "    <tr>\n",
       "      <th>3</th>\n",
       "      <td>49026</td>\n",
       "      <td>The Dark Knight Rises</td>\n",
       "      <td>[Following, the, death, of, District, Attorney...</td>\n",
       "      <td>[Action, Crime, Drama, Thriller]</td>\n",
       "      <td>[dc comics, crime fighter, terrorist, secret i...</td>\n",
       "      <td>[Christian Bale, Michael Caine, Gary Oldman, A...</td>\n",
       "      <td>[Hans Zimmer, Christopher Nolan, Wally Pfister]</td>\n",
       "    </tr>\n",
       "    <tr>\n",
       "      <th>4</th>\n",
       "      <td>49529</td>\n",
       "      <td>John Carter</td>\n",
       "      <td>[John, Carter, is, a, war-weary,, former, mili...</td>\n",
       "      <td>[Action, Adventure, Science Fiction]</td>\n",
       "      <td>[based on novel, mars, medallion, space travel...</td>\n",
       "      <td>[Taylor Kitsch, Lynn Collins, Samantha Morton,...</td>\n",
       "      <td>[Andrew Stanton, Daniel Mindel]</td>\n",
       "    </tr>\n",
       "  </tbody>\n",
       "</table>\n",
       "</div>"
      ],
      "text/plain": [
       "   movie_id                                     title  \\\n",
       "0     19995                                    Avatar   \n",
       "1       285  Pirates of the Caribbean: At World's End   \n",
       "2    206647                                   Spectre   \n",
       "3     49026                     The Dark Knight Rises   \n",
       "4     49529                               John Carter   \n",
       "\n",
       "                                            overview  \\\n",
       "0  [In, the, 22nd, century,, a, paraplegic, Marin...   \n",
       "1  [Captain, Barbossa,, long, believed, to, be, d...   \n",
       "2  [A, cryptic, message, from, Bond’s, past, send...   \n",
       "3  [Following, the, death, of, District, Attorney...   \n",
       "4  [John, Carter, is, a, war-weary,, former, mili...   \n",
       "\n",
       "                                          genres  \\\n",
       "0  [Action, Adventure, Fantasy, Science Fiction]   \n",
       "1                   [Adventure, Fantasy, Action]   \n",
       "2                     [Action, Adventure, Crime]   \n",
       "3               [Action, Crime, Drama, Thriller]   \n",
       "4           [Action, Adventure, Science Fiction]   \n",
       "\n",
       "                                            keywords  \\\n",
       "0  [culture clash, future, space war, space colon...   \n",
       "1  [ocean, drug abuse, exotic island, east india ...   \n",
       "2  [spy, based on novel, secret agent, sequel, mi...   \n",
       "3  [dc comics, crime fighter, terrorist, secret i...   \n",
       "4  [based on novel, mars, medallion, space travel...   \n",
       "\n",
       "                                                cast  \\\n",
       "0  [Sam Worthington, Zoe Saldana, Sigourney Weave...   \n",
       "1  [Johnny Depp, Orlando Bloom, Keira Knightley, ...   \n",
       "2  [Daniel Craig, Christoph Waltz, Léa Seydoux, R...   \n",
       "3  [Christian Bale, Michael Caine, Gary Oldman, A...   \n",
       "4  [Taylor Kitsch, Lynn Collins, Samantha Morton,...   \n",
       "\n",
       "                                                crew  \n",
       "0  [James Horner, James Cameron, James Cameron, M...  \n",
       "1      [Dariusz Wolski, Gore Verbinski, Hans Zimmer]  \n",
       "2     [Thomas Newman, Sam Mendes, Hoyte van Hoytema]  \n",
       "3    [Hans Zimmer, Christopher Nolan, Wally Pfister]  \n",
       "4                    [Andrew Stanton, Daniel Mindel]  "
      ]
     },
     "execution_count": 166,
     "metadata": {},
     "output_type": "execute_result"
    }
   ],
   "source": [
    "movies.head()"
   ]
  },
  {
   "cell_type": "code",
   "execution_count": 167,
   "id": "52a37a55-7f01-4ae2-af73-927a50ec6f44",
   "metadata": {},
   "outputs": [
    {
     "data": {
      "text/plain": [
       "0       [Action, Adventure, Fantasy, ScienceFiction]\n",
       "1                       [Adventure, Fantasy, Action]\n",
       "2                         [Action, Adventure, Crime]\n",
       "3                   [Action, Crime, Drama, Thriller]\n",
       "4                [Action, Adventure, ScienceFiction]\n",
       "                            ...                     \n",
       "4804                       [Action, Crime, Thriller]\n",
       "4805                               [Comedy, Romance]\n",
       "4806               [Comedy, Drama, Romance, TVMovie]\n",
       "4807                                              []\n",
       "4808                                   [Documentary]\n",
       "Name: genres, Length: 4806, dtype: object"
      ]
     },
     "execution_count": 167,
     "metadata": {},
     "output_type": "execute_result"
    }
   ],
   "source": [
    "movies['genres'].apply(lambda x: [i.replace(' ','') for i in x])"
   ]
  },
  {
   "cell_type": "code",
   "execution_count": 169,
   "id": "8a4e93a0-43fe-484b-ae38-1e3ea85203ab",
   "metadata": {},
   "outputs": [],
   "source": [
    "movies['genres'] = movies['genres'].apply(lambda x: [i.replace(' ','') for i in x])\n",
    "movies['keywords'] = movies['keywords'].apply(lambda x: [i.replace(' ','') for i in x])\n",
    "movies['cast'] = movies['cast'].apply(lambda x: [i.replace(' ','') for i in x])\n",
    "movies['crew'] = movies['crew'].apply(lambda x: [i.replace(' ','') for i in x])"
   ]
  },
  {
   "cell_type": "code",
   "execution_count": 170,
   "id": "f120d076-697a-4c34-b300-daeff0c092b3",
   "metadata": {},
   "outputs": [
    {
     "data": {
      "text/plain": [
       "['HansZimmer', 'ChristopherNolan', 'WallyPfister']"
      ]
     },
     "execution_count": 170,
     "metadata": {},
     "output_type": "execute_result"
    }
   ],
   "source": [
    "movies['crew'][3]"
   ]
  },
  {
   "cell_type": "code",
   "execution_count": 183,
   "id": "53fdda81-36f1-4957-b4d2-5c3ab3cb5e5a",
   "metadata": {},
   "outputs": [],
   "source": [
    "movies['tags'] = movies['overview'] + movies['genres'] + movies['keywords'] + movies['cast'] + movies['crew'] "
   ]
  },
  {
   "cell_type": "code",
   "execution_count": 184,
   "id": "d4cb5ad7-af2f-49b5-b935-2279152f08b3",
   "metadata": {},
   "outputs": [
    {
     "data": {
      "text/html": [
       "<div>\n",
       "<style scoped>\n",
       "    .dataframe tbody tr th:only-of-type {\n",
       "        vertical-align: middle;\n",
       "    }\n",
       "\n",
       "    .dataframe tbody tr th {\n",
       "        vertical-align: top;\n",
       "    }\n",
       "\n",
       "    .dataframe thead th {\n",
       "        text-align: right;\n",
       "    }\n",
       "</style>\n",
       "<table border=\"1\" class=\"dataframe\">\n",
       "  <thead>\n",
       "    <tr style=\"text-align: right;\">\n",
       "      <th></th>\n",
       "      <th>movie_id</th>\n",
       "      <th>title</th>\n",
       "      <th>overview</th>\n",
       "      <th>genres</th>\n",
       "      <th>keywords</th>\n",
       "      <th>cast</th>\n",
       "      <th>crew</th>\n",
       "      <th>tags</th>\n",
       "    </tr>\n",
       "  </thead>\n",
       "  <tbody>\n",
       "    <tr>\n",
       "      <th>0</th>\n",
       "      <td>19995</td>\n",
       "      <td>Avatar</td>\n",
       "      <td>[In, the, 22nd, century,, a, paraplegic, Marin...</td>\n",
       "      <td>[Action, Adventure, Fantasy, ScienceFiction]</td>\n",
       "      <td>[cultureclash, future, spacewar, spacecolony, ...</td>\n",
       "      <td>[SamWorthington, ZoeSaldana, SigourneyWeaver, ...</td>\n",
       "      <td>[JamesHorner, JamesCameron, JamesCameron, Maur...</td>\n",
       "      <td>[In, the, 22nd, century,, a, paraplegic, Marin...</td>\n",
       "    </tr>\n",
       "    <tr>\n",
       "      <th>1</th>\n",
       "      <td>285</td>\n",
       "      <td>Pirates of the Caribbean: At World's End</td>\n",
       "      <td>[Captain, Barbossa,, long, believed, to, be, d...</td>\n",
       "      <td>[Adventure, Fantasy, Action]</td>\n",
       "      <td>[ocean, drugabuse, exoticisland, eastindiatrad...</td>\n",
       "      <td>[JohnnyDepp, OrlandoBloom, KeiraKnightley, Ste...</td>\n",
       "      <td>[DariuszWolski, GoreVerbinski, HansZimmer]</td>\n",
       "      <td>[Captain, Barbossa,, long, believed, to, be, d...</td>\n",
       "    </tr>\n",
       "    <tr>\n",
       "      <th>2</th>\n",
       "      <td>206647</td>\n",
       "      <td>Spectre</td>\n",
       "      <td>[A, cryptic, message, from, Bond’s, past, send...</td>\n",
       "      <td>[Action, Adventure, Crime]</td>\n",
       "      <td>[spy, basedonnovel, secretagent, sequel, mi6, ...</td>\n",
       "      <td>[DanielCraig, ChristophWaltz, LéaSeydoux, Ralp...</td>\n",
       "      <td>[ThomasNewman, SamMendes, HoytevanHoytema]</td>\n",
       "      <td>[A, cryptic, message, from, Bond’s, past, send...</td>\n",
       "    </tr>\n",
       "    <tr>\n",
       "      <th>3</th>\n",
       "      <td>49026</td>\n",
       "      <td>The Dark Knight Rises</td>\n",
       "      <td>[Following, the, death, of, District, Attorney...</td>\n",
       "      <td>[Action, Crime, Drama, Thriller]</td>\n",
       "      <td>[dccomics, crimefighter, terrorist, secretiden...</td>\n",
       "      <td>[ChristianBale, MichaelCaine, GaryOldman, Anne...</td>\n",
       "      <td>[HansZimmer, ChristopherNolan, WallyPfister]</td>\n",
       "      <td>[Following, the, death, of, District, Attorney...</td>\n",
       "    </tr>\n",
       "    <tr>\n",
       "      <th>4</th>\n",
       "      <td>49529</td>\n",
       "      <td>John Carter</td>\n",
       "      <td>[John, Carter, is, a, war-weary,, former, mili...</td>\n",
       "      <td>[Action, Adventure, ScienceFiction]</td>\n",
       "      <td>[basedonnovel, mars, medallion, spacetravel, p...</td>\n",
       "      <td>[TaylorKitsch, LynnCollins, SamanthaMorton, Wi...</td>\n",
       "      <td>[AndrewStanton, DanielMindel]</td>\n",
       "      <td>[John, Carter, is, a, war-weary,, former, mili...</td>\n",
       "    </tr>\n",
       "  </tbody>\n",
       "</table>\n",
       "</div>"
      ],
      "text/plain": [
       "   movie_id                                     title  \\\n",
       "0     19995                                    Avatar   \n",
       "1       285  Pirates of the Caribbean: At World's End   \n",
       "2    206647                                   Spectre   \n",
       "3     49026                     The Dark Knight Rises   \n",
       "4     49529                               John Carter   \n",
       "\n",
       "                                            overview  \\\n",
       "0  [In, the, 22nd, century,, a, paraplegic, Marin...   \n",
       "1  [Captain, Barbossa,, long, believed, to, be, d...   \n",
       "2  [A, cryptic, message, from, Bond’s, past, send...   \n",
       "3  [Following, the, death, of, District, Attorney...   \n",
       "4  [John, Carter, is, a, war-weary,, former, mili...   \n",
       "\n",
       "                                         genres  \\\n",
       "0  [Action, Adventure, Fantasy, ScienceFiction]   \n",
       "1                  [Adventure, Fantasy, Action]   \n",
       "2                    [Action, Adventure, Crime]   \n",
       "3              [Action, Crime, Drama, Thriller]   \n",
       "4           [Action, Adventure, ScienceFiction]   \n",
       "\n",
       "                                            keywords  \\\n",
       "0  [cultureclash, future, spacewar, spacecolony, ...   \n",
       "1  [ocean, drugabuse, exoticisland, eastindiatrad...   \n",
       "2  [spy, basedonnovel, secretagent, sequel, mi6, ...   \n",
       "3  [dccomics, crimefighter, terrorist, secretiden...   \n",
       "4  [basedonnovel, mars, medallion, spacetravel, p...   \n",
       "\n",
       "                                                cast  \\\n",
       "0  [SamWorthington, ZoeSaldana, SigourneyWeaver, ...   \n",
       "1  [JohnnyDepp, OrlandoBloom, KeiraKnightley, Ste...   \n",
       "2  [DanielCraig, ChristophWaltz, LéaSeydoux, Ralp...   \n",
       "3  [ChristianBale, MichaelCaine, GaryOldman, Anne...   \n",
       "4  [TaylorKitsch, LynnCollins, SamanthaMorton, Wi...   \n",
       "\n",
       "                                                crew  \\\n",
       "0  [JamesHorner, JamesCameron, JamesCameron, Maur...   \n",
       "1         [DariuszWolski, GoreVerbinski, HansZimmer]   \n",
       "2         [ThomasNewman, SamMendes, HoytevanHoytema]   \n",
       "3       [HansZimmer, ChristopherNolan, WallyPfister]   \n",
       "4                      [AndrewStanton, DanielMindel]   \n",
       "\n",
       "                                                tags  \n",
       "0  [In, the, 22nd, century,, a, paraplegic, Marin...  \n",
       "1  [Captain, Barbossa,, long, believed, to, be, d...  \n",
       "2  [A, cryptic, message, from, Bond’s, past, send...  \n",
       "3  [Following, the, death, of, District, Attorney...  \n",
       "4  [John, Carter, is, a, war-weary,, former, mili...  "
      ]
     },
     "execution_count": 184,
     "metadata": {},
     "output_type": "execute_result"
    }
   ],
   "source": [
    "movies.head()"
   ]
  },
  {
   "cell_type": "code",
   "execution_count": 185,
   "id": "16d36066-6e1f-4e90-a198-579bdd05d1cf",
   "metadata": {},
   "outputs": [],
   "source": [
    "new_df = movies[['movie_id', 'title', 'tags']]"
   ]
  },
  {
   "cell_type": "code",
   "execution_count": 186,
   "id": "591dd08a-d175-47fb-8ee8-663ff346270e",
   "metadata": {},
   "outputs": [
    {
     "data": {
      "text/html": [
       "<div>\n",
       "<style scoped>\n",
       "    .dataframe tbody tr th:only-of-type {\n",
       "        vertical-align: middle;\n",
       "    }\n",
       "\n",
       "    .dataframe tbody tr th {\n",
       "        vertical-align: top;\n",
       "    }\n",
       "\n",
       "    .dataframe thead th {\n",
       "        text-align: right;\n",
       "    }\n",
       "</style>\n",
       "<table border=\"1\" class=\"dataframe\">\n",
       "  <thead>\n",
       "    <tr style=\"text-align: right;\">\n",
       "      <th></th>\n",
       "      <th>movie_id</th>\n",
       "      <th>title</th>\n",
       "      <th>tags</th>\n",
       "    </tr>\n",
       "  </thead>\n",
       "  <tbody>\n",
       "    <tr>\n",
       "      <th>0</th>\n",
       "      <td>19995</td>\n",
       "      <td>Avatar</td>\n",
       "      <td>[In, the, 22nd, century,, a, paraplegic, Marin...</td>\n",
       "    </tr>\n",
       "    <tr>\n",
       "      <th>1</th>\n",
       "      <td>285</td>\n",
       "      <td>Pirates of the Caribbean: At World's End</td>\n",
       "      <td>[Captain, Barbossa,, long, believed, to, be, d...</td>\n",
       "    </tr>\n",
       "    <tr>\n",
       "      <th>2</th>\n",
       "      <td>206647</td>\n",
       "      <td>Spectre</td>\n",
       "      <td>[A, cryptic, message, from, Bond’s, past, send...</td>\n",
       "    </tr>\n",
       "    <tr>\n",
       "      <th>3</th>\n",
       "      <td>49026</td>\n",
       "      <td>The Dark Knight Rises</td>\n",
       "      <td>[Following, the, death, of, District, Attorney...</td>\n",
       "    </tr>\n",
       "    <tr>\n",
       "      <th>4</th>\n",
       "      <td>49529</td>\n",
       "      <td>John Carter</td>\n",
       "      <td>[John, Carter, is, a, war-weary,, former, mili...</td>\n",
       "    </tr>\n",
       "    <tr>\n",
       "      <th>...</th>\n",
       "      <td>...</td>\n",
       "      <td>...</td>\n",
       "      <td>...</td>\n",
       "    </tr>\n",
       "    <tr>\n",
       "      <th>4804</th>\n",
       "      <td>9367</td>\n",
       "      <td>El Mariachi</td>\n",
       "      <td>[El, Mariachi, just, wants, to, play, his, gui...</td>\n",
       "    </tr>\n",
       "    <tr>\n",
       "      <th>4805</th>\n",
       "      <td>72766</td>\n",
       "      <td>Newlyweds</td>\n",
       "      <td>[A, newlywed, couple's, honeymoon, is, upended...</td>\n",
       "    </tr>\n",
       "    <tr>\n",
       "      <th>4806</th>\n",
       "      <td>231617</td>\n",
       "      <td>Signed, Sealed, Delivered</td>\n",
       "      <td>[\"Signed,, Sealed,, Delivered\", introduces, a,...</td>\n",
       "    </tr>\n",
       "    <tr>\n",
       "      <th>4807</th>\n",
       "      <td>126186</td>\n",
       "      <td>Shanghai Calling</td>\n",
       "      <td>[When, ambitious, New, York, attorney, Sam, is...</td>\n",
       "    </tr>\n",
       "    <tr>\n",
       "      <th>4808</th>\n",
       "      <td>25975</td>\n",
       "      <td>My Date with Drew</td>\n",
       "      <td>[Ever, since, the, second, grade, when, he, fi...</td>\n",
       "    </tr>\n",
       "  </tbody>\n",
       "</table>\n",
       "<p>4806 rows × 3 columns</p>\n",
       "</div>"
      ],
      "text/plain": [
       "      movie_id                                     title  \\\n",
       "0        19995                                    Avatar   \n",
       "1          285  Pirates of the Caribbean: At World's End   \n",
       "2       206647                                   Spectre   \n",
       "3        49026                     The Dark Knight Rises   \n",
       "4        49529                               John Carter   \n",
       "...        ...                                       ...   \n",
       "4804      9367                               El Mariachi   \n",
       "4805     72766                                 Newlyweds   \n",
       "4806    231617                 Signed, Sealed, Delivered   \n",
       "4807    126186                          Shanghai Calling   \n",
       "4808     25975                         My Date with Drew   \n",
       "\n",
       "                                                   tags  \n",
       "0     [In, the, 22nd, century,, a, paraplegic, Marin...  \n",
       "1     [Captain, Barbossa,, long, believed, to, be, d...  \n",
       "2     [A, cryptic, message, from, Bond’s, past, send...  \n",
       "3     [Following, the, death, of, District, Attorney...  \n",
       "4     [John, Carter, is, a, war-weary,, former, mili...  \n",
       "...                                                 ...  \n",
       "4804  [El, Mariachi, just, wants, to, play, his, gui...  \n",
       "4805  [A, newlywed, couple's, honeymoon, is, upended...  \n",
       "4806  [\"Signed,, Sealed,, Delivered\", introduces, a,...  \n",
       "4807  [When, ambitious, New, York, attorney, Sam, is...  \n",
       "4808  [Ever, since, the, second, grade, when, he, fi...  \n",
       "\n",
       "[4806 rows x 3 columns]"
      ]
     },
     "execution_count": 186,
     "metadata": {},
     "output_type": "execute_result"
    }
   ],
   "source": [
    "new_df"
   ]
  },
  {
   "cell_type": "code",
   "execution_count": 187,
   "id": "b9e6e22f-1908-4d2a-af45-7e3708f80962",
   "metadata": {},
   "outputs": [
    {
     "data": {
      "text/plain": [
       "0       In the 22nd century, a paraplegic Marine is di...\n",
       "1       Captain Barbossa, long believed to be dead, ha...\n",
       "2       A cryptic message from Bond’s past sends him o...\n",
       "3       Following the death of District Attorney Harve...\n",
       "4       John Carter is a war-weary, former military ca...\n",
       "                              ...                        \n",
       "4804    El Mariachi just wants to play his guitar and ...\n",
       "4805    A newlywed couple's honeymoon is upended by th...\n",
       "4806    \"Signed, Sealed, Delivered\" introduces a dedic...\n",
       "4807    When ambitious New York attorney Sam is sent t...\n",
       "4808    Ever since the second grade when he first saw ...\n",
       "Name: tags, Length: 4806, dtype: object"
      ]
     },
     "execution_count": 187,
     "metadata": {},
     "output_type": "execute_result"
    }
   ],
   "source": [
    "new_df['tags'].apply(lambda x:' '.join(x))"
   ]
  },
  {
   "cell_type": "code",
   "execution_count": 188,
   "id": "2f5813f5-5bc2-46cc-b422-28e6043b56fa",
   "metadata": {},
   "outputs": [
    {
     "name": "stderr",
     "output_type": "stream",
     "text": [
      "C:\\Users\\hp\\AppData\\Local\\Temp\\ipykernel_11604\\2266712157.py:1: SettingWithCopyWarning: \n",
      "A value is trying to be set on a copy of a slice from a DataFrame.\n",
      "Try using .loc[row_indexer,col_indexer] = value instead\n",
      "\n",
      "See the caveats in the documentation: https://pandas.pydata.org/pandas-docs/stable/user_guide/indexing.html#returning-a-view-versus-a-copy\n",
      "  new_df['tags'] = new_df['tags'].apply(lambda x:' '.join(x))\n"
     ]
    }
   ],
   "source": [
    "new_df['tags'] = new_df['tags'].apply(lambda x:' '.join(x))"
   ]
  },
  {
   "cell_type": "code",
   "execution_count": 189,
   "id": "729459f1-372c-4621-ba60-d07b05185481",
   "metadata": {},
   "outputs": [
    {
     "data": {
      "text/html": [
       "<div>\n",
       "<style scoped>\n",
       "    .dataframe tbody tr th:only-of-type {\n",
       "        vertical-align: middle;\n",
       "    }\n",
       "\n",
       "    .dataframe tbody tr th {\n",
       "        vertical-align: top;\n",
       "    }\n",
       "\n",
       "    .dataframe thead th {\n",
       "        text-align: right;\n",
       "    }\n",
       "</style>\n",
       "<table border=\"1\" class=\"dataframe\">\n",
       "  <thead>\n",
       "    <tr style=\"text-align: right;\">\n",
       "      <th></th>\n",
       "      <th>movie_id</th>\n",
       "      <th>title</th>\n",
       "      <th>tags</th>\n",
       "    </tr>\n",
       "  </thead>\n",
       "  <tbody>\n",
       "    <tr>\n",
       "      <th>0</th>\n",
       "      <td>19995</td>\n",
       "      <td>Avatar</td>\n",
       "      <td>In the 22nd century, a paraplegic Marine is di...</td>\n",
       "    </tr>\n",
       "    <tr>\n",
       "      <th>1</th>\n",
       "      <td>285</td>\n",
       "      <td>Pirates of the Caribbean: At World's End</td>\n",
       "      <td>Captain Barbossa, long believed to be dead, ha...</td>\n",
       "    </tr>\n",
       "    <tr>\n",
       "      <th>2</th>\n",
       "      <td>206647</td>\n",
       "      <td>Spectre</td>\n",
       "      <td>A cryptic message from Bond’s past sends him o...</td>\n",
       "    </tr>\n",
       "    <tr>\n",
       "      <th>3</th>\n",
       "      <td>49026</td>\n",
       "      <td>The Dark Knight Rises</td>\n",
       "      <td>Following the death of District Attorney Harve...</td>\n",
       "    </tr>\n",
       "    <tr>\n",
       "      <th>4</th>\n",
       "      <td>49529</td>\n",
       "      <td>John Carter</td>\n",
       "      <td>John Carter is a war-weary, former military ca...</td>\n",
       "    </tr>\n",
       "  </tbody>\n",
       "</table>\n",
       "</div>"
      ],
      "text/plain": [
       "   movie_id                                     title  \\\n",
       "0     19995                                    Avatar   \n",
       "1       285  Pirates of the Caribbean: At World's End   \n",
       "2    206647                                   Spectre   \n",
       "3     49026                     The Dark Knight Rises   \n",
       "4     49529                               John Carter   \n",
       "\n",
       "                                                tags  \n",
       "0  In the 22nd century, a paraplegic Marine is di...  \n",
       "1  Captain Barbossa, long believed to be dead, ha...  \n",
       "2  A cryptic message from Bond’s past sends him o...  \n",
       "3  Following the death of District Attorney Harve...  \n",
       "4  John Carter is a war-weary, former military ca...  "
      ]
     },
     "execution_count": 189,
     "metadata": {},
     "output_type": "execute_result"
    }
   ],
   "source": [
    "new_df.head()"
   ]
  },
  {
   "cell_type": "code",
   "execution_count": 190,
   "id": "c2695789-e41b-42a1-bae9-14aa80eb1277",
   "metadata": {},
   "outputs": [
    {
     "data": {
      "text/plain": [
       "'In the 22nd century, a paraplegic Marine is dispatched to the moon Pandora on a unique mission, but becomes torn between following orders and protecting an alien civilization. Action Adventure Fantasy ScienceFiction cultureclash future spacewar spacecolony society spacetravel futuristic romance space alien tribe alienplanet cgi marine soldier battle loveaffair antiwar powerrelations mindandsoul 3d SamWorthington ZoeSaldana SigourneyWeaver StephenLang MichelleRodriguez GiovanniRibisi JamesHorner JamesCameron JamesCameron MauroFiore ChilingLin'"
      ]
     },
     "execution_count": 190,
     "metadata": {},
     "output_type": "execute_result"
    }
   ],
   "source": [
    "new_df['tags'][0]"
   ]
  },
  {
   "cell_type": "code",
   "execution_count": 191,
   "id": "37a40540-5a9e-4af7-a709-46a19ca73950",
   "metadata": {},
   "outputs": [
    {
     "name": "stderr",
     "output_type": "stream",
     "text": [
      "C:\\Users\\hp\\AppData\\Local\\Temp\\ipykernel_11604\\3214958533.py:1: SettingWithCopyWarning: \n",
      "A value is trying to be set on a copy of a slice from a DataFrame.\n",
      "Try using .loc[row_indexer,col_indexer] = value instead\n",
      "\n",
      "See the caveats in the documentation: https://pandas.pydata.org/pandas-docs/stable/user_guide/indexing.html#returning-a-view-versus-a-copy\n",
      "  new_df['tags'] = new_df['tags'].apply(lambda x:x.lower())\n"
     ]
    }
   ],
   "source": [
    "new_df['tags'] = new_df['tags'].apply(lambda x:x.lower())"
   ]
  },
  {
   "cell_type": "code",
   "execution_count": 193,
   "id": "e77eb1a9-3f17-4111-a728-81d0aa6c0783",
   "metadata": {},
   "outputs": [
    {
     "data": {
      "text/html": [
       "<div>\n",
       "<style scoped>\n",
       "    .dataframe tbody tr th:only-of-type {\n",
       "        vertical-align: middle;\n",
       "    }\n",
       "\n",
       "    .dataframe tbody tr th {\n",
       "        vertical-align: top;\n",
       "    }\n",
       "\n",
       "    .dataframe thead th {\n",
       "        text-align: right;\n",
       "    }\n",
       "</style>\n",
       "<table border=\"1\" class=\"dataframe\">\n",
       "  <thead>\n",
       "    <tr style=\"text-align: right;\">\n",
       "      <th></th>\n",
       "      <th>movie_id</th>\n",
       "      <th>title</th>\n",
       "      <th>tags</th>\n",
       "    </tr>\n",
       "  </thead>\n",
       "  <tbody>\n",
       "    <tr>\n",
       "      <th>0</th>\n",
       "      <td>19995</td>\n",
       "      <td>Avatar</td>\n",
       "      <td>in the 22nd century, a paraplegic marine is di...</td>\n",
       "    </tr>\n",
       "    <tr>\n",
       "      <th>1</th>\n",
       "      <td>285</td>\n",
       "      <td>Pirates of the Caribbean: At World's End</td>\n",
       "      <td>captain barbossa, long believed to be dead, ha...</td>\n",
       "    </tr>\n",
       "    <tr>\n",
       "      <th>2</th>\n",
       "      <td>206647</td>\n",
       "      <td>Spectre</td>\n",
       "      <td>a cryptic message from bond’s past sends him o...</td>\n",
       "    </tr>\n",
       "    <tr>\n",
       "      <th>3</th>\n",
       "      <td>49026</td>\n",
       "      <td>The Dark Knight Rises</td>\n",
       "      <td>following the death of district attorney harve...</td>\n",
       "    </tr>\n",
       "    <tr>\n",
       "      <th>4</th>\n",
       "      <td>49529</td>\n",
       "      <td>John Carter</td>\n",
       "      <td>john carter is a war-weary, former military ca...</td>\n",
       "    </tr>\n",
       "  </tbody>\n",
       "</table>\n",
       "</div>"
      ],
      "text/plain": [
       "   movie_id                                     title  \\\n",
       "0     19995                                    Avatar   \n",
       "1       285  Pirates of the Caribbean: At World's End   \n",
       "2    206647                                   Spectre   \n",
       "3     49026                     The Dark Knight Rises   \n",
       "4     49529                               John Carter   \n",
       "\n",
       "                                                tags  \n",
       "0  in the 22nd century, a paraplegic marine is di...  \n",
       "1  captain barbossa, long believed to be dead, ha...  \n",
       "2  a cryptic message from bond’s past sends him o...  \n",
       "3  following the death of district attorney harve...  \n",
       "4  john carter is a war-weary, former military ca...  "
      ]
     },
     "execution_count": 193,
     "metadata": {},
     "output_type": "execute_result"
    }
   ],
   "source": [
    "new_df.head()"
   ]
  },
  {
   "cell_type": "code",
   "execution_count": 253,
   "id": "06d2d5e0-6fe4-4186-b018-fbedabb7560e",
   "metadata": {},
   "outputs": [],
   "source": [
    "#well do stemming now. stemming detects words that have the same meaning ex: loved, loving, love to love. love, love\n",
    "import nltk"
   ]
  },
  {
   "cell_type": "code",
   "execution_count": 254,
   "id": "a96e842f-be0a-4582-a44b-cc4c35594f86",
   "metadata": {},
   "outputs": [],
   "source": [
    "from nltk.stem.porter import PorterStemmer\n",
    "ps = PorterStemmer()"
   ]
  },
  {
   "cell_type": "code",
   "execution_count": 255,
   "id": "8748e159-0f6a-4dc2-b3b2-38bd5eaea385",
   "metadata": {},
   "outputs": [],
   "source": [
    "def stem(text):\n",
    "    y = []\n",
    "\n",
    "    for i in text.split():\n",
    "        y.append(ps.stem(i))\n",
    "\n",
    "    return \" \".join(y)"
   ]
  },
  {
   "cell_type": "code",
   "execution_count": 256,
   "id": "1a1ad9a1-0148-4853-9634-7c2ce7866c8c",
   "metadata": {},
   "outputs": [
    {
     "name": "stderr",
     "output_type": "stream",
     "text": [
      "C:\\Users\\hp\\AppData\\Local\\Temp\\ipykernel_11604\\3213734980.py:1: SettingWithCopyWarning: \n",
      "A value is trying to be set on a copy of a slice from a DataFrame.\n",
      "Try using .loc[row_indexer,col_indexer] = value instead\n",
      "\n",
      "See the caveats in the documentation: https://pandas.pydata.org/pandas-docs/stable/user_guide/indexing.html#returning-a-view-versus-a-copy\n",
      "  new_df['tags'] = new_df['tags'].apply(stem)\n"
     ]
    }
   ],
   "source": [
    "new_df['tags'] = new_df['tags'].apply(stem)"
   ]
  },
  {
   "cell_type": "code",
   "execution_count": 257,
   "id": "992f5242-b338-4fe4-b40b-fe5daa8d71ae",
   "metadata": {},
   "outputs": [],
   "source": [
    "from sklearn.feature_extraction.text import CountVectorizer"
   ]
  },
  {
   "cell_type": "code",
   "execution_count": 280,
   "id": "b852c608-b30f-4977-a8d3-cdc35ba1cba8",
   "metadata": {},
   "outputs": [],
   "source": [
    "cv = CountVectorizer(max_features=8000, stop_words='english')\n"
   ]
  },
  {
   "cell_type": "code",
   "execution_count": 281,
   "id": "1bcac103-8e53-46cf-ba02-29b5a53952db",
   "metadata": {},
   "outputs": [],
   "source": [
    "vectors = cv.fit_transform(new_df['tags']).toarray()"
   ]
  },
  {
   "cell_type": "code",
   "execution_count": 282,
   "id": "b5288b39-f49d-44fe-8e4a-60d62dba66c7",
   "metadata": {},
   "outputs": [
    {
     "ename": "AttributeError",
     "evalue": "'CountVectorizer' object has no attribute 'get_feature_names'",
     "output_type": "error",
     "traceback": [
      "\u001b[1;31m---------------------------------------------------------------------------\u001b[0m",
      "\u001b[1;31mAttributeError\u001b[0m                            Traceback (most recent call last)",
      "Cell \u001b[1;32mIn[282], line 1\u001b[0m\n\u001b[1;32m----> 1\u001b[0m feature_names \u001b[38;5;241m=\u001b[39m \u001b[43mcv\u001b[49m\u001b[38;5;241;43m.\u001b[39;49m\u001b[43mget_feature_names\u001b[49m()\n",
      "\u001b[1;31mAttributeError\u001b[0m: 'CountVectorizer' object has no attribute 'get_feature_names'"
     ]
    }
   ],
   "source": [
    "feature_names = cv.get_feature_names()"
   ]
  },
  {
   "cell_type": "code",
   "execution_count": null,
   "id": "13e4baf7-fdd5-40b3-b346-0f5294566bf5",
   "metadata": {},
   "outputs": [],
   "source": [
    "feature_names = cv.get_feature_names_out()\n",
    "print(feature_names)"
   ]
  },
  {
   "cell_type": "code",
   "execution_count": null,
   "id": "deab4395-b058-448a-b50a-723e37fbac83",
   "metadata": {},
   "outputs": [],
   "source": [
    "feature_names = cv.get_feature_names_out()\n",
    "for feature_name in feature_names:\n",
    "    print(feature_name)\n"
   ]
  },
  {
   "cell_type": "code",
   "execution_count": 283,
   "id": "6579e8cc-c794-43e9-bb0d-c05c73d53b5c",
   "metadata": {},
   "outputs": [
    {
     "data": {
      "text/plain": [
       "'love'"
      ]
     },
     "execution_count": 283,
     "metadata": {},
     "output_type": "execute_result"
    }
   ],
   "source": [
    "#loved, loving, love\n",
    "ps.stem('loving')"
   ]
  },
  {
   "cell_type": "code",
   "execution_count": 284,
   "id": "a76b950d-b151-43c9-aebe-9a5f812d569e",
   "metadata": {},
   "outputs": [],
   "source": [
    "from sklearn.metrics.pairwise import cosine_similarity"
   ]
  },
  {
   "cell_type": "code",
   "execution_count": 285,
   "id": "e1acc9b5-cd2a-4317-a1f9-083d985b6608",
   "metadata": {},
   "outputs": [],
   "source": [
    "similarity = cosine_similarity(vectors)"
   ]
  },
  {
   "cell_type": "code",
   "execution_count": 286,
   "id": "a4f9351e-335f-48b1-bd80-0dbfb71eddd7",
   "metadata": {},
   "outputs": [
    {
     "data": {
      "text/plain": [
       "(4806, 4806)"
      ]
     },
     "execution_count": 286,
     "metadata": {},
     "output_type": "execute_result"
    }
   ],
   "source": [
    "cosine_similarity(vectors).shape"
   ]
  },
  {
   "cell_type": "code",
   "execution_count": 287,
   "id": "9b4b5de8-7f03-4452-b9c9-f50c54954abe",
   "metadata": {},
   "outputs": [
    {
     "data": {
      "text/plain": [
       "array([[1.        , 0.06419407, 0.06748819, ..., 0.03809697, 0.        ,\n",
       "        0.        ],\n",
       "       [0.06419407, 1.        , 0.05006262, ..., 0.0211952 , 0.        ,\n",
       "        0.02204334],\n",
       "       [0.06748819, 0.05006262, 1.        , ..., 0.02228283, 0.        ,\n",
       "        0.        ],\n",
       "       ...,\n",
       "       [0.03809697, 0.0211952 , 0.02228283, ..., 1.        , 0.03809697,\n",
       "        0.03924588],\n",
       "       [0.        , 0.        , 0.        , ..., 0.03809697, 1.        ,\n",
       "        0.07924289],\n",
       "       [0.        , 0.02204334, 0.        , ..., 0.03924588, 0.07924289,\n",
       "        1.        ]])"
      ]
     },
     "execution_count": 287,
     "metadata": {},
     "output_type": "execute_result"
    }
   ],
   "source": [
    "similarity"
   ]
  },
  {
   "cell_type": "code",
   "execution_count": 289,
   "id": "7c5416ad-8682-45a3-8730-f47b9aa08cc8",
   "metadata": {},
   "outputs": [
    {
     "data": {
      "text/plain": [
       "[(2405, 0.264197974633739),\n",
       " (1214, 0.23112508176051214),\n",
       " (3728, 0.21182963643408087),\n",
       " (507, 0.2064062748461345),\n",
       " (539, 0.20518233866439894)]"
      ]
     },
     "execution_count": 289,
     "metadata": {},
     "output_type": "execute_result"
    }
   ],
   "source": [
    "sorted(list(enumerate(similarity[0])), reverse=True, key=lambda x:x[1])[1:6]  #basically 1st movie ka har ek ke saath similarity sorted in desc toh most similar sabse upar key fn kyuku index second se lenge cause 1st movie ka 1st ke saath similarity 1 hee hoga"
   ]
  },
  {
   "cell_type": "code",
   "execution_count": 308,
   "id": "757de39a-377d-4f31-b728-639aeab4474b",
   "metadata": {},
   "outputs": [],
   "source": [
    "def recommend(movie):\n",
    "    movie_index = new_df[new_df['title'].str.lower() == movie.lower()].index\n",
    "    if len(movie_index) == 0:\n",
    "        print(\"Movie not found.\")\n",
    "        return\n",
    "    movie_index = movie_index[0]\n",
    "    distances = similarity[movie_index]\n",
    "    movies_list = sorted(list(enumerate(distances)), reverse=True, key=lambda x: x[1])[1:6]\n",
    "\n",
    "    for i in movies_list:\n",
    "        print(new_df.iloc[i[0]].title)\n"
   ]
  },
  {
   "cell_type": "code",
   "execution_count": 309,
   "id": "0f9ca94c-c795-46dd-91da-e35b9806fb0a",
   "metadata": {},
   "outputs": [
    {
     "name": "stdout",
     "output_type": "stream",
     "text": [
      "42\n",
      "A League of Their Own\n",
      "The Benchwarmers\n",
      "My All American\n",
      "The Damned United\n"
     ]
    }
   ],
   "source": [
    "recommend('Moneyball')"
   ]
  },
  {
   "cell_type": "code",
   "execution_count": 311,
   "id": "6e99aedc-2d60-4281-bf85-44b9afe4dea4",
   "metadata": {},
   "outputs": [
    {
     "name": "stdout",
     "output_type": "stream",
     "text": [
      "Aliens\n",
      "Aliens vs Predator: Requiem\n",
      "Falcon Rising\n",
      "Independence Day\n",
      "Titan A.E.\n"
     ]
    }
   ],
   "source": [
    "recommend('avatar')"
   ]
  },
  {
   "cell_type": "code",
   "execution_count": 315,
   "id": "260df9b1-413e-4e30-8383-60601173ff8d",
   "metadata": {},
   "outputs": [],
   "source": [
    "import pickle"
   ]
  },
  {
   "cell_type": "code",
   "execution_count": 314,
   "id": "7c01e513-4198-4e5b-9bb1-43c779cc612c",
   "metadata": {},
   "outputs": [],
   "source": [
    "pickle.dump(new_df, open('movies.pkl', 'wb'))  #for putting movie titles on website dropdown"
   ]
  },
  {
   "cell_type": "code",
   "execution_count": 316,
   "id": "f33b654a-06af-489c-8998-d3fffb6a3db4",
   "metadata": {},
   "outputs": [],
   "source": [
    "# pickle.dump(similarity, open('similarity.pkl', 'wb'))\n",
    "\n"
   ]
  },
  {
   "cell_type": "code",
   "execution_count": null,
   "id": "cedaa5d5-16f8-4042-8c8d-a1443b0109da",
   "metadata": {},
   "outputs": [],
   "source": []
  }
 ],
 "metadata": {
  "kernelspec": {
   "display_name": "Python 3 (ipykernel)",
   "language": "python",
   "name": "python3"
  },
  "language_info": {
   "codemirror_mode": {
    "name": "ipython",
    "version": 3
   },
   "file_extension": ".py",
   "mimetype": "text/x-python",
   "name": "python",
   "nbconvert_exporter": "python",
   "pygments_lexer": "ipython3",
   "version": "3.12.1"
  }
 },
 "nbformat": 4,
 "nbformat_minor": 5
}
